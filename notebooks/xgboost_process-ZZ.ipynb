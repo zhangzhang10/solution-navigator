{
 "cells": [
  {
   "cell_type": "markdown",
   "metadata": {
    "toc": true
   },
   "source": [
    "<h1>Table of Contents<span class=\"tocSkip\"></span></h1>\n",
    "<div class=\"toc\"><ul class=\"toc-item\"><li><span><a href=\"#perf,-4-DP-SKL-8180-node,-8xSKL8180,-56-cores/socket\" data-toc-modified-id=\"perf,-4-DP-SKL-8180-node,-8xSKL8180,-56-cores/socket-1\"><span class=\"toc-item-num\">1&nbsp;&nbsp;</span>perf, 4 DP SKL 8180 node, 8xSKL8180, 56 cores/socket</a></span></li><li><span><a href=\"#perf,-8-DP-CLK-6252-node,-16xCLK6252,-48-cores/socket\" data-toc-modified-id=\"perf,-8-DP-CLK-6252-node,-16xCLK6252,-48-cores/socket-2\"><span class=\"toc-item-num\">2&nbsp;&nbsp;</span>perf, 8 DP CLK 6252 node, 16xCLK6252, 48 cores/socket</a></span></li><li><span><a href=\"#Imports\" data-toc-modified-id=\"Imports-3\"><span class=\"toc-item-num\">3&nbsp;&nbsp;</span>Imports</a></span></li><li><span><a href=\"#Start-analysis-cluster-and-run-'sparklog.ipynb'\" data-toc-modified-id=\"Start-analysis-cluster-and-run-'sparklog.ipynb'-4\"><span class=\"toc-item-num\">4&nbsp;&nbsp;</span>Start analysis cluster and run 'sparklog.ipynb'</a></span></li><li><span><a href=\"#xgboost-0.90-single-node-batch\" data-toc-modified-id=\"xgboost-0.90-single-node-batch-5\"><span class=\"toc-item-num\">5&nbsp;&nbsp;</span>xgboost-0.90 single node batch</a></span></li><li><span><a href=\"#xgboost-0.90-OPT-single-node-batch\" data-toc-modified-id=\"xgboost-0.90-OPT-single-node-batch-6\"><span class=\"toc-item-num\">6&nbsp;&nbsp;</span>xgboost-0.90 OPT single node batch</a></span></li><li><span><a href=\"#xgboost-0.90-3.5GBx4-OMP-mode\" data-toc-modified-id=\"xgboost-0.90-3.5GBx4-OMP-mode-7\"><span class=\"toc-item-num\">7&nbsp;&nbsp;</span>xgboost-0.90 3.5GBx4 OMP mode</a></span></li><li><span><a href=\"#xgboost-0.90-OPT-3.5GBx4-OMP-mode\" data-toc-modified-id=\"xgboost-0.90-OPT-3.5GBx4-OMP-mode-8\"><span class=\"toc-item-num\">8&nbsp;&nbsp;</span>xgboost-0.90 OPT 3.5GBx4 OMP mode</a></span></li><li><span><a href=\"#xgboost-0.90-3.5GBx4-Task-mode\" data-toc-modified-id=\"xgboost-0.90-3.5GBx4-Task-mode-9\"><span class=\"toc-item-num\">9&nbsp;&nbsp;</span>xgboost-0.90 3.5GBx4 Task mode</a></span></li><li><span><a href=\"#xgboost-0.90-OPT-3.5GBx4-Task-mode\" data-toc-modified-id=\"xgboost-0.90-OPT-3.5GBx4-Task-mode-10\"><span class=\"toc-item-num\">10&nbsp;&nbsp;</span>xgboost-0.90 OPT 3.5GBx4 Task mode</a></span></li><li><span><a href=\"#xgboost-0.90-64GB-OMP-mode\" data-toc-modified-id=\"xgboost-0.90-64GB-OMP-mode-11\"><span class=\"toc-item-num\">11&nbsp;&nbsp;</span>xgboost-0.90 64GB OMP mode</a></span></li><li><span><a href=\"#xgboost-0.90-OPT-64GB-OMP-mode\" data-toc-modified-id=\"xgboost-0.90-OPT-64GB-OMP-mode-12\"><span class=\"toc-item-num\">12&nbsp;&nbsp;</span>xgboost-0.90 OPT 64GB OMP mode</a></span></li><li><span><a href=\"#xgboost-0.90-64GB-Task-mode\" data-toc-modified-id=\"xgboost-0.90-64GB-Task-mode-13\"><span class=\"toc-item-num\">13&nbsp;&nbsp;</span>xgboost-0.90 64GB Task mode</a></span></li><li><span><a href=\"#xgboost-0.90-OPT-64GB-Task-mode\" data-toc-modified-id=\"xgboost-0.90-OPT-64GB-Task-mode-14\"><span class=\"toc-item-num\">14&nbsp;&nbsp;</span>xgboost-0.90 OPT 64GB Task mode</a></span></li><li><span><a href=\"#Scalability:-2-node\" data-toc-modified-id=\"Scalability:-2-node-15\"><span class=\"toc-item-num\">15&nbsp;&nbsp;</span>Scalability: 2-node</a></span><ul class=\"toc-item\"><li><ul class=\"toc-item\"><li><span><a href=\"#Run-1-(Total-time-=-1518.5-seconds)\" data-toc-modified-id=\"Run-1-(Total-time-=-1518.5-seconds)-15.0.1\"><span class=\"toc-item-num\">15.0.1&nbsp;&nbsp;</span>Run 1 (Total time = 1518.5 seconds)</a></span></li><li><span><a href=\"#Run-2-(Total-time-=-1450.1-seconds)\" data-toc-modified-id=\"Run-2-(Total-time-=-1450.1-seconds)-15.0.2\"><span class=\"toc-item-num\">15.0.2&nbsp;&nbsp;</span>Run 2 (Total time = 1450.1 seconds)</a></span></li><li><span><a href=\"#Run-3-(Total-time-=-1434.5-seconds)\" data-toc-modified-id=\"Run-3-(Total-time-=-1434.5-seconds)-15.0.3\"><span class=\"toc-item-num\">15.0.3&nbsp;&nbsp;</span>Run 3 (Total time = 1434.5 seconds)</a></span></li></ul></li></ul></li><li><span><a href=\"#Scalability:-3-node\" data-toc-modified-id=\"Scalability:-3-node-16\"><span class=\"toc-item-num\">16&nbsp;&nbsp;</span>Scalability: 3-node</a></span><ul class=\"toc-item\"><li><ul class=\"toc-item\"><li><span><a href=\"#Run-1-(Total-time-=-1081.6-seconds)\" data-toc-modified-id=\"Run-1-(Total-time-=-1081.6-seconds)-16.0.1\"><span class=\"toc-item-num\">16.0.1&nbsp;&nbsp;</span>Run 1 (Total time = 1081.6 seconds)</a></span></li><li><span><a href=\"#Run-2-(Total-time-=-1010.7-seconds)\" data-toc-modified-id=\"Run-2-(Total-time-=-1010.7-seconds)-16.0.2\"><span class=\"toc-item-num\">16.0.2&nbsp;&nbsp;</span>Run 2 (Total time = 1010.7 seconds)</a></span></li><li><span><a href=\"#Run-3-(Total-time-=-995.6-seconds)\" data-toc-modified-id=\"Run-3-(Total-time-=-995.6-seconds)-16.0.3\"><span class=\"toc-item-num\">16.0.3&nbsp;&nbsp;</span>Run 3 (Total time = 995.6 seconds)</a></span></li></ul></li></ul></li><li><span><a href=\"#Scalability:-4-node\" data-toc-modified-id=\"Scalability:-4-node-17\"><span class=\"toc-item-num\">17&nbsp;&nbsp;</span>Scalability: 4-node</a></span><ul class=\"toc-item\"><li><ul class=\"toc-item\"><li><span><a href=\"#Run-1-(Total-time-=-857.3-seconds)\" data-toc-modified-id=\"Run-1-(Total-time-=-857.3-seconds)-17.0.1\"><span class=\"toc-item-num\">17.0.1&nbsp;&nbsp;</span>Run 1 (Total time = 857.3 seconds)</a></span></li><li><span><a href=\"#Run-2-(Total-time-=-758.7-seconds)\" data-toc-modified-id=\"Run-2-(Total-time-=-758.7-seconds)-17.0.2\"><span class=\"toc-item-num\">17.0.2&nbsp;&nbsp;</span>Run 2 (Total time = 758.7 seconds)</a></span></li><li><span><a href=\"#Run-3-(Total-time-=-787.0-seconds)\" data-toc-modified-id=\"Run-3-(Total-time-=-787.0-seconds)-17.0.3\"><span class=\"toc-item-num\">17.0.3&nbsp;&nbsp;</span>Run 3 (Total time = 787.0 seconds)</a></span></li></ul></li></ul></li><li><span><a href=\"#56-OMP-threads-test\" data-toc-modified-id=\"56-OMP-threads-test-18\"><span class=\"toc-item-num\">18&nbsp;&nbsp;</span>56 OMP threads test</a></span></li><li><span><a href=\"#8-OMP-threads,-re-run-4-node-test\" data-toc-modified-id=\"8-OMP-threads,-re-run-4-node-test-19\"><span class=\"toc-item-num\">19&nbsp;&nbsp;</span>8 OMP threads, re run 4 node test</a></span></li><li><span><a href=\"#PR4824,-OMP-mode,-4-node\" data-toc-modified-id=\"PR4824,-OMP-mode,-4-node-20\"><span class=\"toc-item-num\">20&nbsp;&nbsp;</span>PR4824, OMP mode, 4 node</a></span><ul class=\"toc-item\"><li><ul class=\"toc-item\"><li><span><a href=\"#(data-copy-+-training)-vs.-(data-copy-only)\" data-toc-modified-id=\"(data-copy-+-training)-vs.-(data-copy-only)-20.0.1\"><span class=\"toc-item-num\">20.0.1&nbsp;&nbsp;</span>(data copy + training) vs. (data copy only)</a></span></li></ul></li><li><span><a href=\"#RDD[DMatrix]-with-coalesce\" data-toc-modified-id=\"RDD[DMatrix]-with-coalesce-20.1\"><span class=\"toc-item-num\">20.1&nbsp;&nbsp;</span>RDD[DMatrix] with coalesce</a></span></li><li><span><a href=\"#RDD[DMatrix]-without-coalesce\" data-toc-modified-id=\"RDD[DMatrix]-without-coalesce-20.2\"><span class=\"toc-item-num\">20.2&nbsp;&nbsp;</span>RDD[DMatrix] without coalesce</a></span></li><li><span><a href=\"#XGBoost-training-with-batched-DMatrix-(14/4/1)-Nov-24-2019\" data-toc-modified-id=\"XGBoost-training-with-batched-DMatrix-(14/4/1)-Nov-24-2019-20.3\"><span class=\"toc-item-num\">20.3&nbsp;&nbsp;</span>XGBoost training with batched DMatrix (14/4/1) Nov 24 2019</a></span></li><li><span><a href=\"#XGBoost-training-with-batched-DMatrix-(7/8/1)-Nov-24-2019\" data-toc-modified-id=\"XGBoost-training-with-batched-DMatrix-(7/8/1)-Nov-24-2019-20.4\"><span class=\"toc-item-num\">20.4&nbsp;&nbsp;</span>XGBoost training with batched DMatrix (7/8/1) Nov 24 2019</a></span></li><li><span><a href=\"#XGBoost-training-with-batched-DMatrix-(7/16/1)-Dec-8-2019\" data-toc-modified-id=\"XGBoost-training-with-batched-DMatrix-(7/16/1)-Dec-8-2019-20.5\"><span class=\"toc-item-num\">20.5&nbsp;&nbsp;</span>XGBoost training with batched DMatrix (7/16/1) Dec 8 2019</a></span></li></ul></li><li><span><a href=\"#PR4824,-1-executor-per-node,-4-node\" data-toc-modified-id=\"PR4824,-1-executor-per-node,-4-node-21\"><span class=\"toc-item-num\">21&nbsp;&nbsp;</span>PR4824, 1 executor per node, 4 node</a></span></li><li><span><a href=\"#Traceview-with-function-timing-information\" data-toc-modified-id=\"Traceview-with-function-timing-information-22\"><span class=\"toc-item-num\">22&nbsp;&nbsp;</span>Traceview with function timing information</a></span></li><li><span><a href=\"#Stop-analysis-cluster\" data-toc-modified-id=\"Stop-analysis-cluster-23\"><span class=\"toc-item-num\">23&nbsp;&nbsp;</span>Stop analysis cluster</a></span></li></ul></div>"
   ]
  },
  {
   "cell_type": "markdown",
   "metadata": {},
   "source": [
    "# perf, 4 DP SKL 8180 node, 8xSKL8180, 56 cores/socket\n",
    "\n",
    "\n",
    "|  XGBoost |  Batch/Distr. | Data size | grow_policy | num_round | Time (sec) |                                                                 Trace                                    | \n",
    "|:--------:|:-------------:|:---------:|:-----------:|:---------:|:----------:|:-------------                                                                                              :|\n",
    "| 0.90    |     Batch   |   3.5GB |lossguide   |    100  |   162.3   |   <a href='http://sr525:1088/tracing_examples/trace_viewer.html#/tracing/test_data/xgboost-Egor-batch-1560446643.7216978.json'>7216978</a>           |\n",
    "| 0.90 OPT |     Batch   |   3.5GB |lossguide   |    100  |    58.0   |   <a href='http://sr525:1088/tracing_examples/trace_viewer.html#/tracing/test_data/xgboost-Egor-batch-1560446406.0024598.json'>0024598</a>           |\n",
    "| <font color=red>Rapids   |     <font color=red>1xV100    |  <font color=red> 3.5GB   |   <font color=red> lossguide   |  <font color=red> 100    |      <font color=red>55     </font> | ----- |\n",
    "|:--------:|:-------------:|:---------:|:---------:|:----------:|:-----------:|:---------:                                                                                                 |\n",
    "| 0.90    |  Distr. (OMP) |  3.5GBx4  |lossguide   |    100  |   1094.5 |  <a href='http://sr525:1088/tracing_examples/trace_viewer.html#/tracing/test_data/application_1559265927525_0102.json'>0102</a>                    |\n",
    "| 0.90 OPT |  Distr. (OMP) |  3.5GBx4  |lossguide   |    100  |   208.7  |  <a href='http://sr525:1088/tracing_examples/trace_viewer.html#/tracing/test_data/application_1559265927525_0106.json'>0106</a>                    |\n",
    "| 0.90    | Distr. (Task) |  3.5GBx4  |lossguide   |    100  |   943.1  |  <a href='http://sr525:1088/tracing_examples/trace_viewer.html#/tracing/test_data/application_1559265927525_0101.json'>0101</a>                    |\n",
    "| 0.90 OPT | Distr. (Task) |  3.5GBx4  |lossguide   |    100  |   245.3  |  <a href='http://sr525:1088/tracing_examples/trace_viewer.html#/tracing/test_data/application_1559265927525_0105.json'>0105</a>                    |\n",
    "| <font color=red>Rapids   |     <font color=red>16xV100     |   <font color=red>16 x 3.5GB   |   <font color=red> lossguide   |  <font color=red>    100    |      <font color=red>81.84      | ---- |\n",
    "|:--------:|:-------------:|:---------:|:---------:|:----------:|:---------:|:---------:|\n",
    "| 0.90    |  Distr. (OMP) |    64GB  |lossguide   |    100  |   2193.6 |  <a href='http://sr525:1088/tracing_examples/trace_viewer.html#/tracing/test_data/application_1559265927525_0087.json'>0087</a>                    |\n",
    "| 0.90 OPT |  Distr. (OMP) |    64GB  |lossguide   |    100  |   830.9  |  <a href='http://sr525:1088/tracing_examples/trace_viewer.html#/tracing/test_data/application_1559265927525_0110.json'>0110</a>                    |\n",
    "| 0.90    | Distr. (Task) |    64GB  |lossguide   |    100  |   1816.5 |  <a href='http://sr525:1088/tracing_examples/trace_viewer.html#/tracing/test_data/application_1559265927525_0086.json'>0086</a>                    |\n",
    "| 0.90 OPT | Distr. (Task) |    64GB  |lossguide   |    100  |   729.8  |  <a href='http://sr525:1088/tracing_examples/trace_viewer.html#/tracing/test_data/application_1559265927525_0109.json'>0109</a>                    |\n",
    "| <font color=red>Rapids   |     <font color=red>16xV100     |   <font color=red>64GB   |   <font color=red> lossguide   |  <font color=red>    100    |      <font color=red>116      | ---- |\n",
    "|  XGBoost |  Batch/Distr. | Data size | grow_policy | num_round | Time (sec) |                                                                 Trace                                    | \n",
    "|:========:|:=============:|:=========:|:==========:|:==========:|:==========:|:==========:                                                                                                |\n",
    "| 0.90    |     Batch   |   3.5GB | depthwise  |    100   |    153.8  | <a href='http://sr525:1088/tracing_examples/trace_viewer.html#/tracing/test_data/xgboost-Egor-batch-1560296289.9048827.json'>9048827</a>             |\n",
    "| 0.90 OPT |     Batch   |   3.5GB | depthwise  |    100   |   57.1   | <a href='http://sr525:1088/tracing_examples/trace_viewer.html#/tracing/test_data/xgboost-Egor-batch-1560296033.1330163.json'>1330163</a>             |\n",
    "| <font color=red>Rapids   |<font color=red>1xV100|<font color=red> 3.5GB|<font color=red> lossguide|<font color=red> 100|<font color=red>55</font> | -----                                                     |\n",
    "|:--------:|:-------------:|:---------:|:----------:|:----------:|:----------:|:---------:                                                                                                 |\n",
    "| 0.90    |  Distr. (OMP) |  3.5GBx4  |depthwise   |    100  |   271.2   |     <a href='http://sr525:1088/tracing_examples/trace_viewer.html#/tracing/test_data/application_1559265927525_0077.json'>0077</a>                |\n",
    "| 0.90 OPT |  Distr. (OMP) |  3.5GBx4  |depthwise   |    100  |   243.9   |     <a href='http://sr525:1088/tracing_examples/trace_viewer.html#/tracing/test_data/application_1559265927525_0079.json'>0079</a>                |\n",
    "| 0.90    | Distr. (Task) |  3.5GBx4  |depthwise   |    100  |   557.1   |     <a href='http://sr525:1088/tracing_examples/trace_viewer.html#/tracing/test_data/application_1559265927525_0076.json'>0076</a>                |\n",
    "| 0.90 OPT | Distr. (Task) |  3.5GBx4  |depthwise   |    100  |   278.0   |     <a href='http://sr525:1088/tracing_examples/trace_viewer.html#/tracing/test_data/application_1559265927525_0078.json'>0078</a>                |\n",
    "| <font color=red>Rapids   |     <font color=red>16xV100     |   <font color=red>16 x 3.5GB   |   <font color=red> lossguide   |  <font color=red>    100    |      <font color=red>81.84      | ---- |\n",
    "|:--------:|:-------------:|:---------:|:-----------:|:---------:|:---------:|:---------:|:---------:|\n",
    "| 0.90    |  Distr. (OMP) |  64GB    | depthwise  |    100   |  1126.0   |     <a href='http://sr525:1088/tracing_examples/trace_viewer.html#/tracing/test_data/application_1559265927525_0108.json'>0108</a>                |\n",
    "| 0.90 OPT |  Distr. (OMP) |  64GB    | depthwise  |    100   |  834.9    |     <a href='http://sr525:1088/tracing_examples/trace_viewer.html#/tracing/test_data/application_1559265927525_0084.json'>0084</a>                |\n",
    "| 0.90    | Distr. (Task) |  64GB    | depthwise  |    100   |  1143.4   |     <a href='http://sr525:1088/tracing_examples/trace_viewer.html#/tracing/test_data/application_1559265927525_0107.json'>0107</a>                |\n",
    "| 0.90 OPT | Distr. (Task) |  64GB    | depthwise  |    100   |  703.9    |     <a href='http://sr525:1088/tracing_examples/trace_viewer.html#/tracing/test_data/application_1559265927525_0085.json'>0085</a>                |\n",
    "| <font color=red>Rapids   |     <font color=red>16xV100     |   <font color=red>64GB   |   <font color=red> lossguide   |  <font color=red>    100    |      <font color=red>116      | ---- |\n"
   ]
  },
  {
   "cell_type": "markdown",
   "metadata": {},
   "source": [
    "# perf, 8 DP CLK 6252 node, 16xCLK6252, 48 cores/socket\n",
    "\n",
    "|  XGBoost |  Batch/Distr. | Data size | grow_policy | num_round | Time (sec) |                                                                 Trace                                    | \n",
    "|:--------:|:-------------:|:---------:|:-----------:|:---------:|:----------:|:-------------                                                                                              :|\n",
    "| 0.90    |  Distr. (OMP) |    64GB  |lossguide   |    100  |   1782.1 |  <a href='http://sr525:1088/tracing_examples/trace_viewer.html#/tracing/test_data/application_1559199366582_0057.json'>0057</a>                    |\n",
    "| 0.90 OPT |  Distr. (OMP) |    64GB  |lossguide   |    100  |   765.9  |  <a href='http://sr525:1088/tracing_examples/trace_viewer.html#/tracing/test_data/application_1559199366582_0058.json'>0058</a>                    |\n",
    "| <font color=red>Rapids   |     <font color=red>16xV100     |   <font color=red>64GB   |   <font color=red> lossguide   |  <font color=red>    100    |      <font color=red>116      | ---- |\n"
   ]
  },
  {
   "cell_type": "markdown",
   "metadata": {},
   "source": [
    "# Imports"
   ]
  },
  {
   "cell_type": "code",
   "execution_count": 1,
   "metadata": {},
   "outputs": [
    {
     "data": {
      "text/html": [
       "<style>.container { width:100% !important; }</style>"
      ],
      "text/plain": [
       "<IPython.core.display.HTML object>"
      ]
     },
     "metadata": {},
     "output_type": "display_data"
    }
   ],
   "source": [
    "from __future__ import nested_scopes\n",
    "from IPython.core.display import display, HTML\n",
    "display(HTML(\"<style>.container { width:100% !important; }</style>\"))"
   ]
  },
  {
   "cell_type": "code",
   "execution_count": 2,
   "metadata": {},
   "outputs": [
    {
     "data": {
      "text/html": [
       "<style>.container { width:100% !important; }</style>"
      ],
      "text/plain": [
       "<IPython.core.display.HTML object>"
      ]
     },
     "metadata": {},
     "output_type": "display_data"
    }
   ],
   "source": [
    "from IPython.core.display import display, HTML\n",
    "display(HTML(\"<style>.container { width:100% !important; }</style>\"))"
   ]
  },
  {
   "cell_type": "code",
   "execution_count": 3,
   "metadata": {},
   "outputs": [],
   "source": [
    "import re\n",
    "import os\n",
    "import pandas\n",
    "pandas.set_option('display.max_rows', None)\n",
    "\n",
    "import matplotlib\n",
    "%matplotlib inline\n",
    "import matplotlib.pyplot as plt\n",
    "import matplotlib.ticker as mtick\n",
    "from matplotlib import colors\n",
    "from matplotlib import rcParams\n",
    "rcParams['font.sans-serif'] =  'Courier New'\n",
    "rcParams['font.family'] = 'Courier New'\n",
    "rcParams['font.size'] = '12'\n",
    "%matplotlib inline\n",
    "\n",
    "from IPython.display import display,HTML\n",
    "import threading\n",
    "import collections\n",
    "\n",
    "from IPython.display import display\n",
    "from ipywidgets import IntProgress,Layout\n",
    "import time\n",
    "import threading\n",
    "import gzip\n",
    "import pyspark\n",
    "import pyspark.sql\n",
    "from pyspark.sql import SparkSession\n",
    "from pyspark.sql.types import (StructType, StructField, DateType,\n",
    "    TimestampType, StringType, LongType, IntegerType, DoubleType,FloatType)\n",
    "from pyspark.sql.functions import to_date, floor\n",
    "from pyspark.ml.feature import StringIndexer, VectorAssembler, OneHotEncoderEstimator\n",
    "from pyspark.ml import Pipeline\n",
    "from pyspark.sql.functions import lit\n",
    "import datetime\n",
    "import time\n",
    "from pyspark.storagelevel import StorageLevel\n",
    "from pyspark.sql.window import Window\n",
    "from pyspark.sql.functions import rank, col\n",
    "from pyspark.ml import Pipeline\n",
    "import pandas\n",
    "import numpy\n",
    "\n",
    "\n",
    "import re\n",
    "import math\n",
    "from functools import reduce\n",
    "import json\n",
    "\n",
    "\n",
    "from pyspark.sql.types import *\n",
    "from pyspark.sql import functions as F\n",
    "from datetime import date"
   ]
  },
  {
   "cell_type": "markdown",
   "metadata": {},
   "source": [
    "# Start analysis cluster and run 'sparklog.ipynb'"
   ]
  },
  {
   "cell_type": "code",
   "execution_count": 4,
   "metadata": {},
   "outputs": [
    {
     "name": "stdout",
     "output_type": "stream",
     "text": [
      "executor per node: 9\n",
      "parallelism: 144\n",
      "memory: 35616m\n",
      "offheap:1137m\n"
     ]
    }
   ],
   "source": [
    "executors_per_node = 9\n",
    "nodes=1\n",
    "cores_per_executor=4\n",
    "task_per_core=4\n",
    "\n",
    "\n",
    "cache_size=10\n",
    "total_size=340000\n",
    "print('executor per node: {:d}\\nparallelism: {:d}\\nmemory: {:d}m\\noffheap:{:d}m'.format(executors_per_node,nodes*executors_per_node*cores_per_executor*task_per_core,int(math.floor(nodes*total_size/(nodes*executors_per_node)))-1024-int(math.floor(cache_size*1024/(nodes*executors_per_node))),int(math.floor(cache_size*1024/(nodes*executors_per_node)))))\n",
    "\n",
    "from pyspark import SparkConf, SparkContext\n",
    "from pyspark.sql import SQLContext\n",
    "conf = (SparkConf()\n",
    "    .set(\"spark.default.parallelism\", \"{:d}\".format(nodes*executors_per_node*cores_per_executor*task_per_core))\n",
    "    .set('spark.executor.instances', '{:d}'.format(nodes*executors_per_node))\n",
    "    .set('spark.files.maxPartitionBytes', '256m')\n",
    "    .set('spark.app.name', 'pyspark_final')\n",
    "    .set('spark.rdd.compress', 'False')\n",
    "    .set('spark.serializer','org.apache.spark.serializer.KryoSerializer')    \n",
    "    .set('spark.executor.cores','{:d}'.format(cores_per_executor))\n",
    "    .set('spark.sql.shuffle.partitions','{:d}'.format(nodes*executors_per_node*cores_per_executor*task_per_core))\n",
    "    .set('spark.executor.memory', '{:d}m'.format(int(math.floor(nodes*total_size/(nodes*executors_per_node)))-1024-int(math.floor(cache_size*1024/(nodes*executors_per_node)))))\n",
    "    .set('spark.task.cpus','1')\n",
    "    .set('spark.driver.memory','24g')\n",
    "    .set('spark.sql.inMemoryColumnarStorage.compressed','False')\n",
    "    .set('spark.sql.inMemoryColumnarStorage.batchSize','100000')\n",
    "#    .set('spark.memory.storageFraction','0.8')\n",
    "#    .set('spark.memory.fraction','0.7')\n",
    "        \n",
    "    .set('spark.sql.execution.arrow.fallback.enabled','False')\n",
    "    .set('spark.sql.execution.arrow.enabled','True')\n",
    "    .set('spark.sql.execution.arrow.maxRecordsPerBatch','100000')\n",
    "    .set(\"spark.sql.repl.eagerEval.enabled\", True)\n",
    "    .set(\"spark.sql.execution.arrow.enabled\", \"true\")\n",
    "        \n",
    "    .set('spark.memory.offHeap.enabled','True')\n",
    "    .set('spark.memory.offHeap.size','{:d}m'.format(int(math.floor(cache_size*1024/(nodes*executors_per_node)))))\n",
    "    .set('spark.executor.memoryOverhead','{:d}m'.format(int(math.floor(cache_size*1024/(nodes*executors_per_node)))+3000))\n",
    "    .set('spark.sql.join.preferSortMergeJoin','False')\n",
    "#    .set('spark.executor.extraJavaOptions',\n",
    "#          '-XX:+UseG1GC -XX:+PrintFlagsFinal -XX:+PrintReferenceGC -verbose:gc -XX:+PrintGCDetails -XX:+PrintGCTimeStamps -XX:InitiatingHeapOccupancyPercent=35')\n",
    "    .set('spark.executor.extraJavaOptions',\n",
    "          '-XX:+UseParallelGC -XX:+UseParallelOldGC -verbose:gc -XX:+PrintGCDetails -XX:+PrintGCTimeStamps')\n",
    "        \n",
    "#    .set(\"spark.sql.session.timeZone\", \"PST\")\n",
    "     .set(\"spark.sql.session.timeZone\", \"Etc/GMT-8\")\n",
    "#     .set(\"spark.driver.extraJavaOptions\",\"-Duser.timezone=UTC+8\")\n",
    "    \n",
    "       )\n",
    "\n",
    "sc = SparkContext(conf=conf,master='yarn')\n",
    "sc.setLogLevel(\"ERROR\")\n",
    "spark = SQLContext(sc)\n",
    "time.sleep(10)\n"
   ]
  },
  {
   "cell_type": "code",
   "execution_count": 5,
   "metadata": {},
   "outputs": [
    {
     "data": {
      "text/html": [
       "<style>.container { width:100% !important; }</style>"
      ],
      "text/plain": [
       "<IPython.core.display.HTML object>"
      ]
     },
     "metadata": {},
     "output_type": "display_data"
    },
    {
     "data": {
      "text/html": [
       "<style>.CodeMirror{font-family: \"Courier New\";font-size: 12pt;}</style>"
      ],
      "text/plain": [
       "<IPython.core.display.HTML object>"
      ]
     },
     "metadata": {},
     "output_type": "display_data"
    },
    {
     "name": "stdout",
     "output_type": "stream",
     "text": [
      "env: http_proxy=\n",
      "env: https_proxy=\n"
     ]
    }
   ],
   "source": [
    "%run sparklog.ipynb"
   ]
  },
  {
   "cell_type": "code",
   "execution_count": 6,
   "metadata": {},
   "outputs": [],
   "source": [
    "slaves='''sr595\n",
    "sr596\n",
    "sr597\n",
    "sr598'''.split(\"\\n\")"
   ]
  },
  {
   "cell_type": "code",
   "execution_count": 7,
   "metadata": {
    "code_folding": []
   },
   "outputs": [],
   "source": [
    "def gen_sar(appid):\n",
    "    filedir=f\"/skylake/{appid}/sr595/\"\n",
    "\n",
    "    analysis={\n",
    "        'cpu':{'als':Sar_cpu_analysis(filedir+\"sar_cpu.sar\"),'pid':0},\n",
    "        'disk':{'als':Sar_disk_analysis(filedir+\"sar_disk.sar\"),'pid':1},\n",
    "        'mem':{'als':Sar_mem_analysis(filedir+\"sar_mem.sar\"),'pid':2},\n",
    "        'nic':{'als':Sar_nic_analysis(filedir+\"sar_nic.sar\"),'pid':3},\n",
    "    }\n",
    "\n",
    "\n",
    "    traces=[]\n",
    "    starttime=time.time()*1000\n",
    "\n",
    "    for l in ['cpu','disk','mem','nic']:\n",
    "        sarals=analysis[l]['als']\n",
    "        sarals.starttime=starttime\n",
    "        traces.extend(sarals.generate_trace_view_list(analysis[l]['pid']))\n",
    "\n",
    "    output='''\n",
    "    {\n",
    "        \"traceEvents\": [\n",
    "\n",
    "    ''' + \\\n",
    "    \",\\n\".join(traces)\\\n",
    "    + '''\n",
    "        ]\n",
    "    }'''\n",
    "\n",
    "\n",
    "    with open('/home/yuzhou/trace_result/'+appid+'.json', 'w') as outfile:  \n",
    "        outfile.write(output)\n",
    "\n",
    "    print(\"http://sr525:1088/tracing_examples/trace_viewer.html#/tracing/test_data/\"+appid+\".json\")"
   ]
  },
  {
   "cell_type": "markdown",
   "metadata": {
    "heading_collapsed": true
   },
   "source": [
    "# xgboost-0.90 single node batch"
   ]
  },
  {
   "cell_type": "code",
   "execution_count": 34,
   "metadata": {
    "hidden": true
   },
   "outputs": [
    {
     "name": "stdout",
     "output_type": "stream",
     "text": [
      "with PM/AM\n",
      "start time: 1560295910.8418257\n"
     ]
    },
    {
     "data": {
      "text/plain": [
       "[Row(min_time=1560296118)]"
      ]
     },
     "metadata": {},
     "output_type": "display_data"
    },
    {
     "name": "stdout",
     "output_type": "stream",
     "text": [
      "with PM/AM\n",
      "start time: 1560295910.8418257\n"
     ]
    },
    {
     "data": {
      "text/plain": [
       "[Row(min_time=1560296118)]"
      ]
     },
     "metadata": {},
     "output_type": "display_data"
    },
    {
     "name": "stdout",
     "output_type": "stream",
     "text": [
      "with PM/AM\n",
      "start time: 1560295910.8418257\n"
     ]
    },
    {
     "data": {
      "text/plain": [
       "[Row(min_time=1560296118)]"
      ]
     },
     "metadata": {},
     "output_type": "display_data"
    },
    {
     "name": "stdout",
     "output_type": "stream",
     "text": [
      "with PM/AM\n",
      "start time: 1560295910.8418257\n"
     ]
    },
    {
     "data": {
      "text/plain": [
       "[Row(min_time=1560296118)]"
      ]
     },
     "metadata": {},
     "output_type": "display_data"
    },
    {
     "name": "stdout",
     "output_type": "stream",
     "text": [
      "http://sr525:1088/tracing_examples/trace_viewer.html#/tracing/test_data/xgboost-Egor-batch-1560296289.9048827.json\n"
     ]
    }
   ],
   "source": [
    "gen_sar('xgboost-Egor-batch-1560296289.9048827') # grow_policy=depthwise"
   ]
  },
  {
   "cell_type": "code",
   "execution_count": 7,
   "metadata": {
    "hidden": true
   },
   "outputs": [
    {
     "name": "stdout",
     "output_type": "stream",
     "text": [
      "with PM/AM\n",
      "start time: 1560447883.0105722\n"
     ]
    },
    {
     "data": {
      "text/plain": [
       "[Row(min_time=1560446465)]"
      ]
     },
     "metadata": {},
     "output_type": "display_data"
    },
    {
     "name": "stdout",
     "output_type": "stream",
     "text": [
      "with PM/AM\n",
      "start time: 1560447883.0105722\n"
     ]
    },
    {
     "data": {
      "text/plain": [
       "[Row(min_time=1560446465)]"
      ]
     },
     "metadata": {},
     "output_type": "display_data"
    },
    {
     "name": "stdout",
     "output_type": "stream",
     "text": [
      "with PM/AM\n",
      "start time: 1560447883.0105722\n"
     ]
    },
    {
     "data": {
      "text/plain": [
       "[Row(min_time=1560446465)]"
      ]
     },
     "metadata": {},
     "output_type": "display_data"
    },
    {
     "name": "stdout",
     "output_type": "stream",
     "text": [
      "with PM/AM\n",
      "start time: 1560447883.0105722\n"
     ]
    },
    {
     "data": {
      "text/plain": [
       "[Row(min_time=1560446465)]"
      ]
     },
     "metadata": {},
     "output_type": "display_data"
    },
    {
     "name": "stdout",
     "output_type": "stream",
     "text": [
      "http://sr525:1088/tracing_examples/trace_viewer.html#/tracing/test_data/xgboost-Egor-batch-1560446643.7216978.json\n"
     ]
    }
   ],
   "source": [
    "gen_sar('xgboost-Egor-batch-1560446643.7216978') # grow_polilcy=lossguide"
   ]
  },
  {
   "cell_type": "markdown",
   "metadata": {
    "heading_collapsed": true
   },
   "source": [
    "# xgboost-0.90 OPT single node batch"
   ]
  },
  {
   "cell_type": "code",
   "execution_count": 33,
   "metadata": {
    "hidden": true
   },
   "outputs": [
    {
     "name": "stdout",
     "output_type": "stream",
     "text": [
      "with PM/AM\n",
      "start time: 1560295717.8557584\n"
     ]
    },
    {
     "data": {
      "text/plain": [
       "[Row(min_time=1560295958)]"
      ]
     },
     "metadata": {},
     "output_type": "display_data"
    },
    {
     "name": "stdout",
     "output_type": "stream",
     "text": [
      "with PM/AM\n",
      "start time: 1560295717.8557584\n"
     ]
    },
    {
     "data": {
      "text/plain": [
       "[Row(min_time=1560295958)]"
      ]
     },
     "metadata": {},
     "output_type": "display_data"
    },
    {
     "name": "stdout",
     "output_type": "stream",
     "text": [
      "with PM/AM\n",
      "start time: 1560295717.8557584\n"
     ]
    },
    {
     "data": {
      "text/plain": [
       "[Row(min_time=1560295958)]"
      ]
     },
     "metadata": {},
     "output_type": "display_data"
    },
    {
     "name": "stdout",
     "output_type": "stream",
     "text": [
      "with PM/AM\n",
      "start time: 1560295717.8557584\n"
     ]
    },
    {
     "data": {
      "text/plain": [
       "[Row(min_time=1560295958)]"
      ]
     },
     "metadata": {},
     "output_type": "display_data"
    },
    {
     "name": "stdout",
     "output_type": "stream",
     "text": [
      "http://sr525:1088/tracing_examples/trace_viewer.html#/tracing/test_data/xgboost-Egor-batch-1560296033.1330163.json\n"
     ]
    }
   ],
   "source": [
    "gen_sar('xgboost-Egor-batch-1560296033.1330163') # grow_policy=depthwise"
   ]
  },
  {
   "cell_type": "code",
   "execution_count": 8,
   "metadata": {
    "hidden": true
   },
   "outputs": [
    {
     "name": "stdout",
     "output_type": "stream",
     "text": [
      "with PM/AM\n",
      "start time: 1560448135.9187677\n"
     ]
    },
    {
     "data": {
      "text/plain": [
       "[Row(min_time=1560446330)]"
      ]
     },
     "metadata": {},
     "output_type": "display_data"
    },
    {
     "name": "stdout",
     "output_type": "stream",
     "text": [
      "with PM/AM\n",
      "start time: 1560448135.9187677\n"
     ]
    },
    {
     "data": {
      "text/plain": [
       "[Row(min_time=1560446330)]"
      ]
     },
     "metadata": {},
     "output_type": "display_data"
    },
    {
     "name": "stdout",
     "output_type": "stream",
     "text": [
      "with PM/AM\n",
      "start time: 1560448135.9187677\n"
     ]
    },
    {
     "data": {
      "text/plain": [
       "[Row(min_time=1560446330)]"
      ]
     },
     "metadata": {},
     "output_type": "display_data"
    },
    {
     "name": "stdout",
     "output_type": "stream",
     "text": [
      "with PM/AM\n",
      "start time: 1560448135.9187677\n"
     ]
    },
    {
     "data": {
      "text/plain": [
       "[Row(min_time=1560446330)]"
      ]
     },
     "metadata": {},
     "output_type": "display_data"
    },
    {
     "name": "stdout",
     "output_type": "stream",
     "text": [
      "http://sr525:1088/tracing_examples/trace_viewer.html#/tracing/test_data/xgboost-Egor-batch-1560446406.0024598.json\n"
     ]
    }
   ],
   "source": [
    "gen_sar('xgboost-Egor-batch-1560446406.0024598') # grow_policy=lossguide"
   ]
  },
  {
   "cell_type": "markdown",
   "metadata": {
    "heading_collapsed": true
   },
   "source": [
    "# xgboost-0.90 3.5GBx4 OMP mode"
   ]
  },
  {
   "cell_type": "code",
   "execution_count": 7,
   "metadata": {
    "hidden": true
   },
   "outputs": [],
   "source": [
    "app=Application_Run('application_1559265927525_0077',slaves,jobids=range(1,3)) # grow_policy=depthwise"
   ]
  },
  {
   "cell_type": "code",
   "execution_count": 8,
   "metadata": {
    "hidden": true,
    "scrolled": true
   },
   "outputs": [
    {
     "name": "stderr",
     "output_type": "stream",
     "text": [
      "/home/yuzhou/miniconda3/envs/sparkConda/lib/python3.7/site-packages/pyarrow/pandas_compat.py:752: FutureWarning: .labels was deprecated in version 0.24.0. Use .codes instead.\n",
      "  labels, = index.labels\n"
     ]
    },
    {
     "name": "stdout",
     "output_type": "stream",
     "text": [
      "applog start time: 1559843549092\n",
      "with PM/AM\n",
      "start time: 1559843549.092\n"
     ]
    },
    {
     "data": {
      "text/plain": [
       "[Row(min_time=1559843544)]"
      ]
     },
     "metadata": {},
     "output_type": "display_data"
    },
    {
     "name": "stdout",
     "output_type": "stream",
     "text": [
      "with PM/AM\n",
      "start time: 1559843549.092\n"
     ]
    },
    {
     "data": {
      "text/plain": [
       "[Row(min_time=1559843544)]"
      ]
     },
     "metadata": {},
     "output_type": "display_data"
    },
    {
     "name": "stdout",
     "output_type": "stream",
     "text": [
      "with PM/AM\n",
      "start time: 1559843549.092\n"
     ]
    },
    {
     "data": {
      "text/plain": [
       "[Row(min_time=1559843544)]"
      ]
     },
     "metadata": {},
     "output_type": "display_data"
    },
    {
     "name": "stdout",
     "output_type": "stream",
     "text": [
      "with PM/AM\n",
      "start time: 1559843549.092\n"
     ]
    },
    {
     "data": {
      "text/plain": [
       "[Row(min_time=1559843544)]"
      ]
     },
     "metadata": {},
     "output_type": "display_data"
    },
    {
     "name": "stdout",
     "output_type": "stream",
     "text": [
      "with PM/AM\n",
      "start time: 1559843549.092\n"
     ]
    },
    {
     "data": {
      "text/plain": [
       "[Row(min_time=1559843545)]"
      ]
     },
     "metadata": {},
     "output_type": "display_data"
    },
    {
     "name": "stdout",
     "output_type": "stream",
     "text": [
      "with PM/AM\n",
      "start time: 1559843549.092\n"
     ]
    },
    {
     "data": {
      "text/plain": [
       "[Row(min_time=1559843545)]"
      ]
     },
     "metadata": {},
     "output_type": "display_data"
    },
    {
     "name": "stdout",
     "output_type": "stream",
     "text": [
      "with PM/AM\n",
      "start time: 1559843549.092\n"
     ]
    },
    {
     "data": {
      "text/plain": [
       "[Row(min_time=1559843545)]"
      ]
     },
     "metadata": {},
     "output_type": "display_data"
    },
    {
     "name": "stdout",
     "output_type": "stream",
     "text": [
      "with PM/AM\n",
      "start time: 1559843549.092\n"
     ]
    },
    {
     "data": {
      "text/plain": [
       "[Row(min_time=1559843545)]"
      ]
     },
     "metadata": {},
     "output_type": "display_data"
    },
    {
     "name": "stdout",
     "output_type": "stream",
     "text": [
      "with PM/AM\n",
      "start time: 1559843549.092\n"
     ]
    },
    {
     "data": {
      "text/plain": [
       "[Row(min_time=1559843546)]"
      ]
     },
     "metadata": {},
     "output_type": "display_data"
    },
    {
     "name": "stdout",
     "output_type": "stream",
     "text": [
      "with PM/AM\n",
      "start time: 1559843549.092\n"
     ]
    },
    {
     "data": {
      "text/plain": [
       "[Row(min_time=1559843546)]"
      ]
     },
     "metadata": {},
     "output_type": "display_data"
    },
    {
     "name": "stdout",
     "output_type": "stream",
     "text": [
      "with PM/AM\n",
      "start time: 1559843549.092\n"
     ]
    },
    {
     "data": {
      "text/plain": [
       "[Row(min_time=1559843546)]"
      ]
     },
     "metadata": {},
     "output_type": "display_data"
    },
    {
     "name": "stdout",
     "output_type": "stream",
     "text": [
      "with PM/AM\n",
      "start time: 1559843549.092\n"
     ]
    },
    {
     "data": {
      "text/plain": [
       "[Row(min_time=1559843546)]"
      ]
     },
     "metadata": {},
     "output_type": "display_data"
    },
    {
     "name": "stdout",
     "output_type": "stream",
     "text": [
      "with PM/AM\n",
      "start time: 1559843549.092\n"
     ]
    },
    {
     "data": {
      "text/plain": [
       "[Row(min_time=1559843547)]"
      ]
     },
     "metadata": {},
     "output_type": "display_data"
    },
    {
     "name": "stdout",
     "output_type": "stream",
     "text": [
      "with PM/AM\n",
      "start time: 1559843549.092\n"
     ]
    },
    {
     "data": {
      "text/plain": [
       "[Row(min_time=1559843547)]"
      ]
     },
     "metadata": {},
     "output_type": "display_data"
    },
    {
     "name": "stdout",
     "output_type": "stream",
     "text": [
      "with PM/AM\n",
      "start time: 1559843549.092\n"
     ]
    },
    {
     "data": {
      "text/plain": [
       "[Row(min_time=1559843547)]"
      ]
     },
     "metadata": {},
     "output_type": "display_data"
    },
    {
     "name": "stdout",
     "output_type": "stream",
     "text": [
      "with PM/AM\n",
      "start time: 1559843549.092\n"
     ]
    },
    {
     "data": {
      "text/plain": [
       "[Row(min_time=1559843547)]"
      ]
     },
     "metadata": {},
     "output_type": "display_data"
    },
    {
     "name": "stdout",
     "output_type": "stream",
     "text": [
      "http://sr525:1088/tracing_examples/trace_viewer.html#/tracing/test_data/application_1559265927525_0077.json\n"
     ]
    }
   ],
   "source": [
    "app.generate_trace_view(showemon=False)"
   ]
  },
  {
   "cell_type": "code",
   "execution_count": 9,
   "metadata": {
    "hidden": true
   },
   "outputs": [],
   "source": [
    "app=Application_Run('application_1559265927525_0102',slaves,jobids=range(1,3)) # grow_policy=lossguide"
   ]
  },
  {
   "cell_type": "code",
   "execution_count": 10,
   "metadata": {
    "hidden": true,
    "scrolled": true
   },
   "outputs": [
    {
     "name": "stderr",
     "output_type": "stream",
     "text": [
      "/home/yuzhou/miniconda3/envs/sparkConda/lib/python3.7/site-packages/pyarrow/pandas_compat.py:752: FutureWarning: .labels was deprecated in version 0.24.0. Use .codes instead.\n",
      "  labels, = index.labels\n"
     ]
    },
    {
     "name": "stdout",
     "output_type": "stream",
     "text": [
      "applog start time: 1560461486997\n",
      "with PM/AM\n",
      "start time: 1560461486.997\n"
     ]
    },
    {
     "data": {
      "text/plain": [
       "[Row(min_time=1560461482)]"
      ]
     },
     "metadata": {},
     "output_type": "display_data"
    },
    {
     "name": "stdout",
     "output_type": "stream",
     "text": [
      "with PM/AM\n",
      "start time: 1560461486.997\n"
     ]
    },
    {
     "data": {
      "text/plain": [
       "[Row(min_time=1560461482)]"
      ]
     },
     "metadata": {},
     "output_type": "display_data"
    },
    {
     "name": "stdout",
     "output_type": "stream",
     "text": [
      "with PM/AM\n",
      "start time: 1560461486.997\n"
     ]
    },
    {
     "data": {
      "text/plain": [
       "[Row(min_time=1560461482)]"
      ]
     },
     "metadata": {},
     "output_type": "display_data"
    },
    {
     "name": "stdout",
     "output_type": "stream",
     "text": [
      "with PM/AM\n",
      "start time: 1560461486.997\n"
     ]
    },
    {
     "data": {
      "text/plain": [
       "[Row(min_time=1560461482)]"
      ]
     },
     "metadata": {},
     "output_type": "display_data"
    },
    {
     "name": "stdout",
     "output_type": "stream",
     "text": [
      "with PM/AM\n",
      "start time: 1560461486.997\n"
     ]
    },
    {
     "data": {
      "text/plain": [
       "[Row(min_time=1560461483)]"
      ]
     },
     "metadata": {},
     "output_type": "display_data"
    },
    {
     "name": "stdout",
     "output_type": "stream",
     "text": [
      "with PM/AM\n",
      "start time: 1560461486.997\n"
     ]
    },
    {
     "data": {
      "text/plain": [
       "[Row(min_time=1560461483)]"
      ]
     },
     "metadata": {},
     "output_type": "display_data"
    },
    {
     "name": "stdout",
     "output_type": "stream",
     "text": [
      "with PM/AM\n",
      "start time: 1560461486.997\n"
     ]
    },
    {
     "data": {
      "text/plain": [
       "[Row(min_time=1560461483)]"
      ]
     },
     "metadata": {},
     "output_type": "display_data"
    },
    {
     "name": "stdout",
     "output_type": "stream",
     "text": [
      "with PM/AM\n",
      "start time: 1560461486.997\n"
     ]
    },
    {
     "data": {
      "text/plain": [
       "[Row(min_time=1560461483)]"
      ]
     },
     "metadata": {},
     "output_type": "display_data"
    },
    {
     "name": "stdout",
     "output_type": "stream",
     "text": [
      "with PM/AM\n",
      "start time: 1560461486.997\n"
     ]
    },
    {
     "data": {
      "text/plain": [
       "[Row(min_time=1560461484)]"
      ]
     },
     "metadata": {},
     "output_type": "display_data"
    },
    {
     "name": "stdout",
     "output_type": "stream",
     "text": [
      "with PM/AM\n",
      "start time: 1560461486.997\n"
     ]
    },
    {
     "data": {
      "text/plain": [
       "[Row(min_time=1560461484)]"
      ]
     },
     "metadata": {},
     "output_type": "display_data"
    },
    {
     "name": "stdout",
     "output_type": "stream",
     "text": [
      "with PM/AM\n",
      "start time: 1560461486.997\n"
     ]
    },
    {
     "data": {
      "text/plain": [
       "[Row(min_time=1560461484)]"
      ]
     },
     "metadata": {},
     "output_type": "display_data"
    },
    {
     "name": "stdout",
     "output_type": "stream",
     "text": [
      "with PM/AM\n",
      "start time: 1560461486.997\n"
     ]
    },
    {
     "data": {
      "text/plain": [
       "[Row(min_time=1560461484)]"
      ]
     },
     "metadata": {},
     "output_type": "display_data"
    },
    {
     "name": "stdout",
     "output_type": "stream",
     "text": [
      "with PM/AM\n",
      "start time: 1560461486.997\n"
     ]
    },
    {
     "data": {
      "text/plain": [
       "[Row(min_time=1560461484)]"
      ]
     },
     "metadata": {},
     "output_type": "display_data"
    },
    {
     "name": "stdout",
     "output_type": "stream",
     "text": [
      "with PM/AM\n",
      "start time: 1560461486.997\n"
     ]
    },
    {
     "data": {
      "text/plain": [
       "[Row(min_time=1560461484)]"
      ]
     },
     "metadata": {},
     "output_type": "display_data"
    },
    {
     "name": "stdout",
     "output_type": "stream",
     "text": [
      "with PM/AM\n",
      "start time: 1560461486.997\n"
     ]
    },
    {
     "data": {
      "text/plain": [
       "[Row(min_time=1560461484)]"
      ]
     },
     "metadata": {},
     "output_type": "display_data"
    },
    {
     "name": "stdout",
     "output_type": "stream",
     "text": [
      "with PM/AM\n",
      "start time: 1560461486.997\n"
     ]
    },
    {
     "data": {
      "text/plain": [
       "[Row(min_time=1560461484)]"
      ]
     },
     "metadata": {},
     "output_type": "display_data"
    },
    {
     "name": "stdout",
     "output_type": "stream",
     "text": [
      "http://sr525:1088/tracing_examples/trace_viewer.html#/tracing/test_data/application_1559265927525_0102.json\n"
     ]
    }
   ],
   "source": [
    "app.generate_trace_view(showemon=False)"
   ]
  },
  {
   "cell_type": "code",
   "execution_count": null,
   "metadata": {
    "hidden": true
   },
   "outputs": [],
   "source": []
  },
  {
   "cell_type": "markdown",
   "metadata": {
    "heading_collapsed": true
   },
   "source": [
    "# xgboost-0.90 OPT 3.5GBx4 OMP mode"
   ]
  },
  {
   "cell_type": "code",
   "execution_count": 9,
   "metadata": {
    "hidden": true
   },
   "outputs": [],
   "source": [
    "app=Application_Run('application_1559265927525_0079',slaves,jobids=range(1,3)) # grow_policy=depthwise"
   ]
  },
  {
   "cell_type": "code",
   "execution_count": 10,
   "metadata": {
    "hidden": true,
    "scrolled": true
   },
   "outputs": [
    {
     "name": "stdout",
     "output_type": "stream",
     "text": [
      "applog start time: 1559844750081\n",
      "with PM/AM\n",
      "start time: 1559844750.081\n"
     ]
    },
    {
     "data": {
      "text/plain": [
       "[Row(min_time=1559844745)]"
      ]
     },
     "metadata": {},
     "output_type": "display_data"
    },
    {
     "name": "stdout",
     "output_type": "stream",
     "text": [
      "with PM/AM\n",
      "start time: 1559844750.081\n"
     ]
    },
    {
     "data": {
      "text/plain": [
       "[Row(min_time=1559844745)]"
      ]
     },
     "metadata": {},
     "output_type": "display_data"
    },
    {
     "name": "stdout",
     "output_type": "stream",
     "text": [
      "with PM/AM\n",
      "start time: 1559844750.081\n"
     ]
    },
    {
     "data": {
      "text/plain": [
       "[Row(min_time=1559844745)]"
      ]
     },
     "metadata": {},
     "output_type": "display_data"
    },
    {
     "name": "stdout",
     "output_type": "stream",
     "text": [
      "with PM/AM\n",
      "start time: 1559844750.081\n"
     ]
    },
    {
     "data": {
      "text/plain": [
       "[Row(min_time=1559844745)]"
      ]
     },
     "metadata": {},
     "output_type": "display_data"
    },
    {
     "name": "stdout",
     "output_type": "stream",
     "text": [
      "with PM/AM\n",
      "start time: 1559844750.081\n"
     ]
    },
    {
     "data": {
      "text/plain": [
       "[Row(min_time=1559844746)]"
      ]
     },
     "metadata": {},
     "output_type": "display_data"
    },
    {
     "name": "stdout",
     "output_type": "stream",
     "text": [
      "with PM/AM\n",
      "start time: 1559844750.081\n"
     ]
    },
    {
     "data": {
      "text/plain": [
       "[Row(min_time=1559844746)]"
      ]
     },
     "metadata": {},
     "output_type": "display_data"
    },
    {
     "name": "stdout",
     "output_type": "stream",
     "text": [
      "with PM/AM\n",
      "start time: 1559844750.081\n"
     ]
    },
    {
     "data": {
      "text/plain": [
       "[Row(min_time=1559844746)]"
      ]
     },
     "metadata": {},
     "output_type": "display_data"
    },
    {
     "name": "stdout",
     "output_type": "stream",
     "text": [
      "with PM/AM\n",
      "start time: 1559844750.081\n"
     ]
    },
    {
     "data": {
      "text/plain": [
       "[Row(min_time=1559844746)]"
      ]
     },
     "metadata": {},
     "output_type": "display_data"
    },
    {
     "name": "stdout",
     "output_type": "stream",
     "text": [
      "with PM/AM\n",
      "start time: 1559844750.081\n"
     ]
    },
    {
     "data": {
      "text/plain": [
       "[Row(min_time=1559844747)]"
      ]
     },
     "metadata": {},
     "output_type": "display_data"
    },
    {
     "name": "stdout",
     "output_type": "stream",
     "text": [
      "with PM/AM\n",
      "start time: 1559844750.081\n"
     ]
    },
    {
     "data": {
      "text/plain": [
       "[Row(min_time=1559844747)]"
      ]
     },
     "metadata": {},
     "output_type": "display_data"
    },
    {
     "name": "stdout",
     "output_type": "stream",
     "text": [
      "with PM/AM\n",
      "start time: 1559844750.081\n"
     ]
    },
    {
     "data": {
      "text/plain": [
       "[Row(min_time=1559844747)]"
      ]
     },
     "metadata": {},
     "output_type": "display_data"
    },
    {
     "name": "stdout",
     "output_type": "stream",
     "text": [
      "with PM/AM\n",
      "start time: 1559844750.081\n"
     ]
    },
    {
     "data": {
      "text/plain": [
       "[Row(min_time=1559844747)]"
      ]
     },
     "metadata": {},
     "output_type": "display_data"
    },
    {
     "name": "stdout",
     "output_type": "stream",
     "text": [
      "with PM/AM\n",
      "start time: 1559844750.081\n"
     ]
    },
    {
     "data": {
      "text/plain": [
       "[Row(min_time=1559844748)]"
      ]
     },
     "metadata": {},
     "output_type": "display_data"
    },
    {
     "name": "stdout",
     "output_type": "stream",
     "text": [
      "with PM/AM\n",
      "start time: 1559844750.081\n"
     ]
    },
    {
     "data": {
      "text/plain": [
       "[Row(min_time=1559844748)]"
      ]
     },
     "metadata": {},
     "output_type": "display_data"
    },
    {
     "name": "stdout",
     "output_type": "stream",
     "text": [
      "with PM/AM\n",
      "start time: 1559844750.081\n"
     ]
    },
    {
     "data": {
      "text/plain": [
       "[Row(min_time=1559844748)]"
      ]
     },
     "metadata": {},
     "output_type": "display_data"
    },
    {
     "name": "stdout",
     "output_type": "stream",
     "text": [
      "with PM/AM\n",
      "start time: 1559844750.081\n"
     ]
    },
    {
     "data": {
      "text/plain": [
       "[Row(min_time=1559844748)]"
      ]
     },
     "metadata": {},
     "output_type": "display_data"
    },
    {
     "name": "stdout",
     "output_type": "stream",
     "text": [
      "http://sr525:1088/tracing_examples/trace_viewer.html#/tracing/test_data/application_1559265927525_0079.json\n"
     ]
    }
   ],
   "source": [
    "app.generate_trace_view(showemon=False)"
   ]
  },
  {
   "cell_type": "code",
   "execution_count": 13,
   "metadata": {
    "hidden": true
   },
   "outputs": [],
   "source": [
    "app=Application_Run('application_1559265927525_0106',slaves,jobids=range(1,3)) # grow_policy=lossguide"
   ]
  },
  {
   "cell_type": "code",
   "execution_count": 14,
   "metadata": {
    "hidden": true,
    "scrolled": false
   },
   "outputs": [
    {
     "name": "stdout",
     "output_type": "stream",
     "text": [
      "applog start time: 1560465817693\n",
      "with PM/AM\n",
      "start time: 1560465817.693\n"
     ]
    },
    {
     "data": {
      "text/plain": [
       "[Row(min_time=1560465813)]"
      ]
     },
     "metadata": {},
     "output_type": "display_data"
    },
    {
     "name": "stdout",
     "output_type": "stream",
     "text": [
      "with PM/AM\n",
      "start time: 1560465817.693\n"
     ]
    },
    {
     "data": {
      "text/plain": [
       "[Row(min_time=1560465813)]"
      ]
     },
     "metadata": {},
     "output_type": "display_data"
    },
    {
     "name": "stdout",
     "output_type": "stream",
     "text": [
      "with PM/AM\n",
      "start time: 1560465817.693\n"
     ]
    },
    {
     "data": {
      "text/plain": [
       "[Row(min_time=1560465813)]"
      ]
     },
     "metadata": {},
     "output_type": "display_data"
    },
    {
     "name": "stdout",
     "output_type": "stream",
     "text": [
      "with PM/AM\n",
      "start time: 1560465817.693\n"
     ]
    },
    {
     "data": {
      "text/plain": [
       "[Row(min_time=1560465813)]"
      ]
     },
     "metadata": {},
     "output_type": "display_data"
    },
    {
     "name": "stdout",
     "output_type": "stream",
     "text": [
      "with PM/AM\n",
      "start time: 1560465817.693\n"
     ]
    },
    {
     "data": {
      "text/plain": [
       "[Row(min_time=1560465814)]"
      ]
     },
     "metadata": {},
     "output_type": "display_data"
    },
    {
     "name": "stdout",
     "output_type": "stream",
     "text": [
      "with PM/AM\n",
      "start time: 1560465817.693\n"
     ]
    },
    {
     "data": {
      "text/plain": [
       "[Row(min_time=1560465814)]"
      ]
     },
     "metadata": {},
     "output_type": "display_data"
    },
    {
     "name": "stdout",
     "output_type": "stream",
     "text": [
      "with PM/AM\n",
      "start time: 1560465817.693\n"
     ]
    },
    {
     "data": {
      "text/plain": [
       "[Row(min_time=1560465814)]"
      ]
     },
     "metadata": {},
     "output_type": "display_data"
    },
    {
     "name": "stdout",
     "output_type": "stream",
     "text": [
      "with PM/AM\n",
      "start time: 1560465817.693\n"
     ]
    },
    {
     "data": {
      "text/plain": [
       "[Row(min_time=1560465814)]"
      ]
     },
     "metadata": {},
     "output_type": "display_data"
    },
    {
     "name": "stdout",
     "output_type": "stream",
     "text": [
      "with PM/AM\n",
      "start time: 1560465817.693\n"
     ]
    },
    {
     "data": {
      "text/plain": [
       "[Row(min_time=1560465814)]"
      ]
     },
     "metadata": {},
     "output_type": "display_data"
    },
    {
     "name": "stdout",
     "output_type": "stream",
     "text": [
      "with PM/AM\n",
      "start time: 1560465817.693\n"
     ]
    },
    {
     "data": {
      "text/plain": [
       "[Row(min_time=1560465814)]"
      ]
     },
     "metadata": {},
     "output_type": "display_data"
    },
    {
     "name": "stdout",
     "output_type": "stream",
     "text": [
      "with PM/AM\n",
      "start time: 1560465817.693\n"
     ]
    },
    {
     "data": {
      "text/plain": [
       "[Row(min_time=1560465814)]"
      ]
     },
     "metadata": {},
     "output_type": "display_data"
    },
    {
     "name": "stdout",
     "output_type": "stream",
     "text": [
      "with PM/AM\n",
      "start time: 1560465817.693\n"
     ]
    },
    {
     "data": {
      "text/plain": [
       "[Row(min_time=1560465814)]"
      ]
     },
     "metadata": {},
     "output_type": "display_data"
    },
    {
     "name": "stdout",
     "output_type": "stream",
     "text": [
      "with PM/AM\n",
      "start time: 1560465817.693\n"
     ]
    },
    {
     "data": {
      "text/plain": [
       "[Row(min_time=1560465815)]"
      ]
     },
     "metadata": {},
     "output_type": "display_data"
    },
    {
     "name": "stdout",
     "output_type": "stream",
     "text": [
      "with PM/AM\n",
      "start time: 1560465817.693\n"
     ]
    },
    {
     "data": {
      "text/plain": [
       "[Row(min_time=1560465815)]"
      ]
     },
     "metadata": {},
     "output_type": "display_data"
    },
    {
     "name": "stdout",
     "output_type": "stream",
     "text": [
      "with PM/AM\n",
      "start time: 1560465817.693\n"
     ]
    },
    {
     "data": {
      "text/plain": [
       "[Row(min_time=1560465815)]"
      ]
     },
     "metadata": {},
     "output_type": "display_data"
    },
    {
     "name": "stdout",
     "output_type": "stream",
     "text": [
      "with PM/AM\n",
      "start time: 1560465817.693\n"
     ]
    },
    {
     "data": {
      "text/plain": [
       "[Row(min_time=1560465815)]"
      ]
     },
     "metadata": {},
     "output_type": "display_data"
    },
    {
     "name": "stdout",
     "output_type": "stream",
     "text": [
      "http://sr525:1088/tracing_examples/trace_viewer.html#/tracing/test_data/application_1559265927525_0106.json\n"
     ]
    }
   ],
   "source": [
    "app.generate_trace_view(showemon=False)"
   ]
  },
  {
   "cell_type": "code",
   "execution_count": null,
   "metadata": {
    "hidden": true
   },
   "outputs": [],
   "source": []
  },
  {
   "cell_type": "markdown",
   "metadata": {
    "heading_collapsed": true
   },
   "source": [
    "# xgboost-0.90 3.5GBx4 Task mode"
   ]
  },
  {
   "cell_type": "code",
   "execution_count": 11,
   "metadata": {
    "hidden": true
   },
   "outputs": [],
   "source": [
    "app=Application_Run('application_1559265927525_0076',slaves,jobids=range(1,3)) # grow_policy=depthwise"
   ]
  },
  {
   "cell_type": "code",
   "execution_count": 12,
   "metadata": {
    "hidden": true,
    "scrolled": false
   },
   "outputs": [
    {
     "name": "stdout",
     "output_type": "stream",
     "text": [
      "applog start time: 1559842915419\n",
      "with PM/AM\n",
      "start time: 1559842915.419\n"
     ]
    },
    {
     "data": {
      "text/plain": [
       "[Row(min_time=1559842910)]"
      ]
     },
     "metadata": {},
     "output_type": "display_data"
    },
    {
     "name": "stdout",
     "output_type": "stream",
     "text": [
      "with PM/AM\n",
      "start time: 1559842915.419\n"
     ]
    },
    {
     "data": {
      "text/plain": [
       "[Row(min_time=1559842910)]"
      ]
     },
     "metadata": {},
     "output_type": "display_data"
    },
    {
     "name": "stdout",
     "output_type": "stream",
     "text": [
      "with PM/AM\n",
      "start time: 1559842915.419\n"
     ]
    },
    {
     "data": {
      "text/plain": [
       "[Row(min_time=1559842910)]"
      ]
     },
     "metadata": {},
     "output_type": "display_data"
    },
    {
     "name": "stdout",
     "output_type": "stream",
     "text": [
      "with PM/AM\n",
      "start time: 1559842915.419\n"
     ]
    },
    {
     "data": {
      "text/plain": [
       "[Row(min_time=1559842910)]"
      ]
     },
     "metadata": {},
     "output_type": "display_data"
    },
    {
     "name": "stdout",
     "output_type": "stream",
     "text": [
      "with PM/AM\n",
      "start time: 1559842915.419\n"
     ]
    },
    {
     "data": {
      "text/plain": [
       "[Row(min_time=1559842911)]"
      ]
     },
     "metadata": {},
     "output_type": "display_data"
    },
    {
     "name": "stdout",
     "output_type": "stream",
     "text": [
      "with PM/AM\n",
      "start time: 1559842915.419\n"
     ]
    },
    {
     "data": {
      "text/plain": [
       "[Row(min_time=1559842911)]"
      ]
     },
     "metadata": {},
     "output_type": "display_data"
    },
    {
     "name": "stdout",
     "output_type": "stream",
     "text": [
      "with PM/AM\n",
      "start time: 1559842915.419\n"
     ]
    },
    {
     "data": {
      "text/plain": [
       "[Row(min_time=1559842911)]"
      ]
     },
     "metadata": {},
     "output_type": "display_data"
    },
    {
     "name": "stdout",
     "output_type": "stream",
     "text": [
      "with PM/AM\n",
      "start time: 1559842915.419\n"
     ]
    },
    {
     "data": {
      "text/plain": [
       "[Row(min_time=1559842911)]"
      ]
     },
     "metadata": {},
     "output_type": "display_data"
    },
    {
     "name": "stdout",
     "output_type": "stream",
     "text": [
      "with PM/AM\n",
      "start time: 1559842915.419\n"
     ]
    },
    {
     "data": {
      "text/plain": [
       "[Row(min_time=1559842912)]"
      ]
     },
     "metadata": {},
     "output_type": "display_data"
    },
    {
     "name": "stdout",
     "output_type": "stream",
     "text": [
      "with PM/AM\n",
      "start time: 1559842915.419\n"
     ]
    },
    {
     "data": {
      "text/plain": [
       "[Row(min_time=1559842912)]"
      ]
     },
     "metadata": {},
     "output_type": "display_data"
    },
    {
     "name": "stdout",
     "output_type": "stream",
     "text": [
      "with PM/AM\n",
      "start time: 1559842915.419\n"
     ]
    },
    {
     "data": {
      "text/plain": [
       "[Row(min_time=1559842912)]"
      ]
     },
     "metadata": {},
     "output_type": "display_data"
    },
    {
     "name": "stdout",
     "output_type": "stream",
     "text": [
      "with PM/AM\n",
      "start time: 1559842915.419\n"
     ]
    },
    {
     "data": {
      "text/plain": [
       "[Row(min_time=1559842912)]"
      ]
     },
     "metadata": {},
     "output_type": "display_data"
    },
    {
     "name": "stdout",
     "output_type": "stream",
     "text": [
      "with PM/AM\n",
      "start time: 1559842915.419\n"
     ]
    },
    {
     "data": {
      "text/plain": [
       "[Row(min_time=1559842913)]"
      ]
     },
     "metadata": {},
     "output_type": "display_data"
    },
    {
     "name": "stdout",
     "output_type": "stream",
     "text": [
      "with PM/AM\n",
      "start time: 1559842915.419\n"
     ]
    },
    {
     "data": {
      "text/plain": [
       "[Row(min_time=1559842913)]"
      ]
     },
     "metadata": {},
     "output_type": "display_data"
    },
    {
     "name": "stdout",
     "output_type": "stream",
     "text": [
      "with PM/AM\n",
      "start time: 1559842915.419\n"
     ]
    },
    {
     "data": {
      "text/plain": [
       "[Row(min_time=1559842913)]"
      ]
     },
     "metadata": {},
     "output_type": "display_data"
    },
    {
     "name": "stdout",
     "output_type": "stream",
     "text": [
      "with PM/AM\n",
      "start time: 1559842915.419\n"
     ]
    },
    {
     "data": {
      "text/plain": [
       "[Row(min_time=1559842913)]"
      ]
     },
     "metadata": {},
     "output_type": "display_data"
    },
    {
     "name": "stdout",
     "output_type": "stream",
     "text": [
      "http://sr525:1088/tracing_examples/trace_viewer.html#/tracing/test_data/application_1559265927525_0076.json\n"
     ]
    }
   ],
   "source": [
    "app.generate_trace_view(showemon=False)"
   ]
  },
  {
   "cell_type": "code",
   "execution_count": 11,
   "metadata": {
    "hidden": true
   },
   "outputs": [],
   "source": [
    "app=Application_Run('application_1559265927525_0101',slaves,jobids=range(1,3)) # grow_policy=lossguide"
   ]
  },
  {
   "cell_type": "code",
   "execution_count": 12,
   "metadata": {
    "hidden": true,
    "scrolled": true
   },
   "outputs": [
    {
     "name": "stdout",
     "output_type": "stream",
     "text": [
      "applog start time: 1560460469693\n",
      "with PM/AM\n",
      "start time: 1560460469.693\n"
     ]
    },
    {
     "data": {
      "text/plain": [
       "[Row(min_time=1560460463)]"
      ]
     },
     "metadata": {},
     "output_type": "display_data"
    },
    {
     "name": "stdout",
     "output_type": "stream",
     "text": [
      "with PM/AM\n",
      "start time: 1560460469.693\n"
     ]
    },
    {
     "data": {
      "text/plain": [
       "[Row(min_time=1560460463)]"
      ]
     },
     "metadata": {},
     "output_type": "display_data"
    },
    {
     "name": "stdout",
     "output_type": "stream",
     "text": [
      "with PM/AM\n",
      "start time: 1560460469.693\n"
     ]
    },
    {
     "data": {
      "text/plain": [
       "[Row(min_time=1560460463)]"
      ]
     },
     "metadata": {},
     "output_type": "display_data"
    },
    {
     "name": "stdout",
     "output_type": "stream",
     "text": [
      "with PM/AM\n",
      "start time: 1560460469.693\n"
     ]
    },
    {
     "data": {
      "text/plain": [
       "[Row(min_time=1560460463)]"
      ]
     },
     "metadata": {},
     "output_type": "display_data"
    },
    {
     "name": "stdout",
     "output_type": "stream",
     "text": [
      "with PM/AM\n",
      "start time: 1560460469.693\n"
     ]
    },
    {
     "data": {
      "text/plain": [
       "[Row(min_time=1560460464)]"
      ]
     },
     "metadata": {},
     "output_type": "display_data"
    },
    {
     "name": "stdout",
     "output_type": "stream",
     "text": [
      "with PM/AM\n",
      "start time: 1560460469.693\n"
     ]
    },
    {
     "data": {
      "text/plain": [
       "[Row(min_time=1560460464)]"
      ]
     },
     "metadata": {},
     "output_type": "display_data"
    },
    {
     "name": "stdout",
     "output_type": "stream",
     "text": [
      "with PM/AM\n",
      "start time: 1560460469.693\n"
     ]
    },
    {
     "data": {
      "text/plain": [
       "[Row(min_time=1560460464)]"
      ]
     },
     "metadata": {},
     "output_type": "display_data"
    },
    {
     "name": "stdout",
     "output_type": "stream",
     "text": [
      "with PM/AM\n",
      "start time: 1560460469.693\n"
     ]
    },
    {
     "data": {
      "text/plain": [
       "[Row(min_time=1560460464)]"
      ]
     },
     "metadata": {},
     "output_type": "display_data"
    },
    {
     "name": "stdout",
     "output_type": "stream",
     "text": [
      "with PM/AM\n",
      "start time: 1560460469.693\n"
     ]
    },
    {
     "data": {
      "text/plain": [
       "[Row(min_time=1560460465)]"
      ]
     },
     "metadata": {},
     "output_type": "display_data"
    },
    {
     "name": "stdout",
     "output_type": "stream",
     "text": [
      "with PM/AM\n",
      "start time: 1560460469.693\n"
     ]
    },
    {
     "data": {
      "text/plain": [
       "[Row(min_time=1560460465)]"
      ]
     },
     "metadata": {},
     "output_type": "display_data"
    },
    {
     "name": "stdout",
     "output_type": "stream",
     "text": [
      "with PM/AM\n",
      "start time: 1560460469.693\n"
     ]
    },
    {
     "data": {
      "text/plain": [
       "[Row(min_time=1560460465)]"
      ]
     },
     "metadata": {},
     "output_type": "display_data"
    },
    {
     "name": "stdout",
     "output_type": "stream",
     "text": [
      "with PM/AM\n",
      "start time: 1560460469.693\n"
     ]
    },
    {
     "data": {
      "text/plain": [
       "[Row(min_time=1560460465)]"
      ]
     },
     "metadata": {},
     "output_type": "display_data"
    },
    {
     "name": "stdout",
     "output_type": "stream",
     "text": [
      "with PM/AM\n",
      "start time: 1560460469.693\n"
     ]
    },
    {
     "data": {
      "text/plain": [
       "[Row(min_time=1560460466)]"
      ]
     },
     "metadata": {},
     "output_type": "display_data"
    },
    {
     "name": "stdout",
     "output_type": "stream",
     "text": [
      "with PM/AM\n",
      "start time: 1560460469.693\n"
     ]
    },
    {
     "data": {
      "text/plain": [
       "[Row(min_time=1560460466)]"
      ]
     },
     "metadata": {},
     "output_type": "display_data"
    },
    {
     "name": "stdout",
     "output_type": "stream",
     "text": [
      "with PM/AM\n",
      "start time: 1560460469.693\n"
     ]
    },
    {
     "data": {
      "text/plain": [
       "[Row(min_time=1560460466)]"
      ]
     },
     "metadata": {},
     "output_type": "display_data"
    },
    {
     "name": "stdout",
     "output_type": "stream",
     "text": [
      "with PM/AM\n",
      "start time: 1560460469.693\n"
     ]
    },
    {
     "data": {
      "text/plain": [
       "[Row(min_time=1560460466)]"
      ]
     },
     "metadata": {},
     "output_type": "display_data"
    },
    {
     "name": "stdout",
     "output_type": "stream",
     "text": [
      "http://sr525:1088/tracing_examples/trace_viewer.html#/tracing/test_data/application_1559265927525_0101.json\n"
     ]
    }
   ],
   "source": [
    "app.generate_trace_view(showemon=False)"
   ]
  },
  {
   "cell_type": "code",
   "execution_count": null,
   "metadata": {
    "hidden": true
   },
   "outputs": [],
   "source": []
  },
  {
   "cell_type": "markdown",
   "metadata": {
    "heading_collapsed": true
   },
   "source": [
    "# xgboost-0.90 OPT 3.5GBx4 Task mode"
   ]
  },
  {
   "cell_type": "code",
   "execution_count": 13,
   "metadata": {
    "hidden": true
   },
   "outputs": [],
   "source": [
    "app=Application_Run('application_1559265927525_0078',slaves,jobids=range(1,3)) # grow_policy=depthwise"
   ]
  },
  {
   "cell_type": "code",
   "execution_count": 14,
   "metadata": {
    "hidden": true,
    "scrolled": true
   },
   "outputs": [
    {
     "name": "stdout",
     "output_type": "stream",
     "text": [
      "applog start time: 1559844396186\n",
      "with PM/AM\n",
      "start time: 1559844396.186\n"
     ]
    },
    {
     "data": {
      "text/plain": [
       "[Row(min_time=1559844391)]"
      ]
     },
     "metadata": {},
     "output_type": "display_data"
    },
    {
     "name": "stdout",
     "output_type": "stream",
     "text": [
      "with PM/AM\n",
      "start time: 1559844396.186\n"
     ]
    },
    {
     "data": {
      "text/plain": [
       "[Row(min_time=1559844391)]"
      ]
     },
     "metadata": {},
     "output_type": "display_data"
    },
    {
     "name": "stdout",
     "output_type": "stream",
     "text": [
      "with PM/AM\n",
      "start time: 1559844396.186\n"
     ]
    },
    {
     "data": {
      "text/plain": [
       "[Row(min_time=1559844391)]"
      ]
     },
     "metadata": {},
     "output_type": "display_data"
    },
    {
     "name": "stdout",
     "output_type": "stream",
     "text": [
      "with PM/AM\n",
      "start time: 1559844396.186\n"
     ]
    },
    {
     "data": {
      "text/plain": [
       "[Row(min_time=1559844391)]"
      ]
     },
     "metadata": {},
     "output_type": "display_data"
    },
    {
     "name": "stdout",
     "output_type": "stream",
     "text": [
      "with PM/AM\n",
      "start time: 1559844396.186\n"
     ]
    },
    {
     "data": {
      "text/plain": [
       "[Row(min_time=1559844392)]"
      ]
     },
     "metadata": {},
     "output_type": "display_data"
    },
    {
     "name": "stdout",
     "output_type": "stream",
     "text": [
      "with PM/AM\n",
      "start time: 1559844396.186\n"
     ]
    },
    {
     "data": {
      "text/plain": [
       "[Row(min_time=1559844392)]"
      ]
     },
     "metadata": {},
     "output_type": "display_data"
    },
    {
     "name": "stdout",
     "output_type": "stream",
     "text": [
      "with PM/AM\n",
      "start time: 1559844396.186\n"
     ]
    },
    {
     "data": {
      "text/plain": [
       "[Row(min_time=1559844392)]"
      ]
     },
     "metadata": {},
     "output_type": "display_data"
    },
    {
     "name": "stdout",
     "output_type": "stream",
     "text": [
      "with PM/AM\n",
      "start time: 1559844396.186\n"
     ]
    },
    {
     "data": {
      "text/plain": [
       "[Row(min_time=1559844392)]"
      ]
     },
     "metadata": {},
     "output_type": "display_data"
    },
    {
     "name": "stdout",
     "output_type": "stream",
     "text": [
      "with PM/AM\n",
      "start time: 1559844396.186\n"
     ]
    },
    {
     "data": {
      "text/plain": [
       "[Row(min_time=1559844393)]"
      ]
     },
     "metadata": {},
     "output_type": "display_data"
    },
    {
     "name": "stdout",
     "output_type": "stream",
     "text": [
      "with PM/AM\n",
      "start time: 1559844396.186\n"
     ]
    },
    {
     "data": {
      "text/plain": [
       "[Row(min_time=1559844393)]"
      ]
     },
     "metadata": {},
     "output_type": "display_data"
    },
    {
     "name": "stdout",
     "output_type": "stream",
     "text": [
      "with PM/AM\n",
      "start time: 1559844396.186\n"
     ]
    },
    {
     "data": {
      "text/plain": [
       "[Row(min_time=1559844393)]"
      ]
     },
     "metadata": {},
     "output_type": "display_data"
    },
    {
     "name": "stdout",
     "output_type": "stream",
     "text": [
      "with PM/AM\n",
      "start time: 1559844396.186\n"
     ]
    },
    {
     "data": {
      "text/plain": [
       "[Row(min_time=1559844393)]"
      ]
     },
     "metadata": {},
     "output_type": "display_data"
    },
    {
     "name": "stdout",
     "output_type": "stream",
     "text": [
      "with PM/AM\n",
      "start time: 1559844396.186\n"
     ]
    },
    {
     "data": {
      "text/plain": [
       "[Row(min_time=1559844394)]"
      ]
     },
     "metadata": {},
     "output_type": "display_data"
    },
    {
     "name": "stdout",
     "output_type": "stream",
     "text": [
      "with PM/AM\n",
      "start time: 1559844396.186\n"
     ]
    },
    {
     "data": {
      "text/plain": [
       "[Row(min_time=1559844394)]"
      ]
     },
     "metadata": {},
     "output_type": "display_data"
    },
    {
     "name": "stdout",
     "output_type": "stream",
     "text": [
      "with PM/AM\n",
      "start time: 1559844396.186\n"
     ]
    },
    {
     "data": {
      "text/plain": [
       "[Row(min_time=1559844394)]"
      ]
     },
     "metadata": {},
     "output_type": "display_data"
    },
    {
     "name": "stdout",
     "output_type": "stream",
     "text": [
      "with PM/AM\n",
      "start time: 1559844396.186\n"
     ]
    },
    {
     "data": {
      "text/plain": [
       "[Row(min_time=1559844394)]"
      ]
     },
     "metadata": {},
     "output_type": "display_data"
    },
    {
     "name": "stdout",
     "output_type": "stream",
     "text": [
      "http://sr525:1088/tracing_examples/trace_viewer.html#/tracing/test_data/application_1559265927525_0078.json\n"
     ]
    }
   ],
   "source": [
    "app.generate_trace_view(showemon=False)"
   ]
  },
  {
   "cell_type": "code",
   "execution_count": 15,
   "metadata": {
    "hidden": true
   },
   "outputs": [],
   "source": [
    "app=Application_Run('application_1559265927525_0105',slaves,jobids=range(1,3)) # grow_policy=lossguide"
   ]
  },
  {
   "cell_type": "code",
   "execution_count": 16,
   "metadata": {
    "hidden": true,
    "scrolled": false
   },
   "outputs": [
    {
     "name": "stdout",
     "output_type": "stream",
     "text": [
      "applog start time: 1560465500352\n",
      "with PM/AM\n",
      "start time: 1560465500.352\n"
     ]
    },
    {
     "data": {
      "text/plain": [
       "[Row(min_time=1560465494)]"
      ]
     },
     "metadata": {},
     "output_type": "display_data"
    },
    {
     "name": "stdout",
     "output_type": "stream",
     "text": [
      "with PM/AM\n",
      "start time: 1560465500.352\n"
     ]
    },
    {
     "data": {
      "text/plain": [
       "[Row(min_time=1560465494)]"
      ]
     },
     "metadata": {},
     "output_type": "display_data"
    },
    {
     "name": "stdout",
     "output_type": "stream",
     "text": [
      "with PM/AM\n",
      "start time: 1560465500.352\n"
     ]
    },
    {
     "data": {
      "text/plain": [
       "[Row(min_time=1560465494)]"
      ]
     },
     "metadata": {},
     "output_type": "display_data"
    },
    {
     "name": "stdout",
     "output_type": "stream",
     "text": [
      "with PM/AM\n",
      "start time: 1560465500.352\n"
     ]
    },
    {
     "data": {
      "text/plain": [
       "[Row(min_time=1560465494)]"
      ]
     },
     "metadata": {},
     "output_type": "display_data"
    },
    {
     "name": "stdout",
     "output_type": "stream",
     "text": [
      "with PM/AM\n",
      "start time: 1560465500.352\n"
     ]
    },
    {
     "data": {
      "text/plain": [
       "[Row(min_time=1560465495)]"
      ]
     },
     "metadata": {},
     "output_type": "display_data"
    },
    {
     "name": "stdout",
     "output_type": "stream",
     "text": [
      "with PM/AM\n",
      "start time: 1560465500.352\n"
     ]
    },
    {
     "data": {
      "text/plain": [
       "[Row(min_time=1560465495)]"
      ]
     },
     "metadata": {},
     "output_type": "display_data"
    },
    {
     "name": "stdout",
     "output_type": "stream",
     "text": [
      "with PM/AM\n",
      "start time: 1560465500.352\n"
     ]
    },
    {
     "data": {
      "text/plain": [
       "[Row(min_time=1560465495)]"
      ]
     },
     "metadata": {},
     "output_type": "display_data"
    },
    {
     "name": "stdout",
     "output_type": "stream",
     "text": [
      "with PM/AM\n",
      "start time: 1560465500.352\n"
     ]
    },
    {
     "data": {
      "text/plain": [
       "[Row(min_time=1560465495)]"
      ]
     },
     "metadata": {},
     "output_type": "display_data"
    },
    {
     "name": "stdout",
     "output_type": "stream",
     "text": [
      "with PM/AM\n",
      "start time: 1560465500.352\n"
     ]
    },
    {
     "data": {
      "text/plain": [
       "[Row(min_time=1560465496)]"
      ]
     },
     "metadata": {},
     "output_type": "display_data"
    },
    {
     "name": "stdout",
     "output_type": "stream",
     "text": [
      "with PM/AM\n",
      "start time: 1560465500.352\n"
     ]
    },
    {
     "data": {
      "text/plain": [
       "[Row(min_time=1560465496)]"
      ]
     },
     "metadata": {},
     "output_type": "display_data"
    },
    {
     "name": "stdout",
     "output_type": "stream",
     "text": [
      "with PM/AM\n",
      "start time: 1560465500.352\n"
     ]
    },
    {
     "data": {
      "text/plain": [
       "[Row(min_time=1560465496)]"
      ]
     },
     "metadata": {},
     "output_type": "display_data"
    },
    {
     "name": "stdout",
     "output_type": "stream",
     "text": [
      "with PM/AM\n",
      "start time: 1560465500.352\n"
     ]
    },
    {
     "data": {
      "text/plain": [
       "[Row(min_time=1560465496)]"
      ]
     },
     "metadata": {},
     "output_type": "display_data"
    },
    {
     "name": "stdout",
     "output_type": "stream",
     "text": [
      "with PM/AM\n",
      "start time: 1560465500.352\n"
     ]
    },
    {
     "data": {
      "text/plain": [
       "[Row(min_time=1560465497)]"
      ]
     },
     "metadata": {},
     "output_type": "display_data"
    },
    {
     "name": "stdout",
     "output_type": "stream",
     "text": [
      "with PM/AM\n",
      "start time: 1560465500.352\n"
     ]
    },
    {
     "data": {
      "text/plain": [
       "[Row(min_time=1560465497)]"
      ]
     },
     "metadata": {},
     "output_type": "display_data"
    },
    {
     "name": "stdout",
     "output_type": "stream",
     "text": [
      "with PM/AM\n",
      "start time: 1560465500.352\n"
     ]
    },
    {
     "data": {
      "text/plain": [
       "[Row(min_time=1560465497)]"
      ]
     },
     "metadata": {},
     "output_type": "display_data"
    },
    {
     "name": "stdout",
     "output_type": "stream",
     "text": [
      "with PM/AM\n",
      "start time: 1560465500.352\n"
     ]
    },
    {
     "data": {
      "text/plain": [
       "[Row(min_time=1560465497)]"
      ]
     },
     "metadata": {},
     "output_type": "display_data"
    },
    {
     "name": "stdout",
     "output_type": "stream",
     "text": [
      "http://sr525:1088/tracing_examples/trace_viewer.html#/tracing/test_data/application_1559265927525_0105.json\n"
     ]
    }
   ],
   "source": [
    "app.generate_trace_view(showemon=False)"
   ]
  },
  {
   "cell_type": "markdown",
   "metadata": {
    "heading_collapsed": true
   },
   "source": [
    "# xgboost-0.90 64GB OMP mode"
   ]
  },
  {
   "cell_type": "code",
   "execution_count": 29,
   "metadata": {
    "hidden": true
   },
   "outputs": [],
   "source": [
    "app=Application_Run('application_1559265927525_0087',slaves,jobids=range(1,3)) # grow_policy = lossguide"
   ]
  },
  {
   "cell_type": "code",
   "execution_count": 30,
   "metadata": {
    "hidden": true,
    "scrolled": true
   },
   "outputs": [
    {
     "name": "stdout",
     "output_type": "stream",
     "text": [
      "applog start time: 1560289525431\n",
      "with PM/AM\n",
      "start time: 1560289525.431\n"
     ]
    },
    {
     "data": {
      "text/plain": [
       "[Row(min_time=1560289520)]"
      ]
     },
     "metadata": {},
     "output_type": "display_data"
    },
    {
     "name": "stdout",
     "output_type": "stream",
     "text": [
      "with PM/AM\n",
      "start time: 1560289525.431\n"
     ]
    },
    {
     "data": {
      "text/plain": [
       "[Row(min_time=1560289520)]"
      ]
     },
     "metadata": {},
     "output_type": "display_data"
    },
    {
     "name": "stdout",
     "output_type": "stream",
     "text": [
      "with PM/AM\n",
      "start time: 1560289525.431\n"
     ]
    },
    {
     "data": {
      "text/plain": [
       "[Row(min_time=1560289520)]"
      ]
     },
     "metadata": {},
     "output_type": "display_data"
    },
    {
     "name": "stdout",
     "output_type": "stream",
     "text": [
      "with PM/AM\n",
      "start time: 1560289525.431\n"
     ]
    },
    {
     "data": {
      "text/plain": [
       "[Row(min_time=1560289520)]"
      ]
     },
     "metadata": {},
     "output_type": "display_data"
    },
    {
     "name": "stdout",
     "output_type": "stream",
     "text": [
      "with PM/AM\n",
      "start time: 1560289525.431\n"
     ]
    },
    {
     "data": {
      "text/plain": [
       "[Row(min_time=1560289521)]"
      ]
     },
     "metadata": {},
     "output_type": "display_data"
    },
    {
     "name": "stdout",
     "output_type": "stream",
     "text": [
      "with PM/AM\n",
      "start time: 1560289525.431\n"
     ]
    },
    {
     "data": {
      "text/plain": [
       "[Row(min_time=1560289521)]"
      ]
     },
     "metadata": {},
     "output_type": "display_data"
    },
    {
     "name": "stdout",
     "output_type": "stream",
     "text": [
      "with PM/AM\n",
      "start time: 1560289525.431\n"
     ]
    },
    {
     "data": {
      "text/plain": [
       "[Row(min_time=1560289521)]"
      ]
     },
     "metadata": {},
     "output_type": "display_data"
    },
    {
     "name": "stdout",
     "output_type": "stream",
     "text": [
      "with PM/AM\n",
      "start time: 1560289525.431\n"
     ]
    },
    {
     "data": {
      "text/plain": [
       "[Row(min_time=1560289521)]"
      ]
     },
     "metadata": {},
     "output_type": "display_data"
    },
    {
     "name": "stdout",
     "output_type": "stream",
     "text": [
      "with PM/AM\n",
      "start time: 1560289525.431\n"
     ]
    },
    {
     "data": {
      "text/plain": [
       "[Row(min_time=1560289522)]"
      ]
     },
     "metadata": {},
     "output_type": "display_data"
    },
    {
     "name": "stdout",
     "output_type": "stream",
     "text": [
      "with PM/AM\n",
      "start time: 1560289525.431\n"
     ]
    },
    {
     "data": {
      "text/plain": [
       "[Row(min_time=1560289522)]"
      ]
     },
     "metadata": {},
     "output_type": "display_data"
    },
    {
     "name": "stdout",
     "output_type": "stream",
     "text": [
      "with PM/AM\n",
      "start time: 1560289525.431\n"
     ]
    },
    {
     "data": {
      "text/plain": [
       "[Row(min_time=1560289522)]"
      ]
     },
     "metadata": {},
     "output_type": "display_data"
    },
    {
     "name": "stdout",
     "output_type": "stream",
     "text": [
      "with PM/AM\n",
      "start time: 1560289525.431\n"
     ]
    },
    {
     "data": {
      "text/plain": [
       "[Row(min_time=1560289522)]"
      ]
     },
     "metadata": {},
     "output_type": "display_data"
    },
    {
     "name": "stdout",
     "output_type": "stream",
     "text": [
      "with PM/AM\n",
      "start time: 1560289525.431\n"
     ]
    },
    {
     "data": {
      "text/plain": [
       "[Row(min_time=1560289523)]"
      ]
     },
     "metadata": {},
     "output_type": "display_data"
    },
    {
     "name": "stdout",
     "output_type": "stream",
     "text": [
      "with PM/AM\n",
      "start time: 1560289525.431\n"
     ]
    },
    {
     "data": {
      "text/plain": [
       "[Row(min_time=1560289523)]"
      ]
     },
     "metadata": {},
     "output_type": "display_data"
    },
    {
     "name": "stdout",
     "output_type": "stream",
     "text": [
      "with PM/AM\n",
      "start time: 1560289525.431\n"
     ]
    },
    {
     "data": {
      "text/plain": [
       "[Row(min_time=1560289523)]"
      ]
     },
     "metadata": {},
     "output_type": "display_data"
    },
    {
     "name": "stdout",
     "output_type": "stream",
     "text": [
      "with PM/AM\n",
      "start time: 1560289525.431\n"
     ]
    },
    {
     "data": {
      "text/plain": [
       "[Row(min_time=1560289523)]"
      ]
     },
     "metadata": {},
     "output_type": "display_data"
    },
    {
     "name": "stdout",
     "output_type": "stream",
     "text": [
      "http://sr525:1088/tracing_examples/trace_viewer.html#/tracing/test_data/application_1559265927525_0087.json\n"
     ]
    }
   ],
   "source": [
    "app.generate_trace_view(showemon=False)"
   ]
  },
  {
   "cell_type": "code",
   "execution_count": 17,
   "metadata": {
    "hidden": true
   },
   "outputs": [],
   "source": [
    "app=Application_Run('application_1559265927525_0108',slaves,jobids=range(1,3)) # grow_policy = depthwise"
   ]
  },
  {
   "cell_type": "code",
   "execution_count": 18,
   "metadata": {
    "hidden": true,
    "scrolled": false
   },
   "outputs": [
    {
     "name": "stdout",
     "output_type": "stream",
     "text": [
      "applog start time: 1560468402698\n",
      "with PM/AM\n",
      "start time: 1560468402.698\n"
     ]
    },
    {
     "data": {
      "text/plain": [
       "[Row(min_time=1560468398)]"
      ]
     },
     "metadata": {},
     "output_type": "display_data"
    },
    {
     "name": "stdout",
     "output_type": "stream",
     "text": [
      "with PM/AM\n",
      "start time: 1560468402.698\n"
     ]
    },
    {
     "data": {
      "text/plain": [
       "[Row(min_time=1560468398)]"
      ]
     },
     "metadata": {},
     "output_type": "display_data"
    },
    {
     "name": "stdout",
     "output_type": "stream",
     "text": [
      "with PM/AM\n",
      "start time: 1560468402.698\n"
     ]
    },
    {
     "data": {
      "text/plain": [
       "[Row(min_time=1560468398)]"
      ]
     },
     "metadata": {},
     "output_type": "display_data"
    },
    {
     "name": "stdout",
     "output_type": "stream",
     "text": [
      "with PM/AM\n",
      "start time: 1560468402.698\n"
     ]
    },
    {
     "data": {
      "text/plain": [
       "[Row(min_time=1560468398)]"
      ]
     },
     "metadata": {},
     "output_type": "display_data"
    },
    {
     "name": "stdout",
     "output_type": "stream",
     "text": [
      "with PM/AM\n",
      "start time: 1560468402.698\n"
     ]
    },
    {
     "data": {
      "text/plain": [
       "[Row(min_time=1560468399)]"
      ]
     },
     "metadata": {},
     "output_type": "display_data"
    },
    {
     "name": "stdout",
     "output_type": "stream",
     "text": [
      "with PM/AM\n",
      "start time: 1560468402.698\n"
     ]
    },
    {
     "data": {
      "text/plain": [
       "[Row(min_time=1560468399)]"
      ]
     },
     "metadata": {},
     "output_type": "display_data"
    },
    {
     "name": "stdout",
     "output_type": "stream",
     "text": [
      "with PM/AM\n",
      "start time: 1560468402.698\n"
     ]
    },
    {
     "data": {
      "text/plain": [
       "[Row(min_time=1560468399)]"
      ]
     },
     "metadata": {},
     "output_type": "display_data"
    },
    {
     "name": "stdout",
     "output_type": "stream",
     "text": [
      "with PM/AM\n",
      "start time: 1560468402.698\n"
     ]
    },
    {
     "data": {
      "text/plain": [
       "[Row(min_time=1560468399)]"
      ]
     },
     "metadata": {},
     "output_type": "display_data"
    },
    {
     "name": "stdout",
     "output_type": "stream",
     "text": [
      "with PM/AM\n",
      "start time: 1560468402.698\n"
     ]
    },
    {
     "data": {
      "text/plain": [
       "[Row(min_time=1560468399)]"
      ]
     },
     "metadata": {},
     "output_type": "display_data"
    },
    {
     "name": "stdout",
     "output_type": "stream",
     "text": [
      "with PM/AM\n",
      "start time: 1560468402.698\n"
     ]
    },
    {
     "data": {
      "text/plain": [
       "[Row(min_time=1560468399)]"
      ]
     },
     "metadata": {},
     "output_type": "display_data"
    },
    {
     "name": "stdout",
     "output_type": "stream",
     "text": [
      "with PM/AM\n",
      "start time: 1560468402.698\n"
     ]
    },
    {
     "data": {
      "text/plain": [
       "[Row(min_time=1560468399)]"
      ]
     },
     "metadata": {},
     "output_type": "display_data"
    },
    {
     "name": "stdout",
     "output_type": "stream",
     "text": [
      "with PM/AM\n",
      "start time: 1560468402.698\n"
     ]
    },
    {
     "data": {
      "text/plain": [
       "[Row(min_time=1560468399)]"
      ]
     },
     "metadata": {},
     "output_type": "display_data"
    },
    {
     "name": "stdout",
     "output_type": "stream",
     "text": [
      "with PM/AM\n",
      "start time: 1560468402.698\n"
     ]
    },
    {
     "data": {
      "text/plain": [
       "[Row(min_time=1560468400)]"
      ]
     },
     "metadata": {},
     "output_type": "display_data"
    },
    {
     "name": "stdout",
     "output_type": "stream",
     "text": [
      "with PM/AM\n",
      "start time: 1560468402.698\n"
     ]
    },
    {
     "data": {
      "text/plain": [
       "[Row(min_time=1560468400)]"
      ]
     },
     "metadata": {},
     "output_type": "display_data"
    },
    {
     "name": "stdout",
     "output_type": "stream",
     "text": [
      "with PM/AM\n",
      "start time: 1560468402.698\n"
     ]
    },
    {
     "data": {
      "text/plain": [
       "[Row(min_time=1560468400)]"
      ]
     },
     "metadata": {},
     "output_type": "display_data"
    },
    {
     "name": "stdout",
     "output_type": "stream",
     "text": [
      "with PM/AM\n",
      "start time: 1560468402.698\n"
     ]
    },
    {
     "data": {
      "text/plain": [
       "[Row(min_time=1560468400)]"
      ]
     },
     "metadata": {},
     "output_type": "display_data"
    },
    {
     "name": "stdout",
     "output_type": "stream",
     "text": [
      "http://sr525:1088/tracing_examples/trace_viewer.html#/tracing/test_data/application_1559265927525_0108.json\n"
     ]
    }
   ],
   "source": [
    "app.generate_trace_view(showemon=False)"
   ]
  },
  {
   "cell_type": "markdown",
   "metadata": {
    "heading_collapsed": true
   },
   "source": [
    "# xgboost-0.90 OPT 64GB OMP mode"
   ]
  },
  {
   "cell_type": "code",
   "execution_count": 23,
   "metadata": {
    "hidden": true
   },
   "outputs": [],
   "source": [
    "app=Application_Run('application_1559265927525_0084',slaves,jobids=range(1,3)) # grow_policy = depthwise"
   ]
  },
  {
   "cell_type": "code",
   "execution_count": 24,
   "metadata": {
    "hidden": true,
    "scrolled": true
   },
   "outputs": [
    {
     "name": "stdout",
     "output_type": "stream",
     "text": [
      "applog start time: 1560283622018\n",
      "with PM/AM\n",
      "start time: 1560283622.018\n"
     ]
    },
    {
     "data": {
      "text/plain": [
       "[Row(min_time=1560283617)]"
      ]
     },
     "metadata": {},
     "output_type": "display_data"
    },
    {
     "name": "stdout",
     "output_type": "stream",
     "text": [
      "with PM/AM\n",
      "start time: 1560283622.018\n"
     ]
    },
    {
     "data": {
      "text/plain": [
       "[Row(min_time=1560283617)]"
      ]
     },
     "metadata": {},
     "output_type": "display_data"
    },
    {
     "name": "stdout",
     "output_type": "stream",
     "text": [
      "with PM/AM\n",
      "start time: 1560283622.018\n"
     ]
    },
    {
     "data": {
      "text/plain": [
       "[Row(min_time=1560283617)]"
      ]
     },
     "metadata": {},
     "output_type": "display_data"
    },
    {
     "name": "stdout",
     "output_type": "stream",
     "text": [
      "with PM/AM\n",
      "start time: 1560283622.018\n"
     ]
    },
    {
     "data": {
      "text/plain": [
       "[Row(min_time=1560283617)]"
      ]
     },
     "metadata": {},
     "output_type": "display_data"
    },
    {
     "name": "stdout",
     "output_type": "stream",
     "text": [
      "with PM/AM\n",
      "start time: 1560283622.018\n"
     ]
    },
    {
     "data": {
      "text/plain": [
       "[Row(min_time=1560283618)]"
      ]
     },
     "metadata": {},
     "output_type": "display_data"
    },
    {
     "name": "stdout",
     "output_type": "stream",
     "text": [
      "with PM/AM\n",
      "start time: 1560283622.018\n"
     ]
    },
    {
     "data": {
      "text/plain": [
       "[Row(min_time=1560283618)]"
      ]
     },
     "metadata": {},
     "output_type": "display_data"
    },
    {
     "name": "stdout",
     "output_type": "stream",
     "text": [
      "with PM/AM\n",
      "start time: 1560283622.018\n"
     ]
    },
    {
     "data": {
      "text/plain": [
       "[Row(min_time=1560283618)]"
      ]
     },
     "metadata": {},
     "output_type": "display_data"
    },
    {
     "name": "stdout",
     "output_type": "stream",
     "text": [
      "with PM/AM\n",
      "start time: 1560283622.018\n"
     ]
    },
    {
     "data": {
      "text/plain": [
       "[Row(min_time=1560283618)]"
      ]
     },
     "metadata": {},
     "output_type": "display_data"
    },
    {
     "name": "stdout",
     "output_type": "stream",
     "text": [
      "with PM/AM\n",
      "start time: 1560283622.018\n"
     ]
    },
    {
     "data": {
      "text/plain": [
       "[Row(min_time=1560283619)]"
      ]
     },
     "metadata": {},
     "output_type": "display_data"
    },
    {
     "name": "stdout",
     "output_type": "stream",
     "text": [
      "with PM/AM\n",
      "start time: 1560283622.018\n"
     ]
    },
    {
     "data": {
      "text/plain": [
       "[Row(min_time=1560283619)]"
      ]
     },
     "metadata": {},
     "output_type": "display_data"
    },
    {
     "name": "stdout",
     "output_type": "stream",
     "text": [
      "with PM/AM\n",
      "start time: 1560283622.018\n"
     ]
    },
    {
     "data": {
      "text/plain": [
       "[Row(min_time=1560283619)]"
      ]
     },
     "metadata": {},
     "output_type": "display_data"
    },
    {
     "name": "stdout",
     "output_type": "stream",
     "text": [
      "with PM/AM\n",
      "start time: 1560283622.018\n"
     ]
    },
    {
     "data": {
      "text/plain": [
       "[Row(min_time=1560283619)]"
      ]
     },
     "metadata": {},
     "output_type": "display_data"
    },
    {
     "name": "stdout",
     "output_type": "stream",
     "text": [
      "with PM/AM\n",
      "start time: 1560283622.018\n"
     ]
    },
    {
     "data": {
      "text/plain": [
       "[Row(min_time=1560283620)]"
      ]
     },
     "metadata": {},
     "output_type": "display_data"
    },
    {
     "name": "stdout",
     "output_type": "stream",
     "text": [
      "with PM/AM\n",
      "start time: 1560283622.018\n"
     ]
    },
    {
     "data": {
      "text/plain": [
       "[Row(min_time=1560283620)]"
      ]
     },
     "metadata": {},
     "output_type": "display_data"
    },
    {
     "name": "stdout",
     "output_type": "stream",
     "text": [
      "with PM/AM\n",
      "start time: 1560283622.018\n"
     ]
    },
    {
     "data": {
      "text/plain": [
       "[Row(min_time=1560283620)]"
      ]
     },
     "metadata": {},
     "output_type": "display_data"
    },
    {
     "name": "stdout",
     "output_type": "stream",
     "text": [
      "with PM/AM\n",
      "start time: 1560283622.018\n"
     ]
    },
    {
     "data": {
      "text/plain": [
       "[Row(min_time=1560283620)]"
      ]
     },
     "metadata": {},
     "output_type": "display_data"
    },
    {
     "name": "stdout",
     "output_type": "stream",
     "text": [
      "http://sr525:1088/tracing_examples/trace_viewer.html#/tracing/test_data/application_1559265927525_0084.json\n"
     ]
    }
   ],
   "source": [
    "app.generate_trace_view(showemon=False)"
   ]
  },
  {
   "cell_type": "code",
   "execution_count": 23,
   "metadata": {
    "hidden": true
   },
   "outputs": [],
   "source": [
    "app=Application_Run('application_1559265927525_0110',slaves,jobids=range(1,3)) # grow_policy = lossguide"
   ]
  },
  {
   "cell_type": "code",
   "execution_count": 24,
   "metadata": {
    "hidden": true,
    "scrolled": true
   },
   "outputs": [
    {
     "name": "stdout",
     "output_type": "stream",
     "text": [
      "applog start time: 1560472689920\n",
      "with PM/AM\n",
      "start time: 1560472689.92\n"
     ]
    },
    {
     "data": {
      "text/plain": [
       "[Row(min_time=1560472685)]"
      ]
     },
     "metadata": {},
     "output_type": "display_data"
    },
    {
     "name": "stdout",
     "output_type": "stream",
     "text": [
      "with PM/AM\n",
      "start time: 1560472689.92\n"
     ]
    },
    {
     "data": {
      "text/plain": [
       "[Row(min_time=1560472685)]"
      ]
     },
     "metadata": {},
     "output_type": "display_data"
    },
    {
     "name": "stdout",
     "output_type": "stream",
     "text": [
      "with PM/AM\n",
      "start time: 1560472689.92\n"
     ]
    },
    {
     "data": {
      "text/plain": [
       "[Row(min_time=1560472685)]"
      ]
     },
     "metadata": {},
     "output_type": "display_data"
    },
    {
     "name": "stdout",
     "output_type": "stream",
     "text": [
      "with PM/AM\n",
      "start time: 1560472689.92\n"
     ]
    },
    {
     "data": {
      "text/plain": [
       "[Row(min_time=1560472685)]"
      ]
     },
     "metadata": {},
     "output_type": "display_data"
    },
    {
     "name": "stdout",
     "output_type": "stream",
     "text": [
      "with PM/AM\n",
      "start time: 1560472689.92\n"
     ]
    },
    {
     "data": {
      "text/plain": [
       "[Row(min_time=1560472686)]"
      ]
     },
     "metadata": {},
     "output_type": "display_data"
    },
    {
     "name": "stdout",
     "output_type": "stream",
     "text": [
      "with PM/AM\n",
      "start time: 1560472689.92\n"
     ]
    },
    {
     "data": {
      "text/plain": [
       "[Row(min_time=1560472686)]"
      ]
     },
     "metadata": {},
     "output_type": "display_data"
    },
    {
     "name": "stdout",
     "output_type": "stream",
     "text": [
      "with PM/AM\n",
      "start time: 1560472689.92\n"
     ]
    },
    {
     "data": {
      "text/plain": [
       "[Row(min_time=1560472686)]"
      ]
     },
     "metadata": {},
     "output_type": "display_data"
    },
    {
     "name": "stdout",
     "output_type": "stream",
     "text": [
      "with PM/AM\n",
      "start time: 1560472689.92\n"
     ]
    },
    {
     "data": {
      "text/plain": [
       "[Row(min_time=1560472686)]"
      ]
     },
     "metadata": {},
     "output_type": "display_data"
    },
    {
     "name": "stdout",
     "output_type": "stream",
     "text": [
      "with PM/AM\n",
      "start time: 1560472689.92\n"
     ]
    },
    {
     "data": {
      "text/plain": [
       "[Row(min_time=1560472686)]"
      ]
     },
     "metadata": {},
     "output_type": "display_data"
    },
    {
     "name": "stdout",
     "output_type": "stream",
     "text": [
      "with PM/AM\n",
      "start time: 1560472689.92\n"
     ]
    },
    {
     "data": {
      "text/plain": [
       "[Row(min_time=1560472686)]"
      ]
     },
     "metadata": {},
     "output_type": "display_data"
    },
    {
     "name": "stdout",
     "output_type": "stream",
     "text": [
      "with PM/AM\n",
      "start time: 1560472689.92\n"
     ]
    },
    {
     "data": {
      "text/plain": [
       "[Row(min_time=1560472686)]"
      ]
     },
     "metadata": {},
     "output_type": "display_data"
    },
    {
     "name": "stdout",
     "output_type": "stream",
     "text": [
      "with PM/AM\n",
      "start time: 1560472689.92\n"
     ]
    },
    {
     "data": {
      "text/plain": [
       "[Row(min_time=1560472686)]"
      ]
     },
     "metadata": {},
     "output_type": "display_data"
    },
    {
     "name": "stdout",
     "output_type": "stream",
     "text": [
      "with PM/AM\n",
      "start time: 1560472689.92\n"
     ]
    },
    {
     "data": {
      "text/plain": [
       "[Row(min_time=1560472687)]"
      ]
     },
     "metadata": {},
     "output_type": "display_data"
    },
    {
     "name": "stdout",
     "output_type": "stream",
     "text": [
      "with PM/AM\n",
      "start time: 1560472689.92\n"
     ]
    },
    {
     "data": {
      "text/plain": [
       "[Row(min_time=1560472687)]"
      ]
     },
     "metadata": {},
     "output_type": "display_data"
    },
    {
     "name": "stdout",
     "output_type": "stream",
     "text": [
      "with PM/AM\n",
      "start time: 1560472689.92\n"
     ]
    },
    {
     "data": {
      "text/plain": [
       "[Row(min_time=1560472687)]"
      ]
     },
     "metadata": {},
     "output_type": "display_data"
    },
    {
     "name": "stdout",
     "output_type": "stream",
     "text": [
      "with PM/AM\n",
      "start time: 1560472689.92\n"
     ]
    },
    {
     "data": {
      "text/plain": [
       "[Row(min_time=1560472687)]"
      ]
     },
     "metadata": {},
     "output_type": "display_data"
    },
    {
     "name": "stdout",
     "output_type": "stream",
     "text": [
      "http://sr525:1088/tracing_examples/trace_viewer.html#/tracing/test_data/application_1559265927525_0110.json\n"
     ]
    }
   ],
   "source": [
    "app.generate_trace_view(showemon=False)"
   ]
  },
  {
   "cell_type": "markdown",
   "metadata": {
    "heading_collapsed": true
   },
   "source": [
    "# xgboost-0.90 64GB Task mode"
   ]
  },
  {
   "cell_type": "code",
   "execution_count": 27,
   "metadata": {
    "hidden": true
   },
   "outputs": [],
   "source": [
    "app=Application_Run('application_1559265927525_0086',slaves,jobids=range(1,3)) # grow_policy = lossguide"
   ]
  },
  {
   "cell_type": "code",
   "execution_count": 28,
   "metadata": {
    "hidden": true,
    "scrolled": false
   },
   "outputs": [
    {
     "name": "stdout",
     "output_type": "stream",
     "text": [
      "applog start time: 1560287633571\n",
      "with PM/AM\n",
      "start time: 1560287633.571\n"
     ]
    },
    {
     "data": {
      "text/plain": [
       "[Row(min_time=1560287627)]"
      ]
     },
     "metadata": {},
     "output_type": "display_data"
    },
    {
     "name": "stdout",
     "output_type": "stream",
     "text": [
      "with PM/AM\n",
      "start time: 1560287633.571\n"
     ]
    },
    {
     "data": {
      "text/plain": [
       "[Row(min_time=1560287627)]"
      ]
     },
     "metadata": {},
     "output_type": "display_data"
    },
    {
     "name": "stdout",
     "output_type": "stream",
     "text": [
      "with PM/AM\n",
      "start time: 1560287633.571\n"
     ]
    },
    {
     "data": {
      "text/plain": [
       "[Row(min_time=1560287627)]"
      ]
     },
     "metadata": {},
     "output_type": "display_data"
    },
    {
     "name": "stdout",
     "output_type": "stream",
     "text": [
      "with PM/AM\n",
      "start time: 1560287633.571\n"
     ]
    },
    {
     "data": {
      "text/plain": [
       "[Row(min_time=1560287627)]"
      ]
     },
     "metadata": {},
     "output_type": "display_data"
    },
    {
     "name": "stdout",
     "output_type": "stream",
     "text": [
      "with PM/AM\n",
      "start time: 1560287633.571\n"
     ]
    },
    {
     "data": {
      "text/plain": [
       "[Row(min_time=1560287628)]"
      ]
     },
     "metadata": {},
     "output_type": "display_data"
    },
    {
     "name": "stdout",
     "output_type": "stream",
     "text": [
      "with PM/AM\n",
      "start time: 1560287633.571\n"
     ]
    },
    {
     "data": {
      "text/plain": [
       "[Row(min_time=1560287628)]"
      ]
     },
     "metadata": {},
     "output_type": "display_data"
    },
    {
     "name": "stdout",
     "output_type": "stream",
     "text": [
      "with PM/AM\n",
      "start time: 1560287633.571\n"
     ]
    },
    {
     "data": {
      "text/plain": [
       "[Row(min_time=1560287628)]"
      ]
     },
     "metadata": {},
     "output_type": "display_data"
    },
    {
     "name": "stdout",
     "output_type": "stream",
     "text": [
      "with PM/AM\n",
      "start time: 1560287633.571\n"
     ]
    },
    {
     "data": {
      "text/plain": [
       "[Row(min_time=1560287628)]"
      ]
     },
     "metadata": {},
     "output_type": "display_data"
    },
    {
     "name": "stdout",
     "output_type": "stream",
     "text": [
      "with PM/AM\n",
      "start time: 1560287633.571\n"
     ]
    },
    {
     "data": {
      "text/plain": [
       "[Row(min_time=1560287629)]"
      ]
     },
     "metadata": {},
     "output_type": "display_data"
    },
    {
     "name": "stdout",
     "output_type": "stream",
     "text": [
      "with PM/AM\n",
      "start time: 1560287633.571\n"
     ]
    },
    {
     "data": {
      "text/plain": [
       "[Row(min_time=1560287629)]"
      ]
     },
     "metadata": {},
     "output_type": "display_data"
    },
    {
     "name": "stdout",
     "output_type": "stream",
     "text": [
      "with PM/AM\n",
      "start time: 1560287633.571\n"
     ]
    },
    {
     "data": {
      "text/plain": [
       "[Row(min_time=1560287629)]"
      ]
     },
     "metadata": {},
     "output_type": "display_data"
    },
    {
     "name": "stdout",
     "output_type": "stream",
     "text": [
      "with PM/AM\n",
      "start time: 1560287633.571\n"
     ]
    },
    {
     "data": {
      "text/plain": [
       "[Row(min_time=1560287629)]"
      ]
     },
     "metadata": {},
     "output_type": "display_data"
    },
    {
     "name": "stdout",
     "output_type": "stream",
     "text": [
      "with PM/AM\n",
      "start time: 1560287633.571\n"
     ]
    },
    {
     "data": {
      "text/plain": [
       "[Row(min_time=1560287630)]"
      ]
     },
     "metadata": {},
     "output_type": "display_data"
    },
    {
     "name": "stdout",
     "output_type": "stream",
     "text": [
      "with PM/AM\n",
      "start time: 1560287633.571\n"
     ]
    },
    {
     "data": {
      "text/plain": [
       "[Row(min_time=1560287630)]"
      ]
     },
     "metadata": {},
     "output_type": "display_data"
    },
    {
     "name": "stdout",
     "output_type": "stream",
     "text": [
      "with PM/AM\n",
      "start time: 1560287633.571\n"
     ]
    },
    {
     "data": {
      "text/plain": [
       "[Row(min_time=1560287630)]"
      ]
     },
     "metadata": {},
     "output_type": "display_data"
    },
    {
     "name": "stdout",
     "output_type": "stream",
     "text": [
      "with PM/AM\n",
      "start time: 1560287633.571\n"
     ]
    },
    {
     "data": {
      "text/plain": [
       "[Row(min_time=1560287630)]"
      ]
     },
     "metadata": {},
     "output_type": "display_data"
    },
    {
     "name": "stdout",
     "output_type": "stream",
     "text": [
      "http://sr525:1088/tracing_examples/trace_viewer.html#/tracing/test_data/application_1559265927525_0086.json\n"
     ]
    }
   ],
   "source": [
    "app.generate_trace_view(showemon=False)"
   ]
  },
  {
   "cell_type": "code",
   "execution_count": 19,
   "metadata": {
    "hidden": true
   },
   "outputs": [],
   "source": [
    "app=Application_Run('application_1559265927525_0107',slaves,jobids=range(1,3)) # grow_policy = depthwise"
   ]
  },
  {
   "cell_type": "code",
   "execution_count": 20,
   "metadata": {
    "hidden": true,
    "scrolled": false
   },
   "outputs": [
    {
     "name": "stdout",
     "output_type": "stream",
     "text": [
      "applog start time: 1560467183813\n",
      "with PM/AM\n",
      "start time: 1560467183.813\n"
     ]
    },
    {
     "data": {
      "text/plain": [
       "[Row(min_time=1560467178)]"
      ]
     },
     "metadata": {},
     "output_type": "display_data"
    },
    {
     "name": "stdout",
     "output_type": "stream",
     "text": [
      "with PM/AM\n",
      "start time: 1560467183.813\n"
     ]
    },
    {
     "data": {
      "text/plain": [
       "[Row(min_time=1560467178)]"
      ]
     },
     "metadata": {},
     "output_type": "display_data"
    },
    {
     "name": "stdout",
     "output_type": "stream",
     "text": [
      "with PM/AM\n",
      "start time: 1560467183.813\n"
     ]
    },
    {
     "data": {
      "text/plain": [
       "[Row(min_time=1560467178)]"
      ]
     },
     "metadata": {},
     "output_type": "display_data"
    },
    {
     "name": "stdout",
     "output_type": "stream",
     "text": [
      "with PM/AM\n",
      "start time: 1560467183.813\n"
     ]
    },
    {
     "data": {
      "text/plain": [
       "[Row(min_time=1560467178)]"
      ]
     },
     "metadata": {},
     "output_type": "display_data"
    },
    {
     "name": "stdout",
     "output_type": "stream",
     "text": [
      "with PM/AM\n",
      "start time: 1560467183.813\n"
     ]
    },
    {
     "data": {
      "text/plain": [
       "[Row(min_time=1560467178)]"
      ]
     },
     "metadata": {},
     "output_type": "display_data"
    },
    {
     "name": "stdout",
     "output_type": "stream",
     "text": [
      "with PM/AM\n",
      "start time: 1560467183.813\n"
     ]
    },
    {
     "data": {
      "text/plain": [
       "[Row(min_time=1560467178)]"
      ]
     },
     "metadata": {},
     "output_type": "display_data"
    },
    {
     "name": "stdout",
     "output_type": "stream",
     "text": [
      "with PM/AM\n",
      "start time: 1560467183.813\n"
     ]
    },
    {
     "data": {
      "text/plain": [
       "[Row(min_time=1560467178)]"
      ]
     },
     "metadata": {},
     "output_type": "display_data"
    },
    {
     "name": "stdout",
     "output_type": "stream",
     "text": [
      "with PM/AM\n",
      "start time: 1560467183.813\n"
     ]
    },
    {
     "data": {
      "text/plain": [
       "[Row(min_time=1560467178)]"
      ]
     },
     "metadata": {},
     "output_type": "display_data"
    },
    {
     "name": "stdout",
     "output_type": "stream",
     "text": [
      "with PM/AM\n",
      "start time: 1560467183.813\n"
     ]
    },
    {
     "data": {
      "text/plain": [
       "[Row(min_time=1560467179)]"
      ]
     },
     "metadata": {},
     "output_type": "display_data"
    },
    {
     "name": "stdout",
     "output_type": "stream",
     "text": [
      "with PM/AM\n",
      "start time: 1560467183.813\n"
     ]
    },
    {
     "data": {
      "text/plain": [
       "[Row(min_time=1560467179)]"
      ]
     },
     "metadata": {},
     "output_type": "display_data"
    },
    {
     "name": "stdout",
     "output_type": "stream",
     "text": [
      "with PM/AM\n",
      "start time: 1560467183.813\n"
     ]
    },
    {
     "data": {
      "text/plain": [
       "[Row(min_time=1560467179)]"
      ]
     },
     "metadata": {},
     "output_type": "display_data"
    },
    {
     "name": "stdout",
     "output_type": "stream",
     "text": [
      "with PM/AM\n",
      "start time: 1560467183.813\n"
     ]
    },
    {
     "data": {
      "text/plain": [
       "[Row(min_time=1560467179)]"
      ]
     },
     "metadata": {},
     "output_type": "display_data"
    },
    {
     "name": "stdout",
     "output_type": "stream",
     "text": [
      "with PM/AM\n",
      "start time: 1560467183.813\n"
     ]
    },
    {
     "data": {
      "text/plain": [
       "[Row(min_time=1560467180)]"
      ]
     },
     "metadata": {},
     "output_type": "display_data"
    },
    {
     "name": "stdout",
     "output_type": "stream",
     "text": [
      "with PM/AM\n",
      "start time: 1560467183.813\n"
     ]
    },
    {
     "data": {
      "text/plain": [
       "[Row(min_time=1560467180)]"
      ]
     },
     "metadata": {},
     "output_type": "display_data"
    },
    {
     "name": "stdout",
     "output_type": "stream",
     "text": [
      "with PM/AM\n",
      "start time: 1560467183.813\n"
     ]
    },
    {
     "data": {
      "text/plain": [
       "[Row(min_time=1560467180)]"
      ]
     },
     "metadata": {},
     "output_type": "display_data"
    },
    {
     "name": "stdout",
     "output_type": "stream",
     "text": [
      "with PM/AM\n",
      "start time: 1560467183.813\n"
     ]
    },
    {
     "data": {
      "text/plain": [
       "[Row(min_time=1560467180)]"
      ]
     },
     "metadata": {},
     "output_type": "display_data"
    },
    {
     "name": "stdout",
     "output_type": "stream",
     "text": [
      "http://sr525:1088/tracing_examples/trace_viewer.html#/tracing/test_data/application_1559265927525_0107.json\n"
     ]
    }
   ],
   "source": [
    "app.generate_trace_view(showemon=False)"
   ]
  },
  {
   "cell_type": "markdown",
   "metadata": {
    "heading_collapsed": true
   },
   "source": [
    "# xgboost-0.90 OPT 64GB Task mode"
   ]
  },
  {
   "cell_type": "code",
   "execution_count": 25,
   "metadata": {
    "hidden": true
   },
   "outputs": [],
   "source": [
    "app=Application_Run('application_1559265927525_0085',slaves,jobids=range(1,3)) # grow_policy=depthwise"
   ]
  },
  {
   "cell_type": "code",
   "execution_count": 26,
   "metadata": {
    "hidden": true,
    "scrolled": true
   },
   "outputs": [
    {
     "name": "stdout",
     "output_type": "stream",
     "text": [
      "applog start time: 1560285441295\n",
      "with PM/AM\n",
      "start time: 1560285441.295\n"
     ]
    },
    {
     "data": {
      "text/plain": [
       "[Row(min_time=1560285436)]"
      ]
     },
     "metadata": {},
     "output_type": "display_data"
    },
    {
     "name": "stdout",
     "output_type": "stream",
     "text": [
      "with PM/AM\n",
      "start time: 1560285441.295\n"
     ]
    },
    {
     "data": {
      "text/plain": [
       "[Row(min_time=1560285436)]"
      ]
     },
     "metadata": {},
     "output_type": "display_data"
    },
    {
     "name": "stdout",
     "output_type": "stream",
     "text": [
      "with PM/AM\n",
      "start time: 1560285441.295\n"
     ]
    },
    {
     "data": {
      "text/plain": [
       "[Row(min_time=1560285436)]"
      ]
     },
     "metadata": {},
     "output_type": "display_data"
    },
    {
     "name": "stdout",
     "output_type": "stream",
     "text": [
      "with PM/AM\n",
      "start time: 1560285441.295\n"
     ]
    },
    {
     "data": {
      "text/plain": [
       "[Row(min_time=1560285436)]"
      ]
     },
     "metadata": {},
     "output_type": "display_data"
    },
    {
     "name": "stdout",
     "output_type": "stream",
     "text": [
      "with PM/AM\n",
      "start time: 1560285441.295\n"
     ]
    },
    {
     "data": {
      "text/plain": [
       "[Row(min_time=1560285437)]"
      ]
     },
     "metadata": {},
     "output_type": "display_data"
    },
    {
     "name": "stdout",
     "output_type": "stream",
     "text": [
      "with PM/AM\n",
      "start time: 1560285441.295\n"
     ]
    },
    {
     "data": {
      "text/plain": [
       "[Row(min_time=1560285437)]"
      ]
     },
     "metadata": {},
     "output_type": "display_data"
    },
    {
     "name": "stdout",
     "output_type": "stream",
     "text": [
      "with PM/AM\n",
      "start time: 1560285441.295\n"
     ]
    },
    {
     "data": {
      "text/plain": [
       "[Row(min_time=1560285437)]"
      ]
     },
     "metadata": {},
     "output_type": "display_data"
    },
    {
     "name": "stdout",
     "output_type": "stream",
     "text": [
      "with PM/AM\n",
      "start time: 1560285441.295\n"
     ]
    },
    {
     "data": {
      "text/plain": [
       "[Row(min_time=1560285437)]"
      ]
     },
     "metadata": {},
     "output_type": "display_data"
    },
    {
     "name": "stdout",
     "output_type": "stream",
     "text": [
      "with PM/AM\n",
      "start time: 1560285441.295\n"
     ]
    },
    {
     "data": {
      "text/plain": [
       "[Row(min_time=1560285438)]"
      ]
     },
     "metadata": {},
     "output_type": "display_data"
    },
    {
     "name": "stdout",
     "output_type": "stream",
     "text": [
      "with PM/AM\n",
      "start time: 1560285441.295\n"
     ]
    },
    {
     "data": {
      "text/plain": [
       "[Row(min_time=1560285438)]"
      ]
     },
     "metadata": {},
     "output_type": "display_data"
    },
    {
     "name": "stdout",
     "output_type": "stream",
     "text": [
      "with PM/AM\n",
      "start time: 1560285441.295\n"
     ]
    },
    {
     "data": {
      "text/plain": [
       "[Row(min_time=1560285438)]"
      ]
     },
     "metadata": {},
     "output_type": "display_data"
    },
    {
     "name": "stdout",
     "output_type": "stream",
     "text": [
      "with PM/AM\n",
      "start time: 1560285441.295\n"
     ]
    },
    {
     "data": {
      "text/plain": [
       "[Row(min_time=1560285438)]"
      ]
     },
     "metadata": {},
     "output_type": "display_data"
    },
    {
     "name": "stdout",
     "output_type": "stream",
     "text": [
      "with PM/AM\n",
      "start time: 1560285441.295\n"
     ]
    },
    {
     "data": {
      "text/plain": [
       "[Row(min_time=1560285439)]"
      ]
     },
     "metadata": {},
     "output_type": "display_data"
    },
    {
     "name": "stdout",
     "output_type": "stream",
     "text": [
      "with PM/AM\n",
      "start time: 1560285441.295\n"
     ]
    },
    {
     "data": {
      "text/plain": [
       "[Row(min_time=1560285439)]"
      ]
     },
     "metadata": {},
     "output_type": "display_data"
    },
    {
     "name": "stdout",
     "output_type": "stream",
     "text": [
      "with PM/AM\n",
      "start time: 1560285441.295\n"
     ]
    },
    {
     "data": {
      "text/plain": [
       "[Row(min_time=1560285439)]"
      ]
     },
     "metadata": {},
     "output_type": "display_data"
    },
    {
     "name": "stdout",
     "output_type": "stream",
     "text": [
      "with PM/AM\n",
      "start time: 1560285441.295\n"
     ]
    },
    {
     "data": {
      "text/plain": [
       "[Row(min_time=1560285439)]"
      ]
     },
     "metadata": {},
     "output_type": "display_data"
    },
    {
     "name": "stdout",
     "output_type": "stream",
     "text": [
      "http://sr525:1088/tracing_examples/trace_viewer.html#/tracing/test_data/application_1559265927525_0085.json\n"
     ]
    }
   ],
   "source": [
    "app.generate_trace_view(showemon=False)"
   ]
  },
  {
   "cell_type": "code",
   "execution_count": 21,
   "metadata": {
    "hidden": true
   },
   "outputs": [],
   "source": [
    "app=Application_Run('application_1559265927525_0109',slaves,jobids=range(1,3)) # grow_policy=lossguide"
   ]
  },
  {
   "cell_type": "code",
   "execution_count": 22,
   "metadata": {
    "hidden": true,
    "scrolled": false
   },
   "outputs": [
    {
     "name": "stdout",
     "output_type": "stream",
     "text": [
      "applog start time: 1560471885679\n",
      "with PM/AM\n",
      "start time: 1560471885.679\n"
     ]
    },
    {
     "data": {
      "text/plain": [
       "[Row(min_time=1560471879)]"
      ]
     },
     "metadata": {},
     "output_type": "display_data"
    },
    {
     "name": "stdout",
     "output_type": "stream",
     "text": [
      "with PM/AM\n",
      "start time: 1560471885.679\n"
     ]
    },
    {
     "data": {
      "text/plain": [
       "[Row(min_time=1560471879)]"
      ]
     },
     "metadata": {},
     "output_type": "display_data"
    },
    {
     "name": "stdout",
     "output_type": "stream",
     "text": [
      "with PM/AM\n",
      "start time: 1560471885.679\n"
     ]
    },
    {
     "data": {
      "text/plain": [
       "[Row(min_time=1560471879)]"
      ]
     },
     "metadata": {},
     "output_type": "display_data"
    },
    {
     "name": "stdout",
     "output_type": "stream",
     "text": [
      "with PM/AM\n",
      "start time: 1560471885.679\n"
     ]
    },
    {
     "data": {
      "text/plain": [
       "[Row(min_time=1560471879)]"
      ]
     },
     "metadata": {},
     "output_type": "display_data"
    },
    {
     "name": "stdout",
     "output_type": "stream",
     "text": [
      "with PM/AM\n",
      "start time: 1560471885.679\n"
     ]
    },
    {
     "data": {
      "text/plain": [
       "[Row(min_time=1560471880)]"
      ]
     },
     "metadata": {},
     "output_type": "display_data"
    },
    {
     "name": "stdout",
     "output_type": "stream",
     "text": [
      "with PM/AM\n",
      "start time: 1560471885.679\n"
     ]
    },
    {
     "data": {
      "text/plain": [
       "[Row(min_time=1560471880)]"
      ]
     },
     "metadata": {},
     "output_type": "display_data"
    },
    {
     "name": "stdout",
     "output_type": "stream",
     "text": [
      "with PM/AM\n",
      "start time: 1560471885.679\n"
     ]
    },
    {
     "data": {
      "text/plain": [
       "[Row(min_time=1560471880)]"
      ]
     },
     "metadata": {},
     "output_type": "display_data"
    },
    {
     "name": "stdout",
     "output_type": "stream",
     "text": [
      "with PM/AM\n",
      "start time: 1560471885.679\n"
     ]
    },
    {
     "data": {
      "text/plain": [
       "[Row(min_time=1560471880)]"
      ]
     },
     "metadata": {},
     "output_type": "display_data"
    },
    {
     "name": "stdout",
     "output_type": "stream",
     "text": [
      "with PM/AM\n",
      "start time: 1560471885.679\n"
     ]
    },
    {
     "data": {
      "text/plain": [
       "[Row(min_time=1560471881)]"
      ]
     },
     "metadata": {},
     "output_type": "display_data"
    },
    {
     "name": "stdout",
     "output_type": "stream",
     "text": [
      "with PM/AM\n",
      "start time: 1560471885.679\n"
     ]
    },
    {
     "data": {
      "text/plain": [
       "[Row(min_time=1560471881)]"
      ]
     },
     "metadata": {},
     "output_type": "display_data"
    },
    {
     "name": "stdout",
     "output_type": "stream",
     "text": [
      "with PM/AM\n",
      "start time: 1560471885.679\n"
     ]
    },
    {
     "data": {
      "text/plain": [
       "[Row(min_time=1560471881)]"
      ]
     },
     "metadata": {},
     "output_type": "display_data"
    },
    {
     "name": "stdout",
     "output_type": "stream",
     "text": [
      "with PM/AM\n",
      "start time: 1560471885.679\n"
     ]
    },
    {
     "data": {
      "text/plain": [
       "[Row(min_time=1560471881)]"
      ]
     },
     "metadata": {},
     "output_type": "display_data"
    },
    {
     "name": "stdout",
     "output_type": "stream",
     "text": [
      "with PM/AM\n",
      "start time: 1560471885.679\n"
     ]
    },
    {
     "data": {
      "text/plain": [
       "[Row(min_time=1560471882)]"
      ]
     },
     "metadata": {},
     "output_type": "display_data"
    },
    {
     "name": "stdout",
     "output_type": "stream",
     "text": [
      "with PM/AM\n",
      "start time: 1560471885.679\n"
     ]
    },
    {
     "data": {
      "text/plain": [
       "[Row(min_time=1560471882)]"
      ]
     },
     "metadata": {},
     "output_type": "display_data"
    },
    {
     "name": "stdout",
     "output_type": "stream",
     "text": [
      "with PM/AM\n",
      "start time: 1560471885.679\n"
     ]
    },
    {
     "data": {
      "text/plain": [
       "[Row(min_time=1560471882)]"
      ]
     },
     "metadata": {},
     "output_type": "display_data"
    },
    {
     "name": "stdout",
     "output_type": "stream",
     "text": [
      "with PM/AM\n",
      "start time: 1560471885.679\n"
     ]
    },
    {
     "data": {
      "text/plain": [
       "[Row(min_time=1560471882)]"
      ]
     },
     "metadata": {},
     "output_type": "display_data"
    },
    {
     "name": "stdout",
     "output_type": "stream",
     "text": [
      "http://sr525:1088/tracing_examples/trace_viewer.html#/tracing/test_data/application_1559265927525_0109.json\n"
     ]
    }
   ],
   "source": [
    "app.generate_trace_view(showemon=False)"
   ]
  },
  {
   "cell_type": "markdown",
   "metadata": {
    "heading_collapsed": true
   },
   "source": [
    "# Scalability: 2-node"
   ]
  },
  {
   "cell_type": "markdown",
   "metadata": {
    "heading_collapsed": true,
    "hidden": true
   },
   "source": [
    "### Run 1 (Total time = 1518.5 seconds)"
   ]
  },
  {
   "cell_type": "code",
   "execution_count": 8,
   "metadata": {
    "hidden": true
   },
   "outputs": [],
   "source": [
    "app=Application_Run('application_1561442747878_0001',slaves,jobids=range(1,3)) # grow_policy=lossguide"
   ]
  },
  {
   "cell_type": "code",
   "execution_count": 10,
   "metadata": {
    "hidden": true,
    "scrolled": false
   },
   "outputs": [
    {
     "name": "stdout",
     "output_type": "stream",
     "text": [
      "applog start time: 1561443239694\n"
     ]
    },
    {
     "ename": "Py4JJavaError",
     "evalue": "An error occurred while calling o232.partitions.\n: org.apache.hadoop.mapred.InvalidInputException: Input path does not exist: hdfs://10.0.2.125:8020/skylake/application_1561442747878_0001/sr595/sar_cpu.sar\n\tat org.apache.hadoop.mapred.FileInputFormat.singleThreadedListStatus(FileInputFormat.java:287)\n\tat org.apache.hadoop.mapred.FileInputFormat.listStatus(FileInputFormat.java:229)\n\tat org.apache.hadoop.mapred.FileInputFormat.getSplits(FileInputFormat.java:315)\n\tat org.apache.spark.rdd.HadoopRDD.getPartitions(HadoopRDD.scala:204)\n\tat org.apache.spark.rdd.RDD$$anonfun$partitions$2.apply(RDD.scala:253)\n\tat org.apache.spark.rdd.RDD$$anonfun$partitions$2.apply(RDD.scala:251)\n\tat scala.Option.getOrElse(Option.scala:121)\n\tat org.apache.spark.rdd.RDD.partitions(RDD.scala:251)\n\tat org.apache.spark.rdd.MapPartitionsRDD.getPartitions(MapPartitionsRDD.scala:49)\n\tat org.apache.spark.rdd.RDD$$anonfun$partitions$2.apply(RDD.scala:253)\n\tat org.apache.spark.rdd.RDD$$anonfun$partitions$2.apply(RDD.scala:251)\n\tat scala.Option.getOrElse(Option.scala:121)\n\tat org.apache.spark.rdd.RDD.partitions(RDD.scala:251)\n\tat org.apache.spark.api.java.JavaRDDLike$class.partitions(JavaRDDLike.scala:61)\n\tat org.apache.spark.api.java.AbstractJavaRDDLike.partitions(JavaRDDLike.scala:45)\n\tat sun.reflect.NativeMethodAccessorImpl.invoke0(Native Method)\n\tat sun.reflect.NativeMethodAccessorImpl.invoke(NativeMethodAccessorImpl.java:62)\n\tat sun.reflect.DelegatingMethodAccessorImpl.invoke(DelegatingMethodAccessorImpl.java:43)\n\tat java.lang.reflect.Method.invoke(Method.java:498)\n\tat py4j.reflection.MethodInvoker.invoke(MethodInvoker.java:244)\n\tat py4j.reflection.ReflectionEngine.invoke(ReflectionEngine.java:357)\n\tat py4j.Gateway.invoke(Gateway.java:282)\n\tat py4j.commands.AbstractCommand.invokeMethod(AbstractCommand.java:132)\n\tat py4j.commands.CallCommand.execute(CallCommand.java:79)\n\tat py4j.GatewayConnection.run(GatewayConnection.java:238)\n\tat java.lang.Thread.run(Thread.java:745)\n",
     "output_type": "error",
     "traceback": [
      "\u001b[0;31m---------------------------------------------------------------------------\u001b[0m",
      "\u001b[0;31mPy4JJavaError\u001b[0m                             Traceback (most recent call last)",
      "\u001b[0;32m<ipython-input-10-d997dea4c899>\u001b[0m in \u001b[0;36m<module>\u001b[0;34m\u001b[0m\n\u001b[0;32m----> 1\u001b[0;31m \u001b[0mapp\u001b[0m\u001b[0;34m.\u001b[0m\u001b[0mgenerate_trace_view\u001b[0m\u001b[0;34m(\u001b[0m\u001b[0mshowemon\u001b[0m\u001b[0;34m=\u001b[0m\u001b[0;32mFalse\u001b[0m\u001b[0;34m)\u001b[0m\u001b[0;34m\u001b[0m\u001b[0;34m\u001b[0m\u001b[0m\n\u001b[0m",
      "\u001b[0;32m<ipython-input-5-710c78896473>\u001b[0m in \u001b[0;36mgenerate_trace_view\u001b[0;34m(self, showsar, showemon, showgpu, **kwargs)\u001b[0m\n\u001b[1;32m     36\u001b[0m                     \u001b[0msarals\u001b[0m\u001b[0;34m=\u001b[0m\u001b[0mself\u001b[0m\u001b[0;34m.\u001b[0m\u001b[0manalysis\u001b[0m\u001b[0;34m[\u001b[0m\u001b[0;34m\"sar\"\u001b[0m\u001b[0;34m]\u001b[0m\u001b[0;34m[\u001b[0m\u001b[0ml\u001b[0m\u001b[0;34m]\u001b[0m\u001b[0;34m[\u001b[0m\u001b[0ms\u001b[0m\u001b[0;34m]\u001b[0m\u001b[0;34m\u001b[0m\u001b[0;34m\u001b[0m\u001b[0m\n\u001b[1;32m     37\u001b[0m                     \u001b[0msarals\u001b[0m\u001b[0;34m[\u001b[0m\u001b[0;34m'als'\u001b[0m\u001b[0;34m]\u001b[0m\u001b[0;34m.\u001b[0m\u001b[0mstarttime\u001b[0m\u001b[0;34m=\u001b[0m\u001b[0mstarttime\u001b[0m\u001b[0;34m\u001b[0m\u001b[0;34m\u001b[0m\u001b[0m\n\u001b[0;32m---> 38\u001b[0;31m                     \u001b[0mtraces\u001b[0m\u001b[0;34m.\u001b[0m\u001b[0mextend\u001b[0m\u001b[0;34m(\u001b[0m\u001b[0msarals\u001b[0m\u001b[0;34m[\u001b[0m\u001b[0;34m'als'\u001b[0m\u001b[0;34m]\u001b[0m\u001b[0;34m.\u001b[0m\u001b[0mgenerate_trace_view_list\u001b[0m\u001b[0;34m(\u001b[0m\u001b[0msarals\u001b[0m\u001b[0;34m[\u001b[0m\u001b[0;34m'pid'\u001b[0m\u001b[0;34m]\u001b[0m\u001b[0;34m,\u001b[0m\u001b[0;34m**\u001b[0m\u001b[0mkwargs\u001b[0m\u001b[0;34m)\u001b[0m\u001b[0;34m)\u001b[0m\u001b[0;34m\u001b[0m\u001b[0;34m\u001b[0m\u001b[0m\n\u001b[0m\u001b[1;32m     39\u001b[0m         \u001b[0;32mif\u001b[0m \u001b[0mshowemon\u001b[0m\u001b[0;34m:\u001b[0m\u001b[0;34m\u001b[0m\u001b[0;34m\u001b[0m\u001b[0m\n\u001b[1;32m     40\u001b[0m             \u001b[0memonals\u001b[0m\u001b[0;34m=\u001b[0m\u001b[0mself\u001b[0m\u001b[0;34m.\u001b[0m\u001b[0manalysis\u001b[0m\u001b[0;34m[\u001b[0m\u001b[0;34m'emon'\u001b[0m\u001b[0;34m]\u001b[0m\u001b[0;34m[\u001b[0m\u001b[0;34m'als'\u001b[0m\u001b[0;34m]\u001b[0m\u001b[0;34m\u001b[0m\u001b[0;34m\u001b[0m\u001b[0m\n",
      "\u001b[0;32m<ipython-input-5-c149677516c6>\u001b[0m in \u001b[0;36mgenerate_trace_view_list\u001b[0;34m(self, id, **kwargs)\u001b[0m\n\u001b[1;32m     95\u001b[0m \u001b[0;34m\u001b[0m\u001b[0m\n\u001b[1;32m     96\u001b[0m     \u001b[0;32mdef\u001b[0m \u001b[0mgenerate_trace_view_list\u001b[0m\u001b[0;34m(\u001b[0m\u001b[0mself\u001b[0m\u001b[0;34m,\u001b[0m\u001b[0mid\u001b[0m\u001b[0;34m,\u001b[0m\u001b[0;34m**\u001b[0m\u001b[0mkwargs\u001b[0m\u001b[0;34m)\u001b[0m\u001b[0;34m:\u001b[0m\u001b[0;34m\u001b[0m\u001b[0;34m\u001b[0m\u001b[0m\n\u001b[0;32m---> 97\u001b[0;31m         \u001b[0mSar_analysis\u001b[0m\u001b[0;34m.\u001b[0m\u001b[0mgenerate_trace_view_list\u001b[0m\u001b[0;34m(\u001b[0m\u001b[0mself\u001b[0m\u001b[0;34m,\u001b[0m\u001b[0mid\u001b[0m\u001b[0;34m)\u001b[0m\u001b[0;34m\u001b[0m\u001b[0;34m\u001b[0m\u001b[0m\n\u001b[0m\u001b[1;32m     98\u001b[0m \u001b[0;34m\u001b[0m\u001b[0m\n\u001b[1;32m     99\u001b[0m         \u001b[0mtrace_events\u001b[0m\u001b[0;34m=\u001b[0m\u001b[0;34m[\u001b[0m\u001b[0;34m]\u001b[0m\u001b[0;34m\u001b[0m\u001b[0;34m\u001b[0m\u001b[0m\n",
      "\u001b[0;32m<ipython-input-5-c149677516c6>\u001b[0m in \u001b[0;36mgenerate_trace_view_list\u001b[0;34m(self, id, **kwargs)\u001b[0m\n\u001b[1;32m     65\u001b[0m \u001b[0;34m\u001b[0m\u001b[0m\n\u001b[1;32m     66\u001b[0m     \u001b[0;32mdef\u001b[0m \u001b[0mgenerate_trace_view_list\u001b[0m\u001b[0;34m(\u001b[0m\u001b[0mself\u001b[0m\u001b[0;34m,\u001b[0m\u001b[0mid\u001b[0m\u001b[0;34m,\u001b[0m\u001b[0;34m**\u001b[0m\u001b[0mkwargs\u001b[0m\u001b[0;34m)\u001b[0m\u001b[0;34m:\u001b[0m\u001b[0;34m\u001b[0m\u001b[0;34m\u001b[0m\u001b[0m\n\u001b[0;32m---> 67\u001b[0;31m         \u001b[0mAnalysis\u001b[0m\u001b[0;34m.\u001b[0m\u001b[0mgenerate_trace_view_list\u001b[0m\u001b[0;34m(\u001b[0m\u001b[0mself\u001b[0m\u001b[0;34m,\u001b[0m\u001b[0mid\u001b[0m\u001b[0;34m)\u001b[0m\u001b[0;34m\u001b[0m\u001b[0;34m\u001b[0m\u001b[0m\n\u001b[0m\u001b[1;32m     68\u001b[0m         \u001b[0mprint\u001b[0m\u001b[0;34m(\u001b[0m\u001b[0;34mf'start time: {self.starttime/1000}'\u001b[0m\u001b[0;34m)\u001b[0m\u001b[0;34m\u001b[0m\u001b[0;34m\u001b[0m\u001b[0m\n\u001b[1;32m     69\u001b[0m         \u001b[0mdisplay\u001b[0m\u001b[0;34m(\u001b[0m\u001b[0mself\u001b[0m\u001b[0;34m.\u001b[0m\u001b[0mdf\u001b[0m\u001b[0;34m.\u001b[0m\u001b[0magg\u001b[0m\u001b[0;34m(\u001b[0m\u001b[0mF\u001b[0m\u001b[0;34m.\u001b[0m\u001b[0mmin\u001b[0m\u001b[0;34m(\u001b[0m\u001b[0mF\u001b[0m\u001b[0;34m.\u001b[0m\u001b[0munix_timestamp\u001b[0m\u001b[0;34m(\u001b[0m\u001b[0mF\u001b[0m\u001b[0;34m.\u001b[0m\u001b[0mconcat_ws\u001b[0m\u001b[0;34m(\u001b[0m\u001b[0;34m' '\u001b[0m\u001b[0;34m,\u001b[0m\u001b[0mF\u001b[0m\u001b[0;34m.\u001b[0m\u001b[0mdate_format\u001b[0m\u001b[0;34m(\u001b[0m\u001b[0mF\u001b[0m\u001b[0;34m.\u001b[0m\u001b[0mfrom_unixtime\u001b[0m\u001b[0;34m(\u001b[0m\u001b[0mF\u001b[0m\u001b[0;34m.\u001b[0m\u001b[0mlit\u001b[0m\u001b[0;34m(\u001b[0m\u001b[0mself\u001b[0m\u001b[0;34m.\u001b[0m\u001b[0mstarttime\u001b[0m\u001b[0;34m/\u001b[0m\u001b[0;36m1000\u001b[0m\u001b[0;34m)\u001b[0m\u001b[0;34m)\u001b[0m\u001b[0;34m,\u001b[0m \u001b[0;34m'yyyy-MM-dd'\u001b[0m\u001b[0;34m)\u001b[0m\u001b[0;34m,\u001b[0m\u001b[0mF\u001b[0m\u001b[0;34m.\u001b[0m\u001b[0mcol\u001b[0m\u001b[0;34m(\u001b[0m\u001b[0;34m'_1'\u001b[0m\u001b[0;34m)\u001b[0m\u001b[0;34m,\u001b[0m\u001b[0mF\u001b[0m\u001b[0;34m.\u001b[0m\u001b[0mcol\u001b[0m\u001b[0;34m(\u001b[0m\u001b[0;34m'_2'\u001b[0m\u001b[0;34m)\u001b[0m\u001b[0;34m)\u001b[0m\u001b[0;34m,\u001b[0m\u001b[0mself\u001b[0m\u001b[0;34m.\u001b[0m\u001b[0mtimeformat\u001b[0m\u001b[0;34m)\u001b[0m\u001b[0;34m)\u001b[0m\u001b[0;34m.\u001b[0m\u001b[0malias\u001b[0m\u001b[0;34m(\u001b[0m\u001b[0;34m'min_time'\u001b[0m\u001b[0;34m)\u001b[0m\u001b[0;34m)\u001b[0m\u001b[0;34m.\u001b[0m\u001b[0mcollect\u001b[0m\u001b[0;34m(\u001b[0m\u001b[0;34m)\u001b[0m\u001b[0;34m)\u001b[0m\u001b[0;34m\u001b[0m\u001b[0;34m\u001b[0m\u001b[0m\n",
      "\u001b[0;32m<ipython-input-5-12d5d354b27d>\u001b[0m in \u001b[0;36mgenerate_trace_view_list\u001b[0;34m(self, id, **kwargs)\u001b[0m\n\u001b[1;32m     10\u001b[0m     \u001b[0;32mdef\u001b[0m \u001b[0mgenerate_trace_view_list\u001b[0m\u001b[0;34m(\u001b[0m\u001b[0mself\u001b[0m\u001b[0;34m,\u001b[0m\u001b[0mid\u001b[0m\u001b[0;34m=\u001b[0m\u001b[0;36m0\u001b[0m\u001b[0;34m,\u001b[0m \u001b[0;34m**\u001b[0m\u001b[0mkwargs\u001b[0m\u001b[0;34m)\u001b[0m\u001b[0;34m:\u001b[0m\u001b[0;34m\u001b[0m\u001b[0;34m\u001b[0m\u001b[0m\n\u001b[1;32m     11\u001b[0m         \u001b[0;32mif\u001b[0m \u001b[0mself\u001b[0m\u001b[0;34m.\u001b[0m\u001b[0mdf\u001b[0m\u001b[0;34m==\u001b[0m\u001b[0;32mNone\u001b[0m\u001b[0;34m:\u001b[0m\u001b[0;34m\u001b[0m\u001b[0;34m\u001b[0m\u001b[0m\n\u001b[0;32m---> 12\u001b[0;31m             \u001b[0mself\u001b[0m\u001b[0;34m.\u001b[0m\u001b[0mload_data\u001b[0m\u001b[0;34m(\u001b[0m\u001b[0;34m)\u001b[0m\u001b[0;34m\u001b[0m\u001b[0;34m\u001b[0m\u001b[0m\n\u001b[0m\u001b[1;32m     13\u001b[0m         \u001b[0;32mpass\u001b[0m\u001b[0;34m\u001b[0m\u001b[0;34m\u001b[0m\u001b[0m\n\u001b[1;32m     14\u001b[0m \u001b[0;34m\u001b[0m\u001b[0m\n",
      "\u001b[0;32m<ipython-input-5-c149677516c6>\u001b[0m in \u001b[0;36mload_data\u001b[0;34m(self)\u001b[0m\n\u001b[1;32m     14\u001b[0m     \u001b[0;32mdef\u001b[0m \u001b[0mload_data\u001b[0m\u001b[0;34m(\u001b[0m\u001b[0mself\u001b[0m\u001b[0;34m)\u001b[0m\u001b[0;34m:\u001b[0m\u001b[0;34m\u001b[0m\u001b[0;34m\u001b[0m\u001b[0m\n\u001b[1;32m     15\u001b[0m         \u001b[0msardata\u001b[0m\u001b[0;34m=\u001b[0m\u001b[0msc\u001b[0m\u001b[0;34m.\u001b[0m\u001b[0mtextFile\u001b[0m\u001b[0;34m(\u001b[0m\u001b[0mself\u001b[0m\u001b[0;34m.\u001b[0m\u001b[0mfile\u001b[0m\u001b[0;34m)\u001b[0m\u001b[0;34m\u001b[0m\u001b[0;34m\u001b[0m\u001b[0m\n\u001b[0;32m---> 16\u001b[0;31m         \u001b[0msardf\u001b[0m\u001b[0;34m=\u001b[0m\u001b[0msardata\u001b[0m\u001b[0;34m.\u001b[0m\u001b[0mmapPartitions\u001b[0m\u001b[0;34m(\u001b[0m\u001b[0msplits\u001b[0m\u001b[0;34m)\u001b[0m\u001b[0;34m.\u001b[0m\u001b[0mtoDF\u001b[0m\u001b[0;34m(\u001b[0m\u001b[0;34m)\u001b[0m\u001b[0;34m\u001b[0m\u001b[0;34m\u001b[0m\u001b[0m\n\u001b[0m\u001b[1;32m     17\u001b[0m         \u001b[0msardf\u001b[0m\u001b[0;34m=\u001b[0m\u001b[0msardf\u001b[0m\u001b[0;34m.\u001b[0m\u001b[0mwhere\u001b[0m\u001b[0;34m(\u001b[0m\u001b[0;34m\"_1<>'Average:'\"\u001b[0m\u001b[0;34m)\u001b[0m\u001b[0;34m\u001b[0m\u001b[0;34m\u001b[0m\u001b[0m\n\u001b[1;32m     18\u001b[0m \u001b[0;34m\u001b[0m\u001b[0m\n",
      "\u001b[0;32m~/spark/spark/python/pyspark/sql/session.py\u001b[0m in \u001b[0;36mtoDF\u001b[0;34m(self, schema, sampleRatio)\u001b[0m\n\u001b[1;32m     56\u001b[0m         \u001b[0;34m[\u001b[0m\u001b[0mRow\u001b[0m\u001b[0;34m(\u001b[0m\u001b[0mname\u001b[0m\u001b[0;34m=\u001b[0m\u001b[0;34mu'Alice'\u001b[0m\u001b[0;34m,\u001b[0m \u001b[0mage\u001b[0m\u001b[0;34m=\u001b[0m\u001b[0;36m1\u001b[0m\u001b[0;34m)\u001b[0m\u001b[0;34m]\u001b[0m\u001b[0;34m\u001b[0m\u001b[0;34m\u001b[0m\u001b[0m\n\u001b[1;32m     57\u001b[0m         \"\"\"\n\u001b[0;32m---> 58\u001b[0;31m         \u001b[0;32mreturn\u001b[0m \u001b[0msparkSession\u001b[0m\u001b[0;34m.\u001b[0m\u001b[0mcreateDataFrame\u001b[0m\u001b[0;34m(\u001b[0m\u001b[0mself\u001b[0m\u001b[0;34m,\u001b[0m \u001b[0mschema\u001b[0m\u001b[0;34m,\u001b[0m \u001b[0msampleRatio\u001b[0m\u001b[0;34m)\u001b[0m\u001b[0;34m\u001b[0m\u001b[0;34m\u001b[0m\u001b[0m\n\u001b[0m\u001b[1;32m     59\u001b[0m \u001b[0;34m\u001b[0m\u001b[0m\n\u001b[1;32m     60\u001b[0m     \u001b[0mRDD\u001b[0m\u001b[0;34m.\u001b[0m\u001b[0mtoDF\u001b[0m \u001b[0;34m=\u001b[0m \u001b[0mtoDF\u001b[0m\u001b[0;34m\u001b[0m\u001b[0;34m\u001b[0m\u001b[0m\n",
      "\u001b[0;32m~/spark/spark/python/pyspark/sql/session.py\u001b[0m in \u001b[0;36mcreateDataFrame\u001b[0;34m(self, data, schema, samplingRatio, verifySchema)\u001b[0m\n\u001b[1;32m    744\u001b[0m \u001b[0;34m\u001b[0m\u001b[0m\n\u001b[1;32m    745\u001b[0m         \u001b[0;32mif\u001b[0m \u001b[0misinstance\u001b[0m\u001b[0;34m(\u001b[0m\u001b[0mdata\u001b[0m\u001b[0;34m,\u001b[0m \u001b[0mRDD\u001b[0m\u001b[0;34m)\u001b[0m\u001b[0;34m:\u001b[0m\u001b[0;34m\u001b[0m\u001b[0;34m\u001b[0m\u001b[0m\n\u001b[0;32m--> 746\u001b[0;31m             \u001b[0mrdd\u001b[0m\u001b[0;34m,\u001b[0m \u001b[0mschema\u001b[0m \u001b[0;34m=\u001b[0m \u001b[0mself\u001b[0m\u001b[0;34m.\u001b[0m\u001b[0m_createFromRDD\u001b[0m\u001b[0;34m(\u001b[0m\u001b[0mdata\u001b[0m\u001b[0;34m.\u001b[0m\u001b[0mmap\u001b[0m\u001b[0;34m(\u001b[0m\u001b[0mprepare\u001b[0m\u001b[0;34m)\u001b[0m\u001b[0;34m,\u001b[0m \u001b[0mschema\u001b[0m\u001b[0;34m,\u001b[0m \u001b[0msamplingRatio\u001b[0m\u001b[0;34m)\u001b[0m\u001b[0;34m\u001b[0m\u001b[0;34m\u001b[0m\u001b[0m\n\u001b[0m\u001b[1;32m    747\u001b[0m         \u001b[0;32melse\u001b[0m\u001b[0;34m:\u001b[0m\u001b[0;34m\u001b[0m\u001b[0;34m\u001b[0m\u001b[0m\n\u001b[1;32m    748\u001b[0m             \u001b[0mrdd\u001b[0m\u001b[0;34m,\u001b[0m \u001b[0mschema\u001b[0m \u001b[0;34m=\u001b[0m \u001b[0mself\u001b[0m\u001b[0;34m.\u001b[0m\u001b[0m_createFromLocal\u001b[0m\u001b[0;34m(\u001b[0m\u001b[0mmap\u001b[0m\u001b[0;34m(\u001b[0m\u001b[0mprepare\u001b[0m\u001b[0;34m,\u001b[0m \u001b[0mdata\u001b[0m\u001b[0;34m)\u001b[0m\u001b[0;34m,\u001b[0m \u001b[0mschema\u001b[0m\u001b[0;34m)\u001b[0m\u001b[0;34m\u001b[0m\u001b[0;34m\u001b[0m\u001b[0m\n",
      "\u001b[0;32m~/spark/spark/python/pyspark/sql/session.py\u001b[0m in \u001b[0;36m_createFromRDD\u001b[0;34m(self, rdd, schema, samplingRatio)\u001b[0m\n\u001b[1;32m    388\u001b[0m         \"\"\"\n\u001b[1;32m    389\u001b[0m         \u001b[0;32mif\u001b[0m \u001b[0mschema\u001b[0m \u001b[0;32mis\u001b[0m \u001b[0;32mNone\u001b[0m \u001b[0;32mor\u001b[0m \u001b[0misinstance\u001b[0m\u001b[0;34m(\u001b[0m\u001b[0mschema\u001b[0m\u001b[0;34m,\u001b[0m \u001b[0;34m(\u001b[0m\u001b[0mlist\u001b[0m\u001b[0;34m,\u001b[0m \u001b[0mtuple\u001b[0m\u001b[0;34m)\u001b[0m\u001b[0;34m)\u001b[0m\u001b[0;34m:\u001b[0m\u001b[0;34m\u001b[0m\u001b[0;34m\u001b[0m\u001b[0m\n\u001b[0;32m--> 390\u001b[0;31m             \u001b[0mstruct\u001b[0m \u001b[0;34m=\u001b[0m \u001b[0mself\u001b[0m\u001b[0;34m.\u001b[0m\u001b[0m_inferSchema\u001b[0m\u001b[0;34m(\u001b[0m\u001b[0mrdd\u001b[0m\u001b[0;34m,\u001b[0m \u001b[0msamplingRatio\u001b[0m\u001b[0;34m,\u001b[0m \u001b[0mnames\u001b[0m\u001b[0;34m=\u001b[0m\u001b[0mschema\u001b[0m\u001b[0;34m)\u001b[0m\u001b[0;34m\u001b[0m\u001b[0;34m\u001b[0m\u001b[0m\n\u001b[0m\u001b[1;32m    391\u001b[0m             \u001b[0mconverter\u001b[0m \u001b[0;34m=\u001b[0m \u001b[0m_create_converter\u001b[0m\u001b[0;34m(\u001b[0m\u001b[0mstruct\u001b[0m\u001b[0;34m)\u001b[0m\u001b[0;34m\u001b[0m\u001b[0;34m\u001b[0m\u001b[0m\n\u001b[1;32m    392\u001b[0m             \u001b[0mrdd\u001b[0m \u001b[0;34m=\u001b[0m \u001b[0mrdd\u001b[0m\u001b[0;34m.\u001b[0m\u001b[0mmap\u001b[0m\u001b[0;34m(\u001b[0m\u001b[0mconverter\u001b[0m\u001b[0;34m)\u001b[0m\u001b[0;34m\u001b[0m\u001b[0;34m\u001b[0m\u001b[0m\n",
      "\u001b[0;32m~/spark/spark/python/pyspark/sql/session.py\u001b[0m in \u001b[0;36m_inferSchema\u001b[0;34m(self, rdd, samplingRatio, names)\u001b[0m\n\u001b[1;32m    359\u001b[0m         \u001b[0;34m:\u001b[0m\u001b[0;32mreturn\u001b[0m\u001b[0;34m:\u001b[0m \u001b[0;34m:\u001b[0m\u001b[0;32mclass\u001b[0m\u001b[0;34m:\u001b[0m\u001b[0;31m`\u001b[0m\u001b[0mpyspark\u001b[0m\u001b[0;34m.\u001b[0m\u001b[0msql\u001b[0m\u001b[0;34m.\u001b[0m\u001b[0mtypes\u001b[0m\u001b[0;34m.\u001b[0m\u001b[0mStructType\u001b[0m\u001b[0;31m`\u001b[0m\u001b[0;34m\u001b[0m\u001b[0;34m\u001b[0m\u001b[0m\n\u001b[1;32m    360\u001b[0m         \"\"\"\n\u001b[0;32m--> 361\u001b[0;31m         \u001b[0mfirst\u001b[0m \u001b[0;34m=\u001b[0m \u001b[0mrdd\u001b[0m\u001b[0;34m.\u001b[0m\u001b[0mfirst\u001b[0m\u001b[0;34m(\u001b[0m\u001b[0;34m)\u001b[0m\u001b[0;34m\u001b[0m\u001b[0;34m\u001b[0m\u001b[0m\n\u001b[0m\u001b[1;32m    362\u001b[0m         \u001b[0;32mif\u001b[0m \u001b[0;32mnot\u001b[0m \u001b[0mfirst\u001b[0m\u001b[0;34m:\u001b[0m\u001b[0;34m\u001b[0m\u001b[0;34m\u001b[0m\u001b[0m\n\u001b[1;32m    363\u001b[0m             raise ValueError(\"The first row in RDD is empty, \"\n",
      "\u001b[0;32m~/spark/spark/python/pyspark/rdd.py\u001b[0m in \u001b[0;36mfirst\u001b[0;34m(self)\u001b[0m\n\u001b[1;32m   1376\u001b[0m         \u001b[0mValueError\u001b[0m\u001b[0;34m:\u001b[0m \u001b[0mRDD\u001b[0m \u001b[0;32mis\u001b[0m \u001b[0mempty\u001b[0m\u001b[0;34m\u001b[0m\u001b[0;34m\u001b[0m\u001b[0m\n\u001b[1;32m   1377\u001b[0m         \"\"\"\n\u001b[0;32m-> 1378\u001b[0;31m         \u001b[0mrs\u001b[0m \u001b[0;34m=\u001b[0m \u001b[0mself\u001b[0m\u001b[0;34m.\u001b[0m\u001b[0mtake\u001b[0m\u001b[0;34m(\u001b[0m\u001b[0;36m1\u001b[0m\u001b[0;34m)\u001b[0m\u001b[0;34m\u001b[0m\u001b[0;34m\u001b[0m\u001b[0m\n\u001b[0m\u001b[1;32m   1379\u001b[0m         \u001b[0;32mif\u001b[0m \u001b[0mrs\u001b[0m\u001b[0;34m:\u001b[0m\u001b[0;34m\u001b[0m\u001b[0;34m\u001b[0m\u001b[0m\n\u001b[1;32m   1380\u001b[0m             \u001b[0;32mreturn\u001b[0m \u001b[0mrs\u001b[0m\u001b[0;34m[\u001b[0m\u001b[0;36m0\u001b[0m\u001b[0;34m]\u001b[0m\u001b[0;34m\u001b[0m\u001b[0;34m\u001b[0m\u001b[0m\n",
      "\u001b[0;32m~/spark/spark/python/pyspark/rdd.py\u001b[0m in \u001b[0;36mtake\u001b[0;34m(self, num)\u001b[0m\n\u001b[1;32m   1325\u001b[0m         \"\"\"\n\u001b[1;32m   1326\u001b[0m         \u001b[0mitems\u001b[0m \u001b[0;34m=\u001b[0m \u001b[0;34m[\u001b[0m\u001b[0;34m]\u001b[0m\u001b[0;34m\u001b[0m\u001b[0;34m\u001b[0m\u001b[0m\n\u001b[0;32m-> 1327\u001b[0;31m         \u001b[0mtotalParts\u001b[0m \u001b[0;34m=\u001b[0m \u001b[0mself\u001b[0m\u001b[0;34m.\u001b[0m\u001b[0mgetNumPartitions\u001b[0m\u001b[0;34m(\u001b[0m\u001b[0;34m)\u001b[0m\u001b[0;34m\u001b[0m\u001b[0;34m\u001b[0m\u001b[0m\n\u001b[0m\u001b[1;32m   1328\u001b[0m         \u001b[0mpartsScanned\u001b[0m \u001b[0;34m=\u001b[0m \u001b[0;36m0\u001b[0m\u001b[0;34m\u001b[0m\u001b[0;34m\u001b[0m\u001b[0m\n\u001b[1;32m   1329\u001b[0m \u001b[0;34m\u001b[0m\u001b[0m\n",
      "\u001b[0;32m~/spark/spark/python/pyspark/rdd.py\u001b[0m in \u001b[0;36mgetNumPartitions\u001b[0;34m(self)\u001b[0m\n\u001b[1;32m   2515\u001b[0m \u001b[0;34m\u001b[0m\u001b[0m\n\u001b[1;32m   2516\u001b[0m     \u001b[0;32mdef\u001b[0m \u001b[0mgetNumPartitions\u001b[0m\u001b[0;34m(\u001b[0m\u001b[0mself\u001b[0m\u001b[0;34m)\u001b[0m\u001b[0;34m:\u001b[0m\u001b[0;34m\u001b[0m\u001b[0;34m\u001b[0m\u001b[0m\n\u001b[0;32m-> 2517\u001b[0;31m         \u001b[0;32mreturn\u001b[0m \u001b[0mself\u001b[0m\u001b[0;34m.\u001b[0m\u001b[0m_prev_jrdd\u001b[0m\u001b[0;34m.\u001b[0m\u001b[0mpartitions\u001b[0m\u001b[0;34m(\u001b[0m\u001b[0;34m)\u001b[0m\u001b[0;34m.\u001b[0m\u001b[0msize\u001b[0m\u001b[0;34m(\u001b[0m\u001b[0;34m)\u001b[0m\u001b[0;34m\u001b[0m\u001b[0;34m\u001b[0m\u001b[0m\n\u001b[0m\u001b[1;32m   2518\u001b[0m \u001b[0;34m\u001b[0m\u001b[0m\n\u001b[1;32m   2519\u001b[0m     \u001b[0;34m@\u001b[0m\u001b[0mproperty\u001b[0m\u001b[0;34m\u001b[0m\u001b[0;34m\u001b[0m\u001b[0m\n",
      "\u001b[0;32m~/miniconda3/envs/sparkConda/lib/python3.7/site-packages/py4j/java_gateway.py\u001b[0m in \u001b[0;36m__call__\u001b[0;34m(self, *args)\u001b[0m\n\u001b[1;32m   1284\u001b[0m         \u001b[0manswer\u001b[0m \u001b[0;34m=\u001b[0m \u001b[0mself\u001b[0m\u001b[0;34m.\u001b[0m\u001b[0mgateway_client\u001b[0m\u001b[0;34m.\u001b[0m\u001b[0msend_command\u001b[0m\u001b[0;34m(\u001b[0m\u001b[0mcommand\u001b[0m\u001b[0;34m)\u001b[0m\u001b[0;34m\u001b[0m\u001b[0;34m\u001b[0m\u001b[0m\n\u001b[1;32m   1285\u001b[0m         return_value = get_return_value(\n\u001b[0;32m-> 1286\u001b[0;31m             answer, self.gateway_client, self.target_id, self.name)\n\u001b[0m\u001b[1;32m   1287\u001b[0m \u001b[0;34m\u001b[0m\u001b[0m\n\u001b[1;32m   1288\u001b[0m         \u001b[0;32mfor\u001b[0m \u001b[0mtemp_arg\u001b[0m \u001b[0;32min\u001b[0m \u001b[0mtemp_args\u001b[0m\u001b[0;34m:\u001b[0m\u001b[0;34m\u001b[0m\u001b[0;34m\u001b[0m\u001b[0m\n",
      "\u001b[0;32m~/spark/spark/python/pyspark/sql/utils.py\u001b[0m in \u001b[0;36mdeco\u001b[0;34m(*a, **kw)\u001b[0m\n\u001b[1;32m     61\u001b[0m     \u001b[0;32mdef\u001b[0m \u001b[0mdeco\u001b[0m\u001b[0;34m(\u001b[0m\u001b[0;34m*\u001b[0m\u001b[0ma\u001b[0m\u001b[0;34m,\u001b[0m \u001b[0;34m**\u001b[0m\u001b[0mkw\u001b[0m\u001b[0;34m)\u001b[0m\u001b[0;34m:\u001b[0m\u001b[0;34m\u001b[0m\u001b[0;34m\u001b[0m\u001b[0m\n\u001b[1;32m     62\u001b[0m         \u001b[0;32mtry\u001b[0m\u001b[0;34m:\u001b[0m\u001b[0;34m\u001b[0m\u001b[0;34m\u001b[0m\u001b[0m\n\u001b[0;32m---> 63\u001b[0;31m             \u001b[0;32mreturn\u001b[0m \u001b[0mf\u001b[0m\u001b[0;34m(\u001b[0m\u001b[0;34m*\u001b[0m\u001b[0ma\u001b[0m\u001b[0;34m,\u001b[0m \u001b[0;34m**\u001b[0m\u001b[0mkw\u001b[0m\u001b[0;34m)\u001b[0m\u001b[0;34m\u001b[0m\u001b[0;34m\u001b[0m\u001b[0m\n\u001b[0m\u001b[1;32m     64\u001b[0m         \u001b[0;32mexcept\u001b[0m \u001b[0mpy4j\u001b[0m\u001b[0;34m.\u001b[0m\u001b[0mprotocol\u001b[0m\u001b[0;34m.\u001b[0m\u001b[0mPy4JJavaError\u001b[0m \u001b[0;32mas\u001b[0m \u001b[0me\u001b[0m\u001b[0;34m:\u001b[0m\u001b[0;34m\u001b[0m\u001b[0;34m\u001b[0m\u001b[0m\n\u001b[1;32m     65\u001b[0m             \u001b[0ms\u001b[0m \u001b[0;34m=\u001b[0m \u001b[0me\u001b[0m\u001b[0;34m.\u001b[0m\u001b[0mjava_exception\u001b[0m\u001b[0;34m.\u001b[0m\u001b[0mtoString\u001b[0m\u001b[0;34m(\u001b[0m\u001b[0;34m)\u001b[0m\u001b[0;34m\u001b[0m\u001b[0;34m\u001b[0m\u001b[0m\n",
      "\u001b[0;32m~/miniconda3/envs/sparkConda/lib/python3.7/site-packages/py4j/protocol.py\u001b[0m in \u001b[0;36mget_return_value\u001b[0;34m(answer, gateway_client, target_id, name)\u001b[0m\n\u001b[1;32m    326\u001b[0m                 raise Py4JJavaError(\n\u001b[1;32m    327\u001b[0m                     \u001b[0;34m\"An error occurred while calling {0}{1}{2}.\\n\"\u001b[0m\u001b[0;34m.\u001b[0m\u001b[0;34m\u001b[0m\u001b[0;34m\u001b[0m\u001b[0m\n\u001b[0;32m--> 328\u001b[0;31m                     format(target_id, \".\", name), value)\n\u001b[0m\u001b[1;32m    329\u001b[0m             \u001b[0;32melse\u001b[0m\u001b[0;34m:\u001b[0m\u001b[0;34m\u001b[0m\u001b[0;34m\u001b[0m\u001b[0m\n\u001b[1;32m    330\u001b[0m                 raise Py4JError(\n",
      "\u001b[0;31mPy4JJavaError\u001b[0m: An error occurred while calling o232.partitions.\n: org.apache.hadoop.mapred.InvalidInputException: Input path does not exist: hdfs://10.0.2.125:8020/skylake/application_1561442747878_0001/sr595/sar_cpu.sar\n\tat org.apache.hadoop.mapred.FileInputFormat.singleThreadedListStatus(FileInputFormat.java:287)\n\tat org.apache.hadoop.mapred.FileInputFormat.listStatus(FileInputFormat.java:229)\n\tat org.apache.hadoop.mapred.FileInputFormat.getSplits(FileInputFormat.java:315)\n\tat org.apache.spark.rdd.HadoopRDD.getPartitions(HadoopRDD.scala:204)\n\tat org.apache.spark.rdd.RDD$$anonfun$partitions$2.apply(RDD.scala:253)\n\tat org.apache.spark.rdd.RDD$$anonfun$partitions$2.apply(RDD.scala:251)\n\tat scala.Option.getOrElse(Option.scala:121)\n\tat org.apache.spark.rdd.RDD.partitions(RDD.scala:251)\n\tat org.apache.spark.rdd.MapPartitionsRDD.getPartitions(MapPartitionsRDD.scala:49)\n\tat org.apache.spark.rdd.RDD$$anonfun$partitions$2.apply(RDD.scala:253)\n\tat org.apache.spark.rdd.RDD$$anonfun$partitions$2.apply(RDD.scala:251)\n\tat scala.Option.getOrElse(Option.scala:121)\n\tat org.apache.spark.rdd.RDD.partitions(RDD.scala:251)\n\tat org.apache.spark.api.java.JavaRDDLike$class.partitions(JavaRDDLike.scala:61)\n\tat org.apache.spark.api.java.AbstractJavaRDDLike.partitions(JavaRDDLike.scala:45)\n\tat sun.reflect.NativeMethodAccessorImpl.invoke0(Native Method)\n\tat sun.reflect.NativeMethodAccessorImpl.invoke(NativeMethodAccessorImpl.java:62)\n\tat sun.reflect.DelegatingMethodAccessorImpl.invoke(DelegatingMethodAccessorImpl.java:43)\n\tat java.lang.reflect.Method.invoke(Method.java:498)\n\tat py4j.reflection.MethodInvoker.invoke(MethodInvoker.java:244)\n\tat py4j.reflection.ReflectionEngine.invoke(ReflectionEngine.java:357)\n\tat py4j.Gateway.invoke(Gateway.java:282)\n\tat py4j.commands.AbstractCommand.invokeMethod(AbstractCommand.java:132)\n\tat py4j.commands.CallCommand.execute(CallCommand.java:79)\n\tat py4j.GatewayConnection.run(GatewayConnection.java:238)\n\tat java.lang.Thread.run(Thread.java:745)\n"
     ]
    }
   ],
   "source": [
    "app.generate_trace_view(showemon=False)"
   ]
  },
  {
   "cell_type": "markdown",
   "metadata": {
    "hidden": true
   },
   "source": [
    "### Run 2 (Total time = 1450.1 seconds)"
   ]
  },
  {
   "cell_type": "code",
   "execution_count": null,
   "metadata": {
    "hidden": true
   },
   "outputs": [],
   "source": [
    "app=Application_Run('application_1561442747878_0002',slaves,jobids=range(1,3)) # grow_policy=lossguide"
   ]
  },
  {
   "cell_type": "code",
   "execution_count": null,
   "metadata": {
    "hidden": true,
    "scrolled": false
   },
   "outputs": [],
   "source": [
    "app.generate_trace_view(showemon=False)"
   ]
  },
  {
   "cell_type": "markdown",
   "metadata": {
    "hidden": true
   },
   "source": [
    "### Run 3 (Total time = 1434.5 seconds)"
   ]
  },
  {
   "cell_type": "code",
   "execution_count": null,
   "metadata": {
    "hidden": true
   },
   "outputs": [],
   "source": [
    "app=Application_Run('application_1561442747878_0003',slaves,jobids=range(1,3)) # grow_policy=lossguide"
   ]
  },
  {
   "cell_type": "code",
   "execution_count": null,
   "metadata": {
    "hidden": true,
    "scrolled": false
   },
   "outputs": [],
   "source": [
    "app.generate_trace_view(showemon=False)"
   ]
  },
  {
   "cell_type": "markdown",
   "metadata": {
    "heading_collapsed": true
   },
   "source": [
    "# Scalability: 3-node"
   ]
  },
  {
   "cell_type": "markdown",
   "metadata": {
    "hidden": true
   },
   "source": [
    "### Run 1 (Total time = 1081.6 seconds)"
   ]
  },
  {
   "cell_type": "code",
   "execution_count": null,
   "metadata": {
    "hidden": true
   },
   "outputs": [],
   "source": [
    "app=Application_Run('application_1561410325205_0001',slaves,jobids=range(1,3)) # grow_policy=lossguide"
   ]
  },
  {
   "cell_type": "code",
   "execution_count": null,
   "metadata": {
    "hidden": true,
    "scrolled": false
   },
   "outputs": [],
   "source": [
    "app.generate_trace_view(showemon=False)"
   ]
  },
  {
   "cell_type": "markdown",
   "metadata": {
    "hidden": true
   },
   "source": [
    "### Run 2 (Total time = 1010.7 seconds)"
   ]
  },
  {
   "cell_type": "code",
   "execution_count": null,
   "metadata": {
    "hidden": true
   },
   "outputs": [],
   "source": [
    "app=Application_Run('application_1561410325205_0002',slaves,jobids=range(1,3)) # grow_policy=lossguide"
   ]
  },
  {
   "cell_type": "code",
   "execution_count": null,
   "metadata": {
    "hidden": true,
    "scrolled": false
   },
   "outputs": [],
   "source": [
    "app.generate_trace_view(showemon=False)"
   ]
  },
  {
   "cell_type": "markdown",
   "metadata": {
    "hidden": true
   },
   "source": [
    "### Run 3 (Total time = 995.6 seconds)"
   ]
  },
  {
   "cell_type": "code",
   "execution_count": null,
   "metadata": {
    "hidden": true
   },
   "outputs": [],
   "source": [
    "app=Application_Run('application_1561410325205_0003',slaves,jobids=range(1,3)) # grow_policy=lossguide"
   ]
  },
  {
   "cell_type": "code",
   "execution_count": null,
   "metadata": {
    "hidden": true,
    "scrolled": false
   },
   "outputs": [],
   "source": [
    "app.generate_trace_view(showemon=False)"
   ]
  },
  {
   "cell_type": "markdown",
   "metadata": {},
   "source": [
    "# Scalability: 4-node"
   ]
  },
  {
   "cell_type": "markdown",
   "metadata": {},
   "source": [
    "### Run 1 (Total time = 857.3 seconds)"
   ]
  },
  {
   "cell_type": "code",
   "execution_count": null,
   "metadata": {},
   "outputs": [],
   "source": [
    "app=Application_Run('application_1561418131607_0001',slaves,jobids=range(1,3)) # grow_policy=lossguide"
   ]
  },
  {
   "cell_type": "code",
   "execution_count": null,
   "metadata": {
    "scrolled": false
   },
   "outputs": [],
   "source": [
    "app.generate_trace_view(showemon=False)"
   ]
  },
  {
   "cell_type": "markdown",
   "metadata": {},
   "source": [
    "### Run 2 (Total time = 758.7 seconds)"
   ]
  },
  {
   "cell_type": "code",
   "execution_count": null,
   "metadata": {},
   "outputs": [],
   "source": [
    "app=Application_Run('application_1561418131607_0002',slaves,jobids=range(1,3)) # grow_policy=lossguide"
   ]
  },
  {
   "cell_type": "code",
   "execution_count": null,
   "metadata": {
    "scrolled": false
   },
   "outputs": [],
   "source": [
    "app.generate_trace_view(showemon=False)"
   ]
  },
  {
   "cell_type": "markdown",
   "metadata": {},
   "source": [
    "### Run 3 (Total time = 787.0 seconds)"
   ]
  },
  {
   "cell_type": "code",
   "execution_count": 12,
   "metadata": {},
   "outputs": [],
   "source": [
    "app=Application_Run('application_1561418131607_0003',slaves,jobids=range(1,3)) # grow_policy=lossguide"
   ]
  },
  {
   "cell_type": "code",
   "execution_count": 13,
   "metadata": {
    "scrolled": true
   },
   "outputs": [
    {
     "name": "stdout",
     "output_type": "stream",
     "text": [
      "applog start time: 1561420407662\n",
      "with PM/AM\n",
      "start time: 1561420407.662\n"
     ]
    },
    {
     "data": {
      "text/plain": [
       "[Row(min_time=1561420407)]"
      ]
     },
     "metadata": {},
     "output_type": "display_data"
    },
    {
     "name": "stdout",
     "output_type": "stream",
     "text": [
      "with PM/AM\n",
      "start time: 1561420407.662\n"
     ]
    },
    {
     "data": {
      "text/plain": [
       "[Row(min_time=1561420407)]"
      ]
     },
     "metadata": {},
     "output_type": "display_data"
    },
    {
     "name": "stdout",
     "output_type": "stream",
     "text": [
      "with PM/AM\n",
      "start time: 1561420407.662\n"
     ]
    },
    {
     "data": {
      "text/plain": [
       "[Row(min_time=1561420407)]"
      ]
     },
     "metadata": {},
     "output_type": "display_data"
    },
    {
     "name": "stdout",
     "output_type": "stream",
     "text": [
      "with PM/AM\n",
      "start time: 1561420407.662\n"
     ]
    },
    {
     "data": {
      "text/plain": [
       "[Row(min_time=1561420407)]"
      ]
     },
     "metadata": {},
     "output_type": "display_data"
    },
    {
     "name": "stdout",
     "output_type": "stream",
     "text": [
      "with PM/AM\n",
      "start time: 1561420407.662\n"
     ]
    },
    {
     "data": {
      "text/plain": [
       "[Row(min_time=1561420406)]"
      ]
     },
     "metadata": {},
     "output_type": "display_data"
    },
    {
     "name": "stdout",
     "output_type": "stream",
     "text": [
      "with PM/AM\n",
      "start time: 1561420407.662\n"
     ]
    },
    {
     "data": {
      "text/plain": [
       "[Row(min_time=1561420406)]"
      ]
     },
     "metadata": {},
     "output_type": "display_data"
    },
    {
     "name": "stdout",
     "output_type": "stream",
     "text": [
      "with PM/AM\n",
      "start time: 1561420407.662\n"
     ]
    },
    {
     "data": {
      "text/plain": [
       "[Row(min_time=1561420406)]"
      ]
     },
     "metadata": {},
     "output_type": "display_data"
    },
    {
     "name": "stdout",
     "output_type": "stream",
     "text": [
      "with PM/AM\n",
      "start time: 1561420407.662\n"
     ]
    },
    {
     "data": {
      "text/plain": [
       "[Row(min_time=1561420406)]"
      ]
     },
     "metadata": {},
     "output_type": "display_data"
    },
    {
     "name": "stdout",
     "output_type": "stream",
     "text": [
      "with PM/AM\n",
      "start time: 1561420407.662\n"
     ]
    },
    {
     "data": {
      "text/plain": [
       "[Row(min_time=1561420405)]"
      ]
     },
     "metadata": {},
     "output_type": "display_data"
    },
    {
     "name": "stdout",
     "output_type": "stream",
     "text": [
      "with PM/AM\n",
      "start time: 1561420407.662\n"
     ]
    },
    {
     "data": {
      "text/plain": [
       "[Row(min_time=1561420405)]"
      ]
     },
     "metadata": {},
     "output_type": "display_data"
    },
    {
     "name": "stdout",
     "output_type": "stream",
     "text": [
      "with PM/AM\n",
      "start time: 1561420407.662\n"
     ]
    },
    {
     "data": {
      "text/plain": [
       "[Row(min_time=1561420405)]"
      ]
     },
     "metadata": {},
     "output_type": "display_data"
    },
    {
     "name": "stdout",
     "output_type": "stream",
     "text": [
      "with PM/AM\n",
      "start time: 1561420407.662\n"
     ]
    },
    {
     "data": {
      "text/plain": [
       "[Row(min_time=1561420405)]"
      ]
     },
     "metadata": {},
     "output_type": "display_data"
    },
    {
     "name": "stdout",
     "output_type": "stream",
     "text": [
      "with PM/AM\n",
      "start time: 1561420407.662\n"
     ]
    },
    {
     "data": {
      "text/plain": [
       "[Row(min_time=1561420404)]"
      ]
     },
     "metadata": {},
     "output_type": "display_data"
    },
    {
     "name": "stdout",
     "output_type": "stream",
     "text": [
      "with PM/AM\n",
      "start time: 1561420407.662\n"
     ]
    },
    {
     "data": {
      "text/plain": [
       "[Row(min_time=1561420404)]"
      ]
     },
     "metadata": {},
     "output_type": "display_data"
    },
    {
     "name": "stdout",
     "output_type": "stream",
     "text": [
      "with PM/AM\n",
      "start time: 1561420407.662\n"
     ]
    },
    {
     "data": {
      "text/plain": [
       "[Row(min_time=1561420404)]"
      ]
     },
     "metadata": {},
     "output_type": "display_data"
    },
    {
     "name": "stdout",
     "output_type": "stream",
     "text": [
      "with PM/AM\n",
      "start time: 1561420407.662\n"
     ]
    },
    {
     "data": {
      "text/plain": [
       "[Row(min_time=1561420404)]"
      ]
     },
     "metadata": {},
     "output_type": "display_data"
    },
    {
     "name": "stdout",
     "output_type": "stream",
     "text": [
      "http://sr525:1088/tracing_examples/trace_viewer.html#/tracing/test_data/application_1561418131607_0003.json\n"
     ]
    }
   ],
   "source": [
    "app.generate_trace_view(showemon=False)"
   ]
  },
  {
   "cell_type": "markdown",
   "metadata": {},
   "source": [
    "# 56 OMP threads test"
   ]
  },
  {
   "cell_type": "code",
   "execution_count": 11,
   "metadata": {
    "scrolled": true
   },
   "outputs": [
    {
     "name": "stdout",
     "output_type": "stream",
     "text": [
      "applog start time: 1562006604877\n",
      "with PM/AM\n",
      "start time: 1562006604.877\n"
     ]
    },
    {
     "data": {
      "text/plain": [
       "[Row(min_time=1562006604)]"
      ]
     },
     "metadata": {},
     "output_type": "display_data"
    },
    {
     "name": "stdout",
     "output_type": "stream",
     "text": [
      "with PM/AM\n",
      "start time: 1562006604.877\n"
     ]
    },
    {
     "data": {
      "text/plain": [
       "[Row(min_time=1562006604)]"
      ]
     },
     "metadata": {},
     "output_type": "display_data"
    },
    {
     "name": "stdout",
     "output_type": "stream",
     "text": [
      "with PM/AM\n",
      "start time: 1562006604.877\n"
     ]
    },
    {
     "data": {
      "text/plain": [
       "[Row(min_time=1562006604)]"
      ]
     },
     "metadata": {},
     "output_type": "display_data"
    },
    {
     "name": "stdout",
     "output_type": "stream",
     "text": [
      "with PM/AM\n",
      "start time: 1562006604.877\n"
     ]
    },
    {
     "data": {
      "text/plain": [
       "[Row(min_time=1562006604)]"
      ]
     },
     "metadata": {},
     "output_type": "display_data"
    },
    {
     "name": "stdout",
     "output_type": "stream",
     "text": [
      "with PM/AM\n",
      "start time: 1562006604.877\n"
     ]
    },
    {
     "data": {
      "text/plain": [
       "[Row(min_time=1562006603)]"
      ]
     },
     "metadata": {},
     "output_type": "display_data"
    },
    {
     "name": "stdout",
     "output_type": "stream",
     "text": [
      "with PM/AM\n",
      "start time: 1562006604.877\n"
     ]
    },
    {
     "data": {
      "text/plain": [
       "[Row(min_time=1562006603)]"
      ]
     },
     "metadata": {},
     "output_type": "display_data"
    },
    {
     "name": "stdout",
     "output_type": "stream",
     "text": [
      "with PM/AM\n",
      "start time: 1562006604.877\n"
     ]
    },
    {
     "data": {
      "text/plain": [
       "[Row(min_time=1562006603)]"
      ]
     },
     "metadata": {},
     "output_type": "display_data"
    },
    {
     "name": "stdout",
     "output_type": "stream",
     "text": [
      "with PM/AM\n",
      "start time: 1562006604.877\n"
     ]
    },
    {
     "data": {
      "text/plain": [
       "[Row(min_time=1562006603)]"
      ]
     },
     "metadata": {},
     "output_type": "display_data"
    },
    {
     "name": "stdout",
     "output_type": "stream",
     "text": [
      "with PM/AM\n",
      "start time: 1562006604.877\n"
     ]
    },
    {
     "data": {
      "text/plain": [
       "[Row(min_time=1562006602)]"
      ]
     },
     "metadata": {},
     "output_type": "display_data"
    },
    {
     "name": "stdout",
     "output_type": "stream",
     "text": [
      "with PM/AM\n",
      "start time: 1562006604.877\n"
     ]
    },
    {
     "data": {
      "text/plain": [
       "[Row(min_time=1562006602)]"
      ]
     },
     "metadata": {},
     "output_type": "display_data"
    },
    {
     "name": "stdout",
     "output_type": "stream",
     "text": [
      "with PM/AM\n",
      "start time: 1562006604.877\n"
     ]
    },
    {
     "data": {
      "text/plain": [
       "[Row(min_time=1562006602)]"
      ]
     },
     "metadata": {},
     "output_type": "display_data"
    },
    {
     "name": "stdout",
     "output_type": "stream",
     "text": [
      "with PM/AM\n",
      "start time: 1562006604.877\n"
     ]
    },
    {
     "data": {
      "text/plain": [
       "[Row(min_time=1562006602)]"
      ]
     },
     "metadata": {},
     "output_type": "display_data"
    },
    {
     "name": "stdout",
     "output_type": "stream",
     "text": [
      "with PM/AM\n",
      "start time: 1562006604.877\n"
     ]
    },
    {
     "data": {
      "text/plain": [
       "[Row(min_time=1562006601)]"
      ]
     },
     "metadata": {},
     "output_type": "display_data"
    },
    {
     "name": "stdout",
     "output_type": "stream",
     "text": [
      "with PM/AM\n",
      "start time: 1562006604.877\n"
     ]
    },
    {
     "data": {
      "text/plain": [
       "[Row(min_time=1562006601)]"
      ]
     },
     "metadata": {},
     "output_type": "display_data"
    },
    {
     "name": "stdout",
     "output_type": "stream",
     "text": [
      "with PM/AM\n",
      "start time: 1562006604.877\n"
     ]
    },
    {
     "data": {
      "text/plain": [
       "[Row(min_time=1562006601)]"
      ]
     },
     "metadata": {},
     "output_type": "display_data"
    },
    {
     "name": "stdout",
     "output_type": "stream",
     "text": [
      "with PM/AM\n",
      "start time: 1562006604.877\n"
     ]
    },
    {
     "data": {
      "text/plain": [
       "[Row(min_time=1562006601)]"
      ]
     },
     "metadata": {},
     "output_type": "display_data"
    },
    {
     "name": "stdout",
     "output_type": "stream",
     "text": [
      "http://sr525:1088/tracing_examples/trace_viewer.html#/tracing/test_data/application_1561479347541_0014.json\n"
     ]
    }
   ],
   "source": [
    "app=Application_Run('application_1561479347541_0014',slaves,jobids=range(1,3)) # grow_policy=lossguide\n",
    "app.generate_trace_view(showemon=False)"
   ]
  },
  {
   "cell_type": "markdown",
   "metadata": {},
   "source": [
    "# 8 OMP threads, re run 4 node test"
   ]
  },
  {
   "cell_type": "code",
   "execution_count": 14,
   "metadata": {},
   "outputs": [
    {
     "name": "stdout",
     "output_type": "stream",
     "text": [
      "applog start time: 1562013375607\n",
      "with PM/AM\n",
      "start time: 1562013375.607\n"
     ]
    },
    {
     "data": {
      "text/plain": [
       "[Row(min_time=1562013374)]"
      ]
     },
     "metadata": {},
     "output_type": "display_data"
    },
    {
     "name": "stdout",
     "output_type": "stream",
     "text": [
      "with PM/AM\n",
      "start time: 1562013375.607\n"
     ]
    },
    {
     "data": {
      "text/plain": [
       "[Row(min_time=1562013374)]"
      ]
     },
     "metadata": {},
     "output_type": "display_data"
    },
    {
     "name": "stdout",
     "output_type": "stream",
     "text": [
      "with PM/AM\n",
      "start time: 1562013375.607\n"
     ]
    },
    {
     "data": {
      "text/plain": [
       "[Row(min_time=1562013374)]"
      ]
     },
     "metadata": {},
     "output_type": "display_data"
    },
    {
     "name": "stdout",
     "output_type": "stream",
     "text": [
      "with PM/AM\n",
      "start time: 1562013375.607\n"
     ]
    },
    {
     "data": {
      "text/plain": [
       "[Row(min_time=1562013374)]"
      ]
     },
     "metadata": {},
     "output_type": "display_data"
    },
    {
     "name": "stdout",
     "output_type": "stream",
     "text": [
      "with PM/AM\n",
      "start time: 1562013375.607\n"
     ]
    },
    {
     "data": {
      "text/plain": [
       "[Row(min_time=1562013374)]"
      ]
     },
     "metadata": {},
     "output_type": "display_data"
    },
    {
     "name": "stdout",
     "output_type": "stream",
     "text": [
      "with PM/AM\n",
      "start time: 1562013375.607\n"
     ]
    },
    {
     "data": {
      "text/plain": [
       "[Row(min_time=1562013374)]"
      ]
     },
     "metadata": {},
     "output_type": "display_data"
    },
    {
     "name": "stdout",
     "output_type": "stream",
     "text": [
      "with PM/AM\n",
      "start time: 1562013375.607\n"
     ]
    },
    {
     "data": {
      "text/plain": [
       "[Row(min_time=1562013374)]"
      ]
     },
     "metadata": {},
     "output_type": "display_data"
    },
    {
     "name": "stdout",
     "output_type": "stream",
     "text": [
      "with PM/AM\n",
      "start time: 1562013375.607\n"
     ]
    },
    {
     "data": {
      "text/plain": [
       "[Row(min_time=1562013374)]"
      ]
     },
     "metadata": {},
     "output_type": "display_data"
    },
    {
     "name": "stdout",
     "output_type": "stream",
     "text": [
      "with PM/AM\n",
      "start time: 1562013375.607\n"
     ]
    },
    {
     "data": {
      "text/plain": [
       "[Row(min_time=1562013373)]"
      ]
     },
     "metadata": {},
     "output_type": "display_data"
    },
    {
     "name": "stdout",
     "output_type": "stream",
     "text": [
      "with PM/AM\n",
      "start time: 1562013375.607\n"
     ]
    },
    {
     "data": {
      "text/plain": [
       "[Row(min_time=1562013373)]"
      ]
     },
     "metadata": {},
     "output_type": "display_data"
    },
    {
     "name": "stdout",
     "output_type": "stream",
     "text": [
      "with PM/AM\n",
      "start time: 1562013375.607\n"
     ]
    },
    {
     "data": {
      "text/plain": [
       "[Row(min_time=1562013373)]"
      ]
     },
     "metadata": {},
     "output_type": "display_data"
    },
    {
     "name": "stdout",
     "output_type": "stream",
     "text": [
      "with PM/AM\n",
      "start time: 1562013375.607\n"
     ]
    },
    {
     "data": {
      "text/plain": [
       "[Row(min_time=1562013373)]"
      ]
     },
     "metadata": {},
     "output_type": "display_data"
    },
    {
     "name": "stdout",
     "output_type": "stream",
     "text": [
      "with PM/AM\n",
      "start time: 1562013375.607\n"
     ]
    },
    {
     "data": {
      "text/plain": [
       "[Row(min_time=1562013372)]"
      ]
     },
     "metadata": {},
     "output_type": "display_data"
    },
    {
     "name": "stdout",
     "output_type": "stream",
     "text": [
      "with PM/AM\n",
      "start time: 1562013375.607\n"
     ]
    },
    {
     "data": {
      "text/plain": [
       "[Row(min_time=1562013372)]"
      ]
     },
     "metadata": {},
     "output_type": "display_data"
    },
    {
     "name": "stdout",
     "output_type": "stream",
     "text": [
      "with PM/AM\n",
      "start time: 1562013375.607\n"
     ]
    },
    {
     "data": {
      "text/plain": [
       "[Row(min_time=1562013372)]"
      ]
     },
     "metadata": {},
     "output_type": "display_data"
    },
    {
     "name": "stdout",
     "output_type": "stream",
     "text": [
      "with PM/AM\n",
      "start time: 1562013375.607\n"
     ]
    },
    {
     "data": {
      "text/plain": [
       "[Row(min_time=1562013372)]"
      ]
     },
     "metadata": {},
     "output_type": "display_data"
    },
    {
     "name": "stdout",
     "output_type": "stream",
     "text": [
      "http://sr525:1088/tracing_examples/trace_viewer.html#/tracing/test_data/application_1561479347541_0015.json\n"
     ]
    }
   ],
   "source": [
    "app=Application_Run('application_1561479347541_0015',slaves,jobids=range(1,3)) # grow_policy=lossguide\n",
    "app.generate_trace_view(showemon=False)"
   ]
  },
  {
   "cell_type": "markdown",
   "metadata": {},
   "source": [
    "# PR4824, OMP mode, 4 node "
   ]
  },
  {
   "cell_type": "code",
   "execution_count": 10,
   "metadata": {
    "scrolled": true
   },
   "outputs": [
    {
     "name": "stderr",
     "output_type": "stream",
     "text": [
      "/home/yuzhou/miniconda3/envs/sparkConda/lib/python3.7/site-packages/pyarrow/pandas_compat.py:752: FutureWarning: .labels was deprecated in version 0.24.0. Use .codes instead.\n",
      "  labels, = index.labels\n"
     ]
    },
    {
     "name": "stdout",
     "output_type": "stream",
     "text": [
      "applog start time: 1567549077301\n",
      "http://sr525:1088/tracing_examples/trace_viewer.html#/tracing/test_data/application_1565566767669_0148.json\n"
     ]
    }
   ],
   "source": [
    "app=Application_Run('application_1565566767669_0148',slaves,jobids=range(1,3)) # grow_policy=lossguide\n",
    "app.generate_trace_view(showemon=False)"
   ]
  },
  {
   "cell_type": "markdown",
   "metadata": {
    "heading_collapsed": true
   },
   "source": [
    "### (data copy + training) vs. (data copy only)"
   ]
  },
  {
   "cell_type": "code",
   "execution_count": 32,
   "metadata": {
    "hidden": true,
    "scrolled": true
   },
   "outputs": [
    {
     "name": "stderr",
     "output_type": "stream",
     "text": [
      "/home/yuzhou/miniconda3/envs/sparkConda/lib/python3.7/site-packages/pyarrow/pandas_compat.py:752: FutureWarning: .labels was deprecated in version 0.24.0. Use .codes instead.\n",
      "  labels, = index.labels\n"
     ]
    },
    {
     "name": "stdout",
     "output_type": "stream",
     "text": [
      "applog start time: 1571341982410\n",
      "http://sr525:1088/tracing_examples/trace_viewer.html#/tracing/test_data/application_1569561991170_0042.json\n"
     ]
    }
   ],
   "source": [
    "app=Application_Run('application_1569561991170_0042',jobids=range(1,3)) # grow_policy=lossguide\n",
    "app.generate_trace_view(showemon=False)"
   ]
  },
  {
   "cell_type": "code",
   "execution_count": 55,
   "metadata": {
    "hidden": true,
    "scrolled": true
   },
   "outputs": [
    {
     "name": "stdout",
     "output_type": "stream",
     "text": [
      "applog start time: 1571716746043\n",
      "http://sr525:1088/tracing_examples/trace_viewer.html#/tracing/test_data/application_1569561991170_0073.json\n"
     ]
    }
   ],
   "source": [
    "app=Application_Run('application_1569561991170_0073',jobids=range(1,3)) # grow_policy=lossguide\n",
    "app.generate_trace_view(showemon=False)"
   ]
  },
  {
   "cell_type": "code",
   "execution_count": 56,
   "metadata": {
    "hidden": true,
    "scrolled": true
   },
   "outputs": [
    {
     "name": "stdout",
     "output_type": "stream",
     "text": [
      "applog start time: 1571717891474\n",
      "http://sr525:1088/tracing_examples/trace_viewer.html#/tracing/test_data/application_1569561991170_0074.json\n"
     ]
    }
   ],
   "source": [
    "app=Application_Run('application_1569561991170_0074',jobids=range(1,3)) # grow_policy=lossguide\n",
    "app.generate_trace_view(showemon=False)"
   ]
  },
  {
   "cell_type": "code",
   "execution_count": 57,
   "metadata": {
    "hidden": true,
    "scrolled": true
   },
   "outputs": [
    {
     "name": "stdout",
     "output_type": "stream",
     "text": [
      "applog start time: 1571720470545\n",
      "http://sr525:1088/tracing_examples/trace_viewer.html#/tracing/test_data/application_1569561991170_0075.json\n"
     ]
    }
   ],
   "source": [
    "app=Application_Run('application_1569561991170_0075',jobids=range(1,3)) # grow_policy=lossguide\n",
    "app.generate_trace_view(showemon=False)"
   ]
  },
  {
   "cell_type": "code",
   "execution_count": 58,
   "metadata": {
    "hidden": true,
    "scrolled": true
   },
   "outputs": [
    {
     "name": "stdout",
     "output_type": "stream",
     "text": [
      "applog start time: 1571721870814\n",
      "http://sr525:1088/tracing_examples/trace_viewer.html#/tracing/test_data/application_1569561991170_0076.json\n"
     ]
    }
   ],
   "source": [
    "app=Application_Run('application_1569561991170_0076',jobids=range(1,3)) # grow_policy=lossguide\n",
    "app.generate_trace_view(showemon=False)"
   ]
  },
  {
   "cell_type": "code",
   "execution_count": 93,
   "metadata": {
    "hidden": true,
    "scrolled": true
   },
   "outputs": [
    {
     "name": "stdout",
     "output_type": "stream",
     "text": [
      "applog start time: 1571951734695\n",
      "http://sr525:1088/tracing_examples/trace_viewer.html#/tracing/test_data/application_1569561991170_0099.json\n"
     ]
    }
   ],
   "source": [
    "app=Application_Run('application_1569561991170_0099',jobids=range(1,3)) # grow_policy=lossguide\n",
    "app.generate_trace_view(showemon=False)"
   ]
  },
  {
   "cell_type": "code",
   "execution_count": 94,
   "metadata": {
    "hidden": true,
    "scrolled": true
   },
   "outputs": [
    {
     "name": "stdout",
     "output_type": "stream",
     "text": [
      "applog start time: 1571962268835\n",
      "http://sr525:1088/tracing_examples/trace_viewer.html#/tracing/test_data/application_1569561991170_0101.json\n"
     ]
    }
   ],
   "source": [
    "app=Application_Run('application_1569561991170_0101',jobids=range(1,3)) # grow_policy=lossguide\n",
    "app.generate_trace_view(showemon=False)"
   ]
  },
  {
   "cell_type": "code",
   "execution_count": 104,
   "metadata": {
    "hidden": true,
    "scrolled": true
   },
   "outputs": [
    {
     "name": "stdout",
     "output_type": "stream",
     "text": [
      "applog start time: 1572649191121\n",
      "http://sr525:1088/tracing_examples/trace_viewer.html#/tracing/test_data/application_1572648947078_0001.json\n"
     ]
    }
   ],
   "source": [
    "app=Application_Run('application_1572648947078_0001',jobids=range(1,3)) # grow_policy=lossguide\n",
    "app.generate_trace_view(showemon=False)"
   ]
  },
  {
   "cell_type": "markdown",
   "metadata": {
    "heading_collapsed": true
   },
   "source": [
    "## RDD[DMatrix] with coalesce"
   ]
  },
  {
   "cell_type": "code",
   "execution_count": 8,
   "metadata": {
    "hidden": true,
    "scrolled": true
   },
   "outputs": [
    {
     "name": "stderr",
     "output_type": "stream",
     "text": [
      "/home/yuzhou/miniconda3/envs/sparkConda/lib/python3.7/site-packages/pyarrow/pandas_compat.py:752: FutureWarning: .labels was deprecated in version 0.24.0. Use .codes instead.\n",
      "  labels, = index.labels\n"
     ]
    },
    {
     "name": "stdout",
     "output_type": "stream",
     "text": [
      "applog start time: 1573619265516\n",
      "http://sr525:1088/tracing_examples/trace_viewer.html#/tracing/test_data/application_1573536673662_0003.json\n"
     ]
    }
   ],
   "source": [
    "app=Application_Run('application_1573536673662_0003',jobids=range(1,3)) # grow_policy=lossguide\n",
    "app.generate_trace_view(showemon=False)"
   ]
  },
  {
   "cell_type": "code",
   "execution_count": 11,
   "metadata": {
    "hidden": true,
    "scrolled": true
   },
   "outputs": [
    {
     "name": "stdout",
     "output_type": "stream",
     "text": [
      "applog start time: 1573684126638\n",
      "http://sr525:1088/tracing_examples/trace_viewer.html#/tracing/test_data/application_1573536673662_0006.json\n"
     ]
    }
   ],
   "source": [
    "app=Application_Run('application_1573536673662_0006',jobids=range(1,3)) # grow_policy=lossguide\n",
    "app.generate_trace_view(showemon=False)"
   ]
  },
  {
   "cell_type": "markdown",
   "metadata": {
    "heading_collapsed": true
   },
   "source": [
    "## RDD[DMatrix] without coalesce"
   ]
  },
  {
   "cell_type": "code",
   "execution_count": 9,
   "metadata": {
    "hidden": true,
    "scrolled": true
   },
   "outputs": [
    {
     "name": "stdout",
     "output_type": "stream",
     "text": [
      "applog start time: 1573619801008\n",
      "http://sr525:1088/tracing_examples/trace_viewer.html#/tracing/test_data/application_1573536673662_0004.json\n"
     ]
    }
   ],
   "source": [
    "app=Application_Run('application_1573536673662_0004',jobids=range(1,3)) # grow_policy=lossguide\n",
    "app.generate_trace_view(showemon=False)"
   ]
  },
  {
   "cell_type": "markdown",
   "metadata": {
    "heading_collapsed": true
   },
   "source": [
    "## XGBoost training with batched DMatrix (14/4/1) Nov 24 2019"
   ]
  },
  {
   "cell_type": "code",
   "execution_count": 12,
   "metadata": {
    "hidden": true,
    "scrolled": true
   },
   "outputs": [
    {
     "name": "stdout",
     "output_type": "stream",
     "text": [
      "applog start time: 1574658119678\n",
      "http://sr525:1088/tracing_examples/trace_viewer.html#/tracing/test_data/application_1574656714856_0004.json\n"
     ]
    }
   ],
   "source": [
    "app=Application_Run('application_1574656714856_0004',jobids=range(1,3)) # grow_policy=lossguide\n",
    "app.generate_trace_view(showemon=False)"
   ]
  },
  {
   "cell_type": "markdown",
   "metadata": {
    "heading_collapsed": true
   },
   "source": [
    "## XGBoost training with batched DMatrix (7/8/1) Nov 24 2019"
   ]
  },
  {
   "cell_type": "code",
   "execution_count": 22,
   "metadata": {
    "hidden": true,
    "scrolled": true
   },
   "outputs": [
    {
     "name": "stdout",
     "output_type": "stream",
     "text": [
      "applog start time: 1574660135147\n",
      "http://sr525:1088/tracing_examples/trace_viewer.html#/tracing/test_data/application_1574656714856_0007.json\n"
     ]
    }
   ],
   "source": [
    "app=Application_Run('application_1574656714856_0007',jobids=range(1,3)) # grow_policy=lossguide\n",
    "app.generate_trace_view(showemon=False)"
   ]
  },
  {
   "cell_type": "markdown",
   "metadata": {
    "heading_collapsed": true
   },
   "source": [
    "## XGBoost training with batched DMatrix (7/16/1) Dec 8 2019"
   ]
  },
  {
   "cell_type": "code",
   "execution_count": 23,
   "metadata": {
    "hidden": true,
    "scrolled": true
   },
   "outputs": [
    {
     "name": "stdout",
     "output_type": "stream",
     "text": [
      "applog start time: 1575925680533\n",
      "http://sr525:1088/tracing_examples/trace_viewer.html#/tracing/test_data/application_1575921598424_0007.json\n"
     ]
    }
   ],
   "source": [
    "app=Application_Run('application_1575921598424_0007',jobids=range(1,3)) # grow_policy=lossguide\n",
    "app.generate_trace_view(showemon=False)"
   ]
  },
  {
   "cell_type": "markdown",
   "metadata": {
    "heading_collapsed": true
   },
   "source": [
    "# PR4824, 1 executor per node, 4 node "
   ]
  },
  {
   "cell_type": "code",
   "execution_count": 11,
   "metadata": {
    "hidden": true
   },
   "outputs": [
    {
     "name": "stdout",
     "output_type": "stream",
     "text": [
      "applog start time: 1567640401522\n",
      "http://sr525:1088/tracing_examples/trace_viewer.html#/tracing/test_data/application_1565566767669_0168.json\n"
     ]
    }
   ],
   "source": [
    "app=Application_Run('application_1565566767669_0168',slaves,jobids=range(1,3)) # grow_policy=lossguide\n",
    "app.generate_trace_view(showemon=False)"
   ]
  },
  {
   "cell_type": "markdown",
   "metadata": {},
   "source": [
    "# Traceview with function timing information"
   ]
  },
  {
   "cell_type": "code",
   "execution_count": 7,
   "metadata": {
    "code_folding": [
     0
    ]
   },
   "outputs": [],
   "source": [
    "class xgboostlog_analysis(Analysis):\n",
    "    def __init__(self,file):\n",
    "        Analysis.__init__(self,file)\n",
    "\n",
    "    def load_data(self):\n",
    "        logdata=sc.textFile(self.file)\n",
    "        logdf=logdata.mapPartitions(splits).toDF()\n",
    "        logdf=logdf.withColumn(\"_3\",F.col(\"_3\").astype(DoubleType())*1000)\n",
    "        logdf=logdf.withColumn(\"_4\",F.col(\"_4\").astype(DoubleType())*1000)\n",
    "        logdf=logdf.withColumn(\"_3\",F.col(\"_3\")-self.starttime)\n",
    "        logdf=logdf.where(\"_4>=1\")\n",
    "        self.df=logdf\n",
    "        return logdf\n",
    "\n",
    "    def generate_trace_view_list(self,id,**kwargs):\n",
    "        Analysis.generate_trace_view_list(self,id)\n",
    "        \n",
    "        logdf=self.df\n",
    "\n",
    "        trace_events=logdf.orderBy(\"_3\").select(\n",
    "                F.col(\"_2\").alias('tid'),\n",
    "                F.col(\"_3\").astype(IntegerType()).alias('ts'),\n",
    "                F.col(\"_4\").astype(IntegerType()).alias('dur'),\n",
    "                F.lit(id).alias('pid'),\n",
    "                F.lit('X').alias('ph'),\n",
    "                F.col(\"_1\").alias('name')\n",
    "            ).toJSON().collect()\n",
    "        return trace_events"
   ]
  },
  {
   "cell_type": "code",
   "execution_count": 8,
   "metadata": {
    "code_folding": [
     0
    ]
   },
   "outputs": [],
   "source": [
    "class Application_Run_xgbtck:\n",
    "    def __init__(self, appid, slaves, jobids):\n",
    "        self.appid=appid\n",
    "        self.filedir=\"/skylake/\"+self.appid+\"/\"\n",
    "        \n",
    "        slaves=fs.listdir(\"/skylake/\"+appid)\n",
    "        slaves.remove('app.log')\n",
    "        \n",
    "        self.clients=slaves\n",
    "        \n",
    "        sarclnt={}\n",
    "        for idx,l in enumerate(self.clients):\n",
    "            sarclnt[l]={'sar_cpu':{'als':Sar_cpu_analysis(self.filedir + l + \"/\"+\"sar_cpu.sar\"),'pid':10*idx+0},\n",
    "                'sar_disk':{'als':Sar_disk_analysis(self.filedir + l + \"/\"+\"sar_disk.sar\"),'pid':10*idx+1},\n",
    "                'sar_mem':{'als':Sar_mem_analysis(self.filedir + l + \"/\"+\"sar_mem.sar\"),'pid':10*idx+2},\n",
    "                'sar_nic':{'als':Sar_nic_analysis(self.filedir + l + \"/\"+\"sar_nic.sar\"),'pid':10*idx+3},\n",
    "                'log':{'als':xgboostlog_analysis(self.filedir+ l + \"/\" + \"out.txt\"),'pid':10*idx+4}\n",
    "            }\n",
    "        \n",
    "        self.analysis={\n",
    "            \"sar\": sarclnt,\n",
    "            #'emon':{'als':Emon_Analysis(self.filedir+\"sr595/\"+\"emon.rst\"),'pid':1},\n",
    "            'app':{'als':App_Log_Analysis(self.filedir+\"app.log\",jobids)},\n",
    "        }\n",
    "        \n",
    "    \n",
    "    def generate_trace_view(self,showsar=True,showemon=False,showgpu=True,**kwargs):\n",
    "        traces=[]\n",
    "        #starttime=time.time()*1000\n",
    "        appals=self.analysis['app']['als']\n",
    "        traces.extend(appals.generate_trace_view_list(self.analysis['app'],**kwargs))\n",
    "        starttime=appals.starttime\n",
    "        \n",
    "        if showsar:\n",
    "            for l in self.clients:\n",
    "                for s in ('sar_cpu','sar_disk','sar_mem','sar_nic', 'log'):\n",
    "                    sarals=self.analysis[\"sar\"][l][s]\n",
    "                    sarals['als'].starttime=starttime\n",
    "                    traces.extend(sarals['als'].generate_trace_view_list(sarals['pid'],**kwargs))\n",
    "        if showemon:\n",
    "            emonals=self.analysis['emon']['als']\n",
    "            emonals.starttime=starttime\n",
    "            traces.extend(emonals.generate_trace_view_list(self.analysis['emon']['pid'],**kwargs))\n",
    "        \n",
    "        output='''\n",
    "        {\n",
    "            \"traceEvents\": [\n",
    "        \n",
    "        ''' + \\\n",
    "        \",\\n\".join(traces)\\\n",
    "       + '''\n",
    "            ]\n",
    "        }'''\n",
    "\n",
    "        with open('/home/yuzhou/trace_result/'+self.appid+'.json', 'w') as outfile:  \n",
    "            outfile.write(output)\n",
    "\n",
    "        print(\"http://sr525:1088/tracing_examples/trace_viewer.html#/tracing/test_data/\"+self.appid+\".json\")"
   ]
  },
  {
   "cell_type": "code",
   "execution_count": 9,
   "metadata": {},
   "outputs": [
    {
     "name": "stderr",
     "output_type": "stream",
     "text": [
      "/home/yuzhou/miniconda3/envs/sparkConda/lib/python3.7/site-packages/pyarrow/pandas_compat.py:752: FutureWarning: .labels was deprecated in version 0.24.0. Use .codes instead.\n",
      "  labels, = index.labels\n"
     ]
    },
    {
     "name": "stdout",
     "output_type": "stream",
     "text": [
      "applog start time: 1578421178878\n",
      "http://sr525:1088/tracing_examples/trace_viewer.html#/tracing/test_data/application_1578212803374_0013.json\n"
     ]
    }
   ],
   "source": [
    "app=Application_Run_xgbtck('application_1578212803374_0013',slaves,jobids=range(1,3)) \n",
    "app.generate_trace_view(showemon=False)"
   ]
  },
  {
   "cell_type": "code",
   "execution_count": 20,
   "metadata": {},
   "outputs": [
    {
     "ename": "IllegalArgumentException",
     "evalue": "\"Error while instantiating 'org.apache.spark.sql.internal.SessionStateBuilder':\"",
     "output_type": "error",
     "traceback": [
      "\u001b[0;31m---------------------------------------------------------------------------\u001b[0m",
      "\u001b[0;31mPy4JJavaError\u001b[0m                             Traceback (most recent call last)",
      "\u001b[0;32m~/spark/spark/python/pyspark/sql/utils.py\u001b[0m in \u001b[0;36mdeco\u001b[0;34m(*a, **kw)\u001b[0m\n\u001b[1;32m     62\u001b[0m         \u001b[0;32mtry\u001b[0m\u001b[0;34m:\u001b[0m\u001b[0;34m\u001b[0m\u001b[0;34m\u001b[0m\u001b[0m\n\u001b[0;32m---> 63\u001b[0;31m             \u001b[0;32mreturn\u001b[0m \u001b[0mf\u001b[0m\u001b[0;34m(\u001b[0m\u001b[0;34m*\u001b[0m\u001b[0ma\u001b[0m\u001b[0;34m,\u001b[0m \u001b[0;34m**\u001b[0m\u001b[0mkw\u001b[0m\u001b[0;34m)\u001b[0m\u001b[0;34m\u001b[0m\u001b[0;34m\u001b[0m\u001b[0m\n\u001b[0m\u001b[1;32m     64\u001b[0m         \u001b[0;32mexcept\u001b[0m \u001b[0mpy4j\u001b[0m\u001b[0;34m.\u001b[0m\u001b[0mprotocol\u001b[0m\u001b[0;34m.\u001b[0m\u001b[0mPy4JJavaError\u001b[0m \u001b[0;32mas\u001b[0m \u001b[0me\u001b[0m\u001b[0;34m:\u001b[0m\u001b[0;34m\u001b[0m\u001b[0;34m\u001b[0m\u001b[0m\n",
      "\u001b[0;32m~/miniconda3/envs/sparkConda/lib/python3.7/site-packages/py4j/protocol.py\u001b[0m in \u001b[0;36mget_return_value\u001b[0;34m(answer, gateway_client, target_id, name)\u001b[0m\n\u001b[1;32m    327\u001b[0m                     \u001b[0;34m\"An error occurred while calling {0}{1}{2}.\\n\"\u001b[0m\u001b[0;34m.\u001b[0m\u001b[0;34m\u001b[0m\u001b[0;34m\u001b[0m\u001b[0m\n\u001b[0;32m--> 328\u001b[0;31m                     format(target_id, \".\", name), value)\n\u001b[0m\u001b[1;32m    329\u001b[0m             \u001b[0;32melse\u001b[0m\u001b[0;34m:\u001b[0m\u001b[0;34m\u001b[0m\u001b[0;34m\u001b[0m\u001b[0m\n",
      "\u001b[0;31mPy4JJavaError\u001b[0m: An error occurred while calling o179.read.\n: java.lang.IllegalArgumentException: Error while instantiating 'org.apache.spark.sql.internal.SessionStateBuilder':\n\tat org.apache.spark.sql.SparkSession$.org$apache$spark$sql$SparkSession$$instantiateSessionState(SparkSession.scala:1107)\n\tat org.apache.spark.sql.SparkSession$$anonfun$sessionState$2.apply(SparkSession.scala:145)\n\tat org.apache.spark.sql.SparkSession$$anonfun$sessionState$2.apply(SparkSession.scala:144)\n\tat scala.Option.getOrElse(Option.scala:121)\n\tat org.apache.spark.sql.SparkSession.sessionState$lzycompute(SparkSession.scala:144)\n\tat org.apache.spark.sql.SparkSession.sessionState(SparkSession.scala:141)\n\tat org.apache.spark.sql.DataFrameReader.<init>(DataFrameReader.scala:789)\n\tat org.apache.spark.sql.SparkSession.read(SparkSession.scala:655)\n\tat org.apache.spark.sql.SQLContext.read(SQLContext.scala:507)\n\tat sun.reflect.NativeMethodAccessorImpl.invoke0(Native Method)\n\tat sun.reflect.NativeMethodAccessorImpl.invoke(NativeMethodAccessorImpl.java:62)\n\tat sun.reflect.DelegatingMethodAccessorImpl.invoke(DelegatingMethodAccessorImpl.java:43)\n\tat java.lang.reflect.Method.invoke(Method.java:498)\n\tat py4j.reflection.MethodInvoker.invoke(MethodInvoker.java:244)\n\tat py4j.reflection.ReflectionEngine.invoke(ReflectionEngine.java:357)\n\tat py4j.Gateway.invoke(Gateway.java:282)\n\tat py4j.commands.AbstractCommand.invokeMethod(AbstractCommand.java:132)\n\tat py4j.commands.CallCommand.execute(CallCommand.java:79)\n\tat py4j.GatewayConnection.run(GatewayConnection.java:238)\n\tat java.lang.Thread.run(Thread.java:745)\nCaused by: java.lang.IllegalStateException: LiveListenerBus is stopped.\n\tat org.apache.spark.scheduler.LiveListenerBus.addToQueue(LiveListenerBus.scala:97)\n\tat org.apache.spark.scheduler.LiveListenerBus.addToStatusQueue(LiveListenerBus.scala:80)\n\tat org.apache.spark.sql.internal.SharedState.<init>(SharedState.scala:93)\n\tat org.apache.spark.sql.SparkSession$$anonfun$sharedState$1.apply(SparkSession.scala:121)\n\tat org.apache.spark.sql.SparkSession$$anonfun$sharedState$1.apply(SparkSession.scala:121)\n\tat scala.Option.getOrElse(Option.scala:121)\n\tat org.apache.spark.sql.SparkSession.sharedState$lzycompute(SparkSession.scala:121)\n\tat org.apache.spark.sql.SparkSession.sharedState(SparkSession.scala:120)\n\tat org.apache.spark.sql.internal.BaseSessionStateBuilder.build(BaseSessionStateBuilder.scala:286)\n\tat org.apache.spark.sql.SparkSession$.org$apache$spark$sql$SparkSession$$instantiateSessionState(SparkSession.scala:1104)\n\t... 19 more\n",
      "\nDuring handling of the above exception, another exception occurred:\n",
      "\u001b[0;31mIllegalArgumentException\u001b[0m                  Traceback (most recent call last)",
      "\u001b[0;32m<ipython-input-20-13617b4fc6d5>\u001b[0m in \u001b[0;36m<module>\u001b[0;34m\u001b[0m\n\u001b[1;32m      1\u001b[0m \u001b[0;31m#slaves = ['c8n2', 'c8n3', 'c8n4']\u001b[0m\u001b[0;34m\u001b[0m\u001b[0;34m\u001b[0m\u001b[0;34m\u001b[0m\u001b[0m\n\u001b[1;32m      2\u001b[0m \u001b[0mapp\u001b[0m\u001b[0;34m=\u001b[0m\u001b[0mApplication_Run\u001b[0m\u001b[0;34m(\u001b[0m\u001b[0;34m'application_1565566767669_0168'\u001b[0m\u001b[0;34m,\u001b[0m\u001b[0mjobids\u001b[0m\u001b[0;34m=\u001b[0m\u001b[0mrange\u001b[0m\u001b[0;34m(\u001b[0m\u001b[0;36m1\u001b[0m\u001b[0;34m,\u001b[0m\u001b[0;36m3\u001b[0m\u001b[0;34m)\u001b[0m\u001b[0;34m)\u001b[0m\u001b[0;34m\u001b[0m\u001b[0;34m\u001b[0m\u001b[0m\n\u001b[0;32m----> 3\u001b[0;31m \u001b[0mapp\u001b[0m\u001b[0;34m.\u001b[0m\u001b[0mgenerate_trace_view\u001b[0m\u001b[0;34m(\u001b[0m\u001b[0mshowemon\u001b[0m\u001b[0;34m=\u001b[0m\u001b[0;32mFalse\u001b[0m\u001b[0;34m)\u001b[0m\u001b[0;34m\u001b[0m\u001b[0;34m\u001b[0m\u001b[0m\n\u001b[0m",
      "\u001b[0;32m<ipython-input-14-bfaa1bd3ae41>\u001b[0m in \u001b[0;36mgenerate_trace_view\u001b[0;34m(self, showsar, showemon, showgpu, **kwargs)\u001b[0m\n\u001b[1;32m     32\u001b[0m         \u001b[0;31m#starttime=time.time()*1000\u001b[0m\u001b[0;34m\u001b[0m\u001b[0;34m\u001b[0m\u001b[0;34m\u001b[0m\u001b[0m\n\u001b[1;32m     33\u001b[0m         \u001b[0mappals\u001b[0m\u001b[0;34m=\u001b[0m\u001b[0mself\u001b[0m\u001b[0;34m.\u001b[0m\u001b[0manalysis\u001b[0m\u001b[0;34m[\u001b[0m\u001b[0;34m'app'\u001b[0m\u001b[0;34m]\u001b[0m\u001b[0;34m[\u001b[0m\u001b[0;34m'als'\u001b[0m\u001b[0;34m]\u001b[0m\u001b[0;34m\u001b[0m\u001b[0;34m\u001b[0m\u001b[0m\n\u001b[0;32m---> 34\u001b[0;31m         \u001b[0mtraces\u001b[0m\u001b[0;34m.\u001b[0m\u001b[0mextend\u001b[0m\u001b[0;34m(\u001b[0m\u001b[0mappals\u001b[0m\u001b[0;34m.\u001b[0m\u001b[0mgenerate_trace_view_list\u001b[0m\u001b[0;34m(\u001b[0m\u001b[0mself\u001b[0m\u001b[0;34m.\u001b[0m\u001b[0manalysis\u001b[0m\u001b[0;34m[\u001b[0m\u001b[0;34m'app'\u001b[0m\u001b[0;34m]\u001b[0m\u001b[0;34m,\u001b[0m\u001b[0;34m**\u001b[0m\u001b[0mkwargs\u001b[0m\u001b[0;34m)\u001b[0m\u001b[0;34m)\u001b[0m\u001b[0;34m\u001b[0m\u001b[0;34m\u001b[0m\u001b[0m\n\u001b[0m\u001b[1;32m     35\u001b[0m         \u001b[0mstarttime\u001b[0m\u001b[0;34m=\u001b[0m\u001b[0mappals\u001b[0m\u001b[0;34m.\u001b[0m\u001b[0mstarttime\u001b[0m\u001b[0;34m\u001b[0m\u001b[0;34m\u001b[0m\u001b[0m\n\u001b[1;32m     36\u001b[0m \u001b[0;34m\u001b[0m\u001b[0m\n",
      "\u001b[0;32m<ipython-input-14-aba6dab30ea0>\u001b[0m in \u001b[0;36mgenerate_trace_view_list\u001b[0;34m(self, id, **kwargs)\u001b[0m\n\u001b[1;32m     24\u001b[0m \u001b[0;34m\u001b[0m\u001b[0m\n\u001b[1;32m     25\u001b[0m     \u001b[0;32mdef\u001b[0m \u001b[0mgenerate_trace_view_list\u001b[0m\u001b[0;34m(\u001b[0m\u001b[0mself\u001b[0m\u001b[0;34m,\u001b[0m\u001b[0mid\u001b[0m\u001b[0;34m=\u001b[0m\u001b[0;36m0\u001b[0m\u001b[0;34m,\u001b[0m\u001b[0;34m**\u001b[0m\u001b[0mkwargs\u001b[0m\u001b[0;34m)\u001b[0m\u001b[0;34m:\u001b[0m\u001b[0;34m\u001b[0m\u001b[0;34m\u001b[0m\u001b[0m\n\u001b[0;32m---> 26\u001b[0;31m         \u001b[0mAnalysis\u001b[0m\u001b[0;34m.\u001b[0m\u001b[0mgenerate_trace_view_list\u001b[0m\u001b[0;34m(\u001b[0m\u001b[0mself\u001b[0m\u001b[0;34m,\u001b[0m\u001b[0;34m**\u001b[0m\u001b[0mkwargs\u001b[0m\u001b[0;34m)\u001b[0m\u001b[0;34m\u001b[0m\u001b[0;34m\u001b[0m\u001b[0m\n\u001b[0m\u001b[1;32m     27\u001b[0m         \u001b[0mshowcpu\u001b[0m\u001b[0;34m=\u001b[0m\u001b[0mkwargs\u001b[0m\u001b[0;34m[\u001b[0m\u001b[0;34m'showcpu'\u001b[0m\u001b[0;34m]\u001b[0m \u001b[0;32mif\u001b[0m \u001b[0;34m'showcpu'\u001b[0m \u001b[0;32min\u001b[0m \u001b[0mkwargs\u001b[0m \u001b[0;32melse\u001b[0m \u001b[0;32mFalse\u001b[0m\u001b[0;34m\u001b[0m\u001b[0;34m\u001b[0m\u001b[0m\n\u001b[1;32m     28\u001b[0m \u001b[0;34m\u001b[0m\u001b[0m\n",
      "\u001b[0;32m<ipython-input-14-12d5d354b27d>\u001b[0m in \u001b[0;36mgenerate_trace_view_list\u001b[0;34m(self, id, **kwargs)\u001b[0m\n\u001b[1;32m     10\u001b[0m     \u001b[0;32mdef\u001b[0m \u001b[0mgenerate_trace_view_list\u001b[0m\u001b[0;34m(\u001b[0m\u001b[0mself\u001b[0m\u001b[0;34m,\u001b[0m\u001b[0mid\u001b[0m\u001b[0;34m=\u001b[0m\u001b[0;36m0\u001b[0m\u001b[0;34m,\u001b[0m \u001b[0;34m**\u001b[0m\u001b[0mkwargs\u001b[0m\u001b[0;34m)\u001b[0m\u001b[0;34m:\u001b[0m\u001b[0;34m\u001b[0m\u001b[0;34m\u001b[0m\u001b[0m\n\u001b[1;32m     11\u001b[0m         \u001b[0;32mif\u001b[0m \u001b[0mself\u001b[0m\u001b[0;34m.\u001b[0m\u001b[0mdf\u001b[0m\u001b[0;34m==\u001b[0m\u001b[0;32mNone\u001b[0m\u001b[0;34m:\u001b[0m\u001b[0;34m\u001b[0m\u001b[0;34m\u001b[0m\u001b[0m\n\u001b[0;32m---> 12\u001b[0;31m             \u001b[0mself\u001b[0m\u001b[0;34m.\u001b[0m\u001b[0mload_data\u001b[0m\u001b[0;34m(\u001b[0m\u001b[0;34m)\u001b[0m\u001b[0;34m\u001b[0m\u001b[0;34m\u001b[0m\u001b[0m\n\u001b[0m\u001b[1;32m     13\u001b[0m         \u001b[0;32mpass\u001b[0m\u001b[0;34m\u001b[0m\u001b[0;34m\u001b[0m\u001b[0m\n\u001b[1;32m     14\u001b[0m \u001b[0;34m\u001b[0m\u001b[0m\n",
      "\u001b[0;32m<ipython-input-14-aba6dab30ea0>\u001b[0m in \u001b[0;36mload_data\u001b[0;34m(self)\u001b[0m\n\u001b[1;32m      7\u001b[0m     \u001b[0;32mdef\u001b[0m \u001b[0mload_data\u001b[0m\u001b[0;34m(\u001b[0m\u001b[0mself\u001b[0m\u001b[0;34m)\u001b[0m\u001b[0;34m:\u001b[0m\u001b[0;34m\u001b[0m\u001b[0;34m\u001b[0m\u001b[0m\n\u001b[1;32m      8\u001b[0m         \u001b[0mjobids\u001b[0m\u001b[0;34m=\u001b[0m\u001b[0mself\u001b[0m\u001b[0;34m.\u001b[0m\u001b[0mjobids\u001b[0m\u001b[0;34m\u001b[0m\u001b[0;34m\u001b[0m\u001b[0m\n\u001b[0;32m----> 9\u001b[0;31m         \u001b[0mdf\u001b[0m\u001b[0;34m=\u001b[0m\u001b[0mspark\u001b[0m\u001b[0;34m.\u001b[0m\u001b[0mread\u001b[0m\u001b[0;34m.\u001b[0m\u001b[0mjson\u001b[0m\u001b[0;34m(\u001b[0m\u001b[0mself\u001b[0m\u001b[0;34m.\u001b[0m\u001b[0mfile\u001b[0m\u001b[0;34m)\u001b[0m\u001b[0;34m\u001b[0m\u001b[0;34m\u001b[0m\u001b[0m\n\u001b[0m\u001b[1;32m     10\u001b[0m         \u001b[0mjobstart\u001b[0m\u001b[0;34m=\u001b[0m\u001b[0mdf\u001b[0m\u001b[0;34m.\u001b[0m\u001b[0mwhere\u001b[0m\u001b[0;34m(\u001b[0m\u001b[0;34m\"event='SparkListenerJobStart'\"\u001b[0m\u001b[0;34m)\u001b[0m\u001b[0;34m.\u001b[0m\u001b[0mselect\u001b[0m\u001b[0;34m(\u001b[0m\u001b[0;34m'job id'\u001b[0m\u001b[0;34m,\u001b[0m\u001b[0;34m'Submission Time'\u001b[0m\u001b[0;34m)\u001b[0m\u001b[0;34m\u001b[0m\u001b[0;34m\u001b[0m\u001b[0m\n\u001b[1;32m     11\u001b[0m         \u001b[0mjobend\u001b[0m\u001b[0;34m=\u001b[0m\u001b[0mdf\u001b[0m\u001b[0;34m.\u001b[0m\u001b[0mwhere\u001b[0m\u001b[0;34m(\u001b[0m\u001b[0;34m\"event='SparkListenerJobEnd'\"\u001b[0m\u001b[0;34m)\u001b[0m\u001b[0;34m.\u001b[0m\u001b[0mselect\u001b[0m\u001b[0;34m(\u001b[0m\u001b[0;34m'job id'\u001b[0m\u001b[0;34m,\u001b[0m\u001b[0;34m'Completion Time'\u001b[0m\u001b[0;34m)\u001b[0m\u001b[0;34m\u001b[0m\u001b[0;34m\u001b[0m\u001b[0m\n",
      "\u001b[0;32m~/spark/spark/python/pyspark/sql/context.py\u001b[0m in \u001b[0;36mread\u001b[0;34m(self)\u001b[0m\n\u001b[1;32m    436\u001b[0m         \u001b[0;34m:\u001b[0m\u001b[0;32mreturn\u001b[0m\u001b[0;34m:\u001b[0m \u001b[0;34m:\u001b[0m\u001b[0;32mclass\u001b[0m\u001b[0;34m:\u001b[0m\u001b[0;31m`\u001b[0m\u001b[0mDataFrameReader\u001b[0m\u001b[0;31m`\u001b[0m\u001b[0;34m\u001b[0m\u001b[0;34m\u001b[0m\u001b[0m\n\u001b[1;32m    437\u001b[0m         \"\"\"\n\u001b[0;32m--> 438\u001b[0;31m         \u001b[0;32mreturn\u001b[0m \u001b[0mDataFrameReader\u001b[0m\u001b[0;34m(\u001b[0m\u001b[0mself\u001b[0m\u001b[0;34m)\u001b[0m\u001b[0;34m\u001b[0m\u001b[0;34m\u001b[0m\u001b[0m\n\u001b[0m\u001b[1;32m    439\u001b[0m \u001b[0;34m\u001b[0m\u001b[0m\n\u001b[1;32m    440\u001b[0m     \u001b[0;34m@\u001b[0m\u001b[0mproperty\u001b[0m\u001b[0;34m\u001b[0m\u001b[0;34m\u001b[0m\u001b[0m\n",
      "\u001b[0;32m~/spark/spark/python/pyspark/sql/readwriter.py\u001b[0m in \u001b[0;36m__init__\u001b[0;34m(self, spark)\u001b[0m\n\u001b[1;32m     68\u001b[0m \u001b[0;34m\u001b[0m\u001b[0m\n\u001b[1;32m     69\u001b[0m     \u001b[0;32mdef\u001b[0m \u001b[0m__init__\u001b[0m\u001b[0;34m(\u001b[0m\u001b[0mself\u001b[0m\u001b[0;34m,\u001b[0m \u001b[0mspark\u001b[0m\u001b[0;34m)\u001b[0m\u001b[0;34m:\u001b[0m\u001b[0;34m\u001b[0m\u001b[0;34m\u001b[0m\u001b[0m\n\u001b[0;32m---> 70\u001b[0;31m         \u001b[0mself\u001b[0m\u001b[0;34m.\u001b[0m\u001b[0m_jreader\u001b[0m \u001b[0;34m=\u001b[0m \u001b[0mspark\u001b[0m\u001b[0;34m.\u001b[0m\u001b[0m_ssql_ctx\u001b[0m\u001b[0;34m.\u001b[0m\u001b[0mread\u001b[0m\u001b[0;34m(\u001b[0m\u001b[0;34m)\u001b[0m\u001b[0;34m\u001b[0m\u001b[0;34m\u001b[0m\u001b[0m\n\u001b[0m\u001b[1;32m     71\u001b[0m         \u001b[0mself\u001b[0m\u001b[0;34m.\u001b[0m\u001b[0m_spark\u001b[0m \u001b[0;34m=\u001b[0m \u001b[0mspark\u001b[0m\u001b[0;34m\u001b[0m\u001b[0;34m\u001b[0m\u001b[0m\n\u001b[1;32m     72\u001b[0m \u001b[0;34m\u001b[0m\u001b[0m\n",
      "\u001b[0;32m~/miniconda3/envs/sparkConda/lib/python3.7/site-packages/py4j/java_gateway.py\u001b[0m in \u001b[0;36m__call__\u001b[0;34m(self, *args)\u001b[0m\n\u001b[1;32m   1284\u001b[0m         \u001b[0manswer\u001b[0m \u001b[0;34m=\u001b[0m \u001b[0mself\u001b[0m\u001b[0;34m.\u001b[0m\u001b[0mgateway_client\u001b[0m\u001b[0;34m.\u001b[0m\u001b[0msend_command\u001b[0m\u001b[0;34m(\u001b[0m\u001b[0mcommand\u001b[0m\u001b[0;34m)\u001b[0m\u001b[0;34m\u001b[0m\u001b[0;34m\u001b[0m\u001b[0m\n\u001b[1;32m   1285\u001b[0m         return_value = get_return_value(\n\u001b[0;32m-> 1286\u001b[0;31m             answer, self.gateway_client, self.target_id, self.name)\n\u001b[0m\u001b[1;32m   1287\u001b[0m \u001b[0;34m\u001b[0m\u001b[0m\n\u001b[1;32m   1288\u001b[0m         \u001b[0;32mfor\u001b[0m \u001b[0mtemp_arg\u001b[0m \u001b[0;32min\u001b[0m \u001b[0mtemp_args\u001b[0m\u001b[0;34m:\u001b[0m\u001b[0;34m\u001b[0m\u001b[0;34m\u001b[0m\u001b[0m\n",
      "\u001b[0;32m~/spark/spark/python/pyspark/sql/utils.py\u001b[0m in \u001b[0;36mdeco\u001b[0;34m(*a, **kw)\u001b[0m\n\u001b[1;32m     77\u001b[0m                 \u001b[0;32mraise\u001b[0m \u001b[0mQueryExecutionException\u001b[0m\u001b[0;34m(\u001b[0m\u001b[0ms\u001b[0m\u001b[0;34m.\u001b[0m\u001b[0msplit\u001b[0m\u001b[0;34m(\u001b[0m\u001b[0;34m': '\u001b[0m\u001b[0;34m,\u001b[0m \u001b[0;36m1\u001b[0m\u001b[0;34m)\u001b[0m\u001b[0;34m[\u001b[0m\u001b[0;36m1\u001b[0m\u001b[0;34m]\u001b[0m\u001b[0;34m,\u001b[0m \u001b[0mstackTrace\u001b[0m\u001b[0;34m)\u001b[0m\u001b[0;34m\u001b[0m\u001b[0;34m\u001b[0m\u001b[0m\n\u001b[1;32m     78\u001b[0m             \u001b[0;32mif\u001b[0m \u001b[0ms\u001b[0m\u001b[0;34m.\u001b[0m\u001b[0mstartswith\u001b[0m\u001b[0;34m(\u001b[0m\u001b[0;34m'java.lang.IllegalArgumentException: '\u001b[0m\u001b[0;34m)\u001b[0m\u001b[0;34m:\u001b[0m\u001b[0;34m\u001b[0m\u001b[0;34m\u001b[0m\u001b[0m\n\u001b[0;32m---> 79\u001b[0;31m                 \u001b[0;32mraise\u001b[0m \u001b[0mIllegalArgumentException\u001b[0m\u001b[0;34m(\u001b[0m\u001b[0ms\u001b[0m\u001b[0;34m.\u001b[0m\u001b[0msplit\u001b[0m\u001b[0;34m(\u001b[0m\u001b[0;34m': '\u001b[0m\u001b[0;34m,\u001b[0m \u001b[0;36m1\u001b[0m\u001b[0;34m)\u001b[0m\u001b[0;34m[\u001b[0m\u001b[0;36m1\u001b[0m\u001b[0;34m]\u001b[0m\u001b[0;34m,\u001b[0m \u001b[0mstackTrace\u001b[0m\u001b[0;34m)\u001b[0m\u001b[0;34m\u001b[0m\u001b[0;34m\u001b[0m\u001b[0m\n\u001b[0m\u001b[1;32m     80\u001b[0m             \u001b[0;32mraise\u001b[0m\u001b[0;34m\u001b[0m\u001b[0;34m\u001b[0m\u001b[0m\n\u001b[1;32m     81\u001b[0m     \u001b[0;32mreturn\u001b[0m \u001b[0mdeco\u001b[0m\u001b[0;34m\u001b[0m\u001b[0;34m\u001b[0m\u001b[0m\n",
      "\u001b[0;31mIllegalArgumentException\u001b[0m: \"Error while instantiating 'org.apache.spark.sql.internal.SessionStateBuilder':\""
     ]
    }
   ],
   "source": [
    "#slaves = ['c8n2', 'c8n3', 'c8n4']\n",
    "app=Application_Run('application_1579121486580_0009',jobids=range(1,3),basedir=\"clx\") \n",
    "app.generate_trace_view(showemon=False)"
   ]
  },
  {
   "cell_type": "code",
   "execution_count": 20,
   "metadata": {},
   "outputs": [
    {
     "name": "stdout",
     "output_type": "stream",
     "text": [
      "applog start time: 1581473788844\n",
      "http://sr525:1088/tracing_examples/trace_viewer.html#/tracing/test_data/application_1581472560580_0003.json\n"
     ]
    }
   ],
   "source": [
    "app=Application_Run('application_1581472560580_0003', jobids=range(1,10)) # grow_policy=lossguide\n",
    "app.generate_trace_view(showemon=False)"
   ]
  },
  {
   "cell_type": "code",
   "execution_count": 22,
   "metadata": {},
   "outputs": [
    {
     "name": "stdout",
     "output_type": "stream",
     "text": [
      "applog start time: 1581533935439\n",
      "http://sr525:1088/tracing_examples/trace_viewer.html#/tracing/test_data/application_1581472560580_0020.json\n"
     ]
    }
   ],
   "source": [
    "app=Application_Run('application_1581472560580_0020', jobids=range(1,10)) # grow_policy=lossguide\n",
    "app.generate_trace_view(showemon=False)"
   ]
  },
  {
   "cell_type": "markdown",
   "metadata": {},
   "source": [
    "# Stop analysis cluster"
   ]
  },
  {
   "cell_type": "code",
   "execution_count": 1,
   "metadata": {},
   "outputs": [
    {
     "ename": "NameError",
     "evalue": "name 'sc' is not defined",
     "output_type": "error",
     "traceback": [
      "\u001b[0;31m---------------------------------------------------------------------------\u001b[0m",
      "\u001b[0;31mNameError\u001b[0m                                 Traceback (most recent call last)",
      "\u001b[0;32m<ipython-input-1-8d3513b7698b>\u001b[0m in \u001b[0;36m<module>\u001b[0;34m\u001b[0m\n\u001b[0;32m----> 1\u001b[0;31m \u001b[0msc\u001b[0m\u001b[0;34m.\u001b[0m\u001b[0mstop\u001b[0m\u001b[0;34m(\u001b[0m\u001b[0;34m)\u001b[0m\u001b[0;34m\u001b[0m\u001b[0;34m\u001b[0m\u001b[0m\n\u001b[0m",
      "\u001b[0;31mNameError\u001b[0m: name 'sc' is not defined"
     ]
    }
   ],
   "source": [
    "sc.stop()"
   ]
  },
  {
   "cell_type": "code",
   "execution_count": null,
   "metadata": {},
   "outputs": [],
   "source": []
  },
  {
   "cell_type": "code",
   "execution_count": null,
   "metadata": {},
   "outputs": [],
   "source": []
  },
  {
   "cell_type": "code",
   "execution_count": null,
   "metadata": {},
   "outputs": [],
   "source": []
  },
  {
   "cell_type": "code",
   "execution_count": null,
   "metadata": {},
   "outputs": [],
   "source": []
  }
 ],
 "metadata": {
  "hide_input": false,
  "kernelspec": {
   "display_name": "Python 3",
   "language": "python",
   "name": "python3"
  },
  "language_info": {
   "codemirror_mode": {
    "name": "ipython",
    "version": 3
   },
   "file_extension": ".py",
   "mimetype": "text/x-python",
   "name": "python",
   "nbconvert_exporter": "python",
   "pygments_lexer": "ipython3",
   "version": "3.7.8"
  },
  "nbTranslate": {
   "displayLangs": [
    "*"
   ],
   "hotkey": "alt-t",
   "langInMainMenu": true,
   "sourceLang": "en",
   "targetLang": "fr",
   "useGoogleTranslate": true
  },
  "toc": {
   "base_numbering": 1,
   "nav_menu": {},
   "number_sections": true,
   "sideBar": true,
   "skip_h1_title": false,
   "title_cell": "Table of Contents",
   "title_sidebar": "Contents",
   "toc_cell": true,
   "toc_position": {
    "height": "calc(100% - 180px)",
    "left": "10px",
    "top": "150px",
    "width": "384px"
   },
   "toc_section_display": true,
   "toc_window_display": true
  },
  "varInspector": {
   "cols": {
    "lenName": 16,
    "lenType": 16,
    "lenVar": 40
   },
   "kernels_config": {
    "python": {
     "delete_cmd_postfix": "",
     "delete_cmd_prefix": "del ",
     "library": "var_list.py",
     "varRefreshCmd": "print(var_dic_list())"
    },
    "r": {
     "delete_cmd_postfix": ") ",
     "delete_cmd_prefix": "rm(",
     "library": "var_list.r",
     "varRefreshCmd": "cat(var_dic_list()) "
    }
   },
   "types_to_exclude": [
    "module",
    "function",
    "builtin_function_or_method",
    "instance",
    "_Feature"
   ],
   "window_display": false
  }
 },
 "nbformat": 4,
 "nbformat_minor": 2
}
