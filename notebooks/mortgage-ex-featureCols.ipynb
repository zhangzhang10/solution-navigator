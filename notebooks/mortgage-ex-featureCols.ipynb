{
 "cells": [
  {
   "cell_type": "code",
   "execution_count": 1,
   "metadata": {},
   "outputs": [
    {
     "data": {
      "text/html": [
       "<style>.container { width:100% !important; }</style>"
      ],
      "text/plain": [
       "<IPython.core.display.HTML object>"
      ]
     },
     "metadata": {},
     "output_type": "display_data"
    },
    {
     "data": {
      "text/html": [
       "<style>.CodeMirror{font-family: \"Courier New\";font-size: 12pt;}</style>"
      ],
      "text/plain": [
       "<IPython.core.display.HTML object>"
      ]
     },
     "metadata": {},
     "output_type": "display_data"
    }
   ],
   "source": [
    "from __future__ import nested_scopes\n",
    "from IPython.core.display import display, HTML\n",
    "display(HTML(\"<style>.container { width:100% !important; }</style>\"))\n",
    "display(HTML('<style>.CodeMirror{font-family: \"Courier New\";font-size: 12pt;}</style>'))\n"
   ]
  },
  {
   "cell_type": "code",
   "execution_count": 2,
   "metadata": {},
   "outputs": [],
   "source": [
    "import sys\n",
    "import os\n",
    "import numpy as np\n",
    "\n",
    "os.environ['PYSPARK_SUBMIT_ARGS'] = '--jars /home/xgboost/xgboost4j/jars/xgboost4j_2.12-1.3.3.jar,/home/xgboost/xgboost4j/jars/xgboost4j-spark_2.12-1.3.3.jar,/home/xgboost/xgboost4j/jars/spark-arrow-datasource-standard-1.1.0-jar-with-dependencies.jar pyspark-shell'\n",
    "os.environ['ARROW_LIBHDFS3_DIR'] = '/home/xgboost/miniconda3/lib'\n",
    "os.environ['LD_LIBRARY_PATH'] = '/home/xgboost/miniconda3/lib'"
   ]
  },
  {
   "cell_type": "code",
   "execution_count": 3,
   "metadata": {},
   "outputs": [],
   "source": [
    "SPARK_HOME='/home/xgboost/spark-3.0.0-bin-hadoop2.7'\n",
    "import findspark\n",
    "findspark.init(SPARK_HOME)"
   ]
  },
  {
   "cell_type": "code",
   "execution_count": 4,
   "metadata": {},
   "outputs": [],
   "source": [
    "from pyspark import SparkConf, SparkContext\n",
    "from pyspark.sql import SQLContext\n",
    "from pyspark.sql import SparkSession\n",
    "from pyspark.sql.types import FloatType, IntegerType, StructField, StructType\n",
    "from time import time, sleep\n",
    "import subprocess\n",
    "import math"
   ]
  },
  {
   "cell_type": "code",
   "execution_count": 5,
   "metadata": {},
   "outputs": [],
   "source": [
    "home = '/home/xgboost'\n",
    "\n",
    "def killsar(clients):\n",
    "    for l in clients:\n",
    "        out=!ssh $l \"ps aux | grep -w sar | grep -v grep | tr -s ' ' | cut -d' ' -f2\"\n",
    "        for x in out:\n",
    "            !ssh $l \"kill $x > /dev/null 2>&1\"\n",
    "    #for l in clients:\n",
    "    #    out=!ssh $l \"ps aux | grep -w pidstat | grep -v grep | tr -s ' ' | cut -d' ' -f2\"\n",
    "    #    for x in out:\n",
    "    #        !ssh $l \"kill $x > /dev/null 2>&1\"\n",
    "    #for l in clients:\n",
    "    #    out=!ssh $l \"ps aux | grep -w perf | grep -v grep | tr -s ' ' | cut -d' ' -f2\"\n",
    "    #    for x in out:\n",
    "    #        !ssh root@$l \"kill $x > /dev/null 2>&1\"\n",
    "    #for l in clients:\n",
    "    #    !ssh $l \"emon -stop > /dev/null 2>&1\"\n",
    "            \n",
    "def startmonitor(clients,appid,**kwargs):\n",
    "    local_profile_dir=home+\"/profile/\"\n",
    "    prof=local_profile_dir+appid+\"/\"\n",
    "    !mkdir -p $prof\n",
    "    \n",
    "    #for l in clients:\n",
    "    #    !ssh root@$l date\n",
    "    \n",
    "    killsar(clients)\n",
    "    \n",
    "    if kwargs.get(\"collect_emon\",False):\n",
    "        with open(home+\"/emon.list\",'w+') as f:\n",
    "            f.write(emon_events)\n",
    "        for l in clients:\n",
    "            !scp {home}/emon.list {l}:{home}/emon.list  > /dev/null 2>&1\n",
    "    \n",
    "    perfsyscalls=kwargs.get(\"collect_perf_syscall\",None)\n",
    "    \n",
    "    for l in clients:\n",
    "        !mkdir -p $prof/$l/\n",
    "        !ssh $l mkdir -p $prof/$l/\n",
    "        !ssh $l \"sar -o {prof}/{l}/sar.bin -r -u -d -n DEV 1 >/dev/null 2>&1 &\"\n",
    "        if kwargs.get(\"collect_pid\",False):\n",
    "            !ssh $l \"jps | grep CoarseGrainedExecutorBackend | head -n 1 | cut -d' ' -f 1 | xargs  -I % pidstat -h -t -p % 1  > {prof}/{l}/pidstat.out  2>/dev/null &\"\n",
    "        !ssh $l 'cat /proc/uptime  | cut -d\" \" -f 1 | xargs -I ^ date -d \"- ^ seconds\"  +%s.%N' > $prof/$l/uptime.txt\n",
    "        if kwargs.get(\"collect_sched\",False):\n",
    "            !ssh $l 'perf trace -e \"sched:sched_switch\" -C 8-15 -o {prof}/{l}/sched.txt -T -- sleep 10000 >/dev/null 2>/dev/null &'\n",
    "        if kwargs.get(\"collect_emon\",False):\n",
    "            !ssh $l \"emon -i {home}/emon.list -f {prof}/{l}/emon.rst >/dev/null 2>&1 & \"\n",
    "        if perfsyscalls is not None:\n",
    "            !ssh $l \"perf stat -e 'syscalls:sys_exit_poll,syscalls:sys_exit_epoll_wait' -a -I 1000 -o {prof}/{l}/perfstat.txt  >/dev/null 2>&1 & \"\n",
    "    return prof\n",
    "\n",
    "def stopmonitor(clients, sc, appid, **kwargs):\n",
    "    %cd ~\n",
    "    \n",
    "    local_profile_dir=home+\"/profile/\"\n",
    "    prof=local_profile_dir+appid+\"/\"\n",
    "    !mkdir -p $prof\n",
    "     \n",
    "    killsar(clients)\n",
    "    \n",
    "    for l in clients:\n",
    "        !ssh $l \"sar -f {prof}/{l}/sar.bin -r > {prof}/{l}/sar_mem.sar;sar -f {prof}/{l}/sar.bin -u > {prof}/{l}/sar_cpu.sar;sar -f {prof}/{l}/sar.bin -d > {prof}/{l}/sar_disk.sar;sar -f {prof}/{l}/sar.bin -n DEV > {prof}/{l}/sar_nic.sar;\" \n",
    "        !ssh $l \"grep -rI xgbtck --no-filename /home/ubuntu/hadoop-2.7.0/logs/userlogs/{appid}/* | sed 's/^ //g'  > {prof}/{l}/xgbtck.txt\"\n",
    "        !scp -r $l:$prof/$l $prof/ > /dev/null 2>&1\n",
    "        !ssh $l \"jps | grep CoarseGrainedExecutorBackend | head -n 2 | tail -n 1 | cut -d' ' -f 1  | xargs -I % ps -To tid p %\" > $prof/$l/sched_threads.txt\n",
    "        #!ssh $l \"emon -v \" > $prof/$l/emonv.txt\n",
    "        #!test -f $prof/$l/perfstat.txt && head -n 1 $prof/$l/perfstat.txt > $prof/$l/perfstarttime\n",
    "    if sc is not None:\n",
    "        sc.stop()"
   ]
  },
  {
   "cell_type": "code",
   "execution_count": 6,
   "metadata": {},
   "outputs": [],
   "source": [
    "clients = ['sr572']\n",
    "nrepeat = 1\n",
    "executors_per_node = 1\n",
    "nodes=len(clients)\n",
    "cores_per_executor=8\n",
    "task_per_core=1\n",
    "\n",
    "cache_size=30000\n",
    "arrow_datasource_jar = '/home/xgboost/xgboost4j/jars/spark-arrow-datasource-standard-1.1.0-jar-with-dependencies.jar'\n",
    "\n",
    "def start_cntx():\n",
    "    conf = SparkConf()\\\n",
    "        .set('spark.default.parallelism', '{:d}'.format(nodes*executors_per_node*cores_per_executor))\\\n",
    "        .set('spark.executor.instances', '{:d}'.format(executors_per_node*nodes))\\\n",
    "        .set('spark.rdd.compress', 'False')\\\n",
    "        .set('spark.files.maxPartitionBytes', '512m')\\\n",
    "        .set('spark.executor.cores','{:d}'.format(cores_per_executor))\\\n",
    "        .set('spark.executor.memory', '40g') \\\n",
    "        .set('spark.executor.memoryOverhead', '4g') \\\n",
    "        .set('spark.task.cpus', '{:d}'.format(task_per_core))\\\n",
    "        .set('spark.driver.memory', '10g')\\\n",
    "        .set('spark.executor.extraJavaOptions',\\\n",
    "            '-XX:+UseParallelGC -XX:+UseParallelOldGC -verbose:gc -XX:+PrintGCDetails')\\\n",
    "        .set('spark.driver.maxResultSize', '0')\\\n",
    "        .set('spark.serializer','org.apache.spark.serializer.KryoSerializer')\\\n",
    "        .set('spark.memory.offHeap.enabled','True')\\\n",
    "        .set('spark.memory.offHeap.size','10g')\\\n",
    "        .set('spark.executorEnv.ARROW_LIBHDFS3_DIR', '/home/xgboost/miniconda3/lib')\\\n",
    "        .set('spark.executorEnv.LD_LIBRARY_PATH', '/home/xgboost/miniconda3/lib')\\\n",
    "        .set('spark.driver.extraClassPath', arrow_datasource_jar) \\\n",
    "        .set('spark.executor.extraClassPath', arrow_datasource_jar) \\\n",
    "        .set('xgboost.spark.arrow.optimization.enabled', 'True') \\\n",
    "        .setAppName('mortgage')\n",
    "\n",
    "    spark = SparkSession.builder\\\n",
    "                .master('spark://sr572:7077')\\\n",
    "                .config(conf=conf)\\\n",
    "                .getOrCreate()\n",
    "        \n",
    "    sc = spark.sparkContext\n",
    "    sc.setLogLevel('INFO')\n",
    "    sc.addPyFile('/home/xgboost/xgboost4j/sparkxgb_1.24.zip')\n",
    "    return sc, spark    "
   ]
  },
  {
   "cell_type": "code",
   "execution_count": 7,
   "metadata": {},
   "outputs": [],
   "source": [
    "def train(numWorkers, label, features):\n",
    "    from sparkxgb import XGBoostClassifier\n",
    "    params = { \n",
    "        'labelCol': label,\n",
    "        'featuresCols': features,\n",
    "        'eta': 0.1,\n",
    "        'gamma': 0.1,\n",
    "        'missing': 0.0,\n",
    "        'treeMethod': 'hist',\n",
    "        'maxDepth': 8, \n",
    "        'maxLeaves': 256,\n",
    "        'alpha':0.9,\n",
    "        'objective':'reg:squarederror',\n",
    "        'growPolicy': 'depthwise',\n",
    "        'minChildWeight': 30.0,\n",
    "        'reg_lambda': 1.0,\n",
    "        'scalePosWeight': 2.0,\n",
    "        'subsample': 1.0,\n",
    "        'numRound': 100,\n",
    "        'maxBin': 256,\n",
    "        'nthread': cores_per_executor,\n",
    "        'numWorkers': numWorkers,\n",
    "        'singlePrecisionHistogram': True,\n",
    "        'verbosity': 3     \n",
    "    }\n",
    "        \n",
    "    #classifier = XGBoostClassifier(**params).setLabelCol(label).setFeaturesCols(features)\n",
    "    classifier = XGBoostClassifier(**params)\n",
    "    return classifier"
   ]
  },
  {
   "cell_type": "code",
   "execution_count": 8,
   "metadata": {},
   "outputs": [],
   "source": [
    "def with_benchmark(phrase, action):\n",
    "    start = time()\n",
    "    result = action()\n",
    "    end = time()\n",
    "    display(HTML(\"{} takes <font size=6pt color=red>{} seconds </font>\".format(phrase, round(end - start, 2))))\n",
    "    return result\n",
    "\n",
    "\n",
    "def train_data_fn(nworker, train_data, label, features):\n",
    "    classifier=train(nworker, label, features)\n",
    "    return with_benchmark('Training', lambda: classifier.fit(train_data))"
   ]
  },
  {
   "cell_type": "code",
   "execution_count": 9,
   "metadata": {},
   "outputs": [],
   "source": [
    "def load_parquet(path):\n",
    "    label = 'delinquency_12'\n",
    "    train_data = spark.read.format('arrow').load(path)\n",
    "    # print(\"DataFrame schma: \", train_data.schema)\n",
    "    features = [x for x in train_data.columns]\n",
    "    print(f'features: ${features}')\n",
    "    #train_data = train_data.coalesce(executors_per_node*nodes)   \n",
    "    return (label,features,train_data)"
   ]
  },
  {
   "cell_type": "code",
   "execution_count": 10,
   "metadata": {
    "scrolled": false
   },
   "outputs": [
    {
     "name": "stdout",
     "output_type": "stream",
     "text": [
      "/bin/bash: /home/xgboost/miniconda3/lib/libtinfo.so.6: no version information available (required by /bin/bash)\n",
      "bash: /home/xgboost/miniconda3/lib/libtinfo.so.6: no version information available (required by bash)\n",
      "bash: /home/xgboost/miniconda3/lib/libtinfo.so.6: no version information available (required by bash)\n",
      "starting org.apache.spark.deploy.master.Master, logging to /home/xgboost/spark-3.0.0-bin-hadoop2.7/logs/spark-xgboost-org.apache.spark.deploy.master.Master-1-sr572.out\n",
      "/bin/bash: /home/xgboost/miniconda3/lib/libtinfo.so.6: no version information available (required by /bin/bash)\n",
      "bash: /home/xgboost/miniconda3/lib/libtinfo.so.6: no version information available (required by bash)\n",
      "bash: /home/xgboost/miniconda3/lib/libtinfo.so.6: no version information available (required by bash)\n",
      "starting org.apache.spark.deploy.worker.Worker, logging to /home/xgboost/spark-3.0.0-bin-hadoop2.7/logs/spark-xgboost-org.apache.spark.deploy.worker.Worker-1-sr572.out\n"
     ]
    }
   ],
   "source": [
    "SPARK_HOME='/home/xgboost/spark-3.0.0-bin-hadoop2.7'\n",
    "!$SPARK_HOME/sbin/start-master.sh\n",
    "!$SPARK_HOME/sbin/start-slave.sh spark://sr572:7077 -c 8"
   ]
  },
  {
   "cell_type": "code",
   "execution_count": 11,
   "metadata": {
    "scrolled": false
   },
   "outputs": [
    {
     "name": "stdout",
     "output_type": "stream",
     "text": [
      "features: $['interest_rate', 'current_actual_upb', 'loan_age', 'remaining_months_to_legal_maturity', 'adj_remaining_months_to_maturity', 'msa', 'current_loan_delinquency_status', 'foreclosure_costs', 'prop_preservation_and_repair_costs', 'asset_recovery_costs', 'misc_holding_expenses', 'holding_taxes', 'net_sale_proceeds', 'credit_enhancement_proceeds', 'repurchase_make_whole_proceeds', 'other_foreclosure_proceeds', 'non_interest_bearing_upb', 'principal_forgiveness_upb', 'foreclosure_principal_write_off_amount', 'servicer_idx', 'mod_flag_idx', 'zero_balance_code_idx', 'repurchase_make_whole_proceeds_flag_idx', 'servicing_activity_indicator_idx', 'delinquency_12', 'orig_interest_rate', 'orig_upb', 'orig_loan_term', 'orig_ltv', 'orig_cltv', 'num_borrowers', 'dti', 'borrower_credit_score', 'num_units', 'zip', 'mortgage_insurance_percent', 'coborrow_credit_score', 'mortgage_insurance_type', 'datatime', 'orig_channel_idx', 'first_home_buyer_idx', 'loan_purpose_idx', 'property_type_idx', 'occupancy_status_idx', 'property_state_idx', 'relocation_mortgage_indicator_idx', 'product_type_idx']\n"
     ]
    },
    {
     "data": {
      "text/html": [
       "Training takes <font size=6pt color=red>21.12 seconds </font>"
      ],
      "text/plain": [
       "<IPython.core.display.HTML object>"
      ]
     },
     "metadata": {},
     "output_type": "display_data"
    }
   ],
   "source": [
    "for i in range(nrepeat):\n",
    "    sc, spark = start_cntx()\n",
    "    appid = sc.applicationId\n",
    "        \n",
    "    label,features,train_data = load_parquet('file:///home/xgboost/data/xgboost_4M_float.dataframe.parquet')\n",
    "\n",
    "    #startmonitor(clients, appid)\n",
    "    model = train_data_fn(executors_per_node*nodes, train_data, label, features)\n",
    "    model.nativeBooster.saveModel('/home/xgboost/models/withFeaturesCols.bin')\n",
    "    #stopmonitor(clients, sc, appid)\n",
    "    \n",
    "    sc.stop()\n",
    "    \n",
    "    #acc_prof = '/home/xgboost/profile/'+appid      \n",
    "    #xgbtck = acc_prof + '/*/xgbtck.txt'\n",
    "    #dmat_create_times = !grep dmat_time --no-filename $xgbtck | cut -d' ' -f3\n",
    "    #train_loop_times = !grep train_time --no-filename $xgbtck | cut -d' ' -f3\n",
    "    #dmat_create_time = np.array([float(t) for t in dmat_create_times]).max()\n",
    "    #train_loop_time = np.array([float(t) for t in train_loop_times]).max()\n",
    "    #display(HTML(('Time spent in building DMatrix (sec): <font size=6pt color=red>{:f}</font>'.format(dmat_create_time))))\n",
    "    #display(HTML(('Time spent in train loops (sec): <font size=6pt color=red>{:f}</font>'.format(train_loop_time))))\n",
    "\n",
    "    sleep(10)"
   ]
  },
  {
   "cell_type": "code",
   "execution_count": 12,
   "metadata": {},
   "outputs": [],
   "source": [
    "sc.stop()"
   ]
  },
  {
   "cell_type": "code",
   "execution_count": 13,
   "metadata": {},
   "outputs": [
    {
     "name": "stdout",
     "output_type": "stream",
     "text": [
      "/bin/bash: /home/xgboost/miniconda3/lib/libtinfo.so.6: no version information available (required by /bin/bash)\n",
      "bash: /home/xgboost/miniconda3/lib/libtinfo.so.6: no version information available (required by bash)\n",
      "bash: /home/xgboost/miniconda3/lib/libtinfo.so.6: no version information available (required by bash)\n",
      "stopping org.apache.spark.deploy.worker.Worker\n",
      "/bin/bash: /home/xgboost/miniconda3/lib/libtinfo.so.6: no version information available (required by /bin/bash)\n",
      "bash: /home/xgboost/miniconda3/lib/libtinfo.so.6: no version information available (required by bash)\n",
      "bash: /home/xgboost/miniconda3/lib/libtinfo.so.6: no version information available (required by bash)\n",
      "stopping org.apache.spark.deploy.master.Master\n"
     ]
    }
   ],
   "source": [
    "!$SPARK_HOME/sbin/stop-slave.sh\n",
    "!$SPARK_HOME/sbin/stop-master.sh"
   ]
  },
  {
   "cell_type": "code",
   "execution_count": null,
   "metadata": {},
   "outputs": [],
   "source": []
  },
  {
   "cell_type": "code",
   "execution_count": null,
   "metadata": {},
   "outputs": [],
   "source": []
  }
 ],
 "metadata": {
  "kernelspec": {
   "display_name": "Python 3",
   "language": "python",
   "name": "python3"
  },
  "language_info": {
   "codemirror_mode": {
    "name": "ipython",
    "version": 3
   },
   "file_extension": ".py",
   "mimetype": "text/x-python",
   "name": "python",
   "nbconvert_exporter": "python",
   "pygments_lexer": "ipython3",
   "version": "3.8.5"
  },
  "toc": {
   "base_numbering": 1,
   "nav_menu": {},
   "number_sections": true,
   "sideBar": true,
   "skip_h1_title": false,
   "title_cell": "Table of Contents",
   "title_sidebar": "Contents",
   "toc_cell": false,
   "toc_position": {},
   "toc_section_display": true,
   "toc_window_display": false
  },
  "varInspector": {
   "cols": {
    "lenName": 16,
    "lenType": 16,
    "lenVar": 40
   },
   "kernels_config": {
    "python": {
     "delete_cmd_postfix": "",
     "delete_cmd_prefix": "del ",
     "library": "var_list.py",
     "varRefreshCmd": "print(var_dic_list())"
    },
    "r": {
     "delete_cmd_postfix": ") ",
     "delete_cmd_prefix": "rm(",
     "library": "var_list.r",
     "varRefreshCmd": "cat(var_dic_list()) "
    }
   },
   "types_to_exclude": [
    "module",
    "function",
    "builtin_function_or_method",
    "instance",
    "_Feature"
   ],
   "window_display": false
  }
 },
 "nbformat": 4,
 "nbformat_minor": 4
}
