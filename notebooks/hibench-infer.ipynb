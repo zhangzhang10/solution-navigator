{
 "cells": [
  {
   "cell_type": "code",
   "execution_count": 1,
   "metadata": {},
   "outputs": [
    {
     "data": {
      "text/html": [
       "<style>.container { width:100% !important; }</style>"
      ],
      "text/plain": [
       "<IPython.core.display.HTML object>"
      ]
     },
     "metadata": {},
     "output_type": "display_data"
    },
    {
     "data": {
      "text/html": [
       "<style>.CodeMirror{font-family: \"Courier New\";font-size: 12pt;}</style>"
      ],
      "text/plain": [
       "<IPython.core.display.HTML object>"
      ]
     },
     "metadata": {},
     "output_type": "display_data"
    }
   ],
   "source": [
    "from __future__ import nested_scopes\n",
    "from IPython.core.display import display, HTML\n",
    "display(HTML(\"<style>.container { width:100% !important; }</style>\"))\n",
    "display(HTML('<style>.CodeMirror{font-family: \"Courier New\";font-size: 12pt;}</style>'))\n"
   ]
  },
  {
   "cell_type": "code",
   "execution_count": 2,
   "metadata": {},
   "outputs": [],
   "source": [
    "import sys\n",
    "import os\n",
    "import numpy as np\n",
    "\n",
    "os.environ['PYSPARK_SUBMIT_ARGS'] = '--jars /home/xgboost/xgboost4j/jars/xgboost4j_2.12-1.3.3.jar,/home/xgboost/xgboost4j/jars/xgboost4j-spark_2.12-1.3.3.jar,/home/xgboost/xgboost4j/jars/spark-arrow-datasource-standard-1.1.0-jar-with-dependencies.jar pyspark-shell'\n",
    "# os.environ['PYSPARK_SUBMIT_ARGS'] = '--jars /home/xgboost/xgboost4j/jars/xgboost4j_2.12-1.3.3.jar,/home/xgboost/xgboost4j/jars/xgboost4j-spark_2.12-1.3.3.jar,/home/xgboost/xgboost4j/jars/spark-arrow-datasource-0.9.0-jar-with-dependencies.jar pyspark-shell'\n",
    "# os.environ['PYSPARK_SUBMIT_ARGS'] = '--jars /home/xgboost/jars-for-aws-cpu/1.3/xgboost4j_2.12-1.3.3.jar,/home/xgboost/jars-for-aws-cpu/1.3/xgboost4j-spark_2.12-1.3.3.jar pyspark-shell'\n",
    "# os.environ['ARROW_LIBHDFS3_DIR'] = '/home/xgboost/miniconda3/lib'\n",
    "os.environ['LD_LIBRARY_PATH'] = '/home/xgboost/miniconda3/lib'"
   ]
  },
  {
   "cell_type": "code",
   "execution_count": 3,
   "metadata": {},
   "outputs": [],
   "source": [
    "SPARK_HOME='/home/xgboost/spark-3.0.0-bin-hadoop2.7'\n",
    "import findspark\n",
    "findspark.init(SPARK_HOME)"
   ]
  },
  {
   "cell_type": "code",
   "execution_count": 4,
   "metadata": {},
   "outputs": [],
   "source": [
    "from pyspark import SparkConf, SparkContext\n",
    "from pyspark.sql import SQLContext\n",
    "from pyspark.sql import SparkSession\n",
    "from pyspark.sql.types import FloatType, IntegerType, StructField, StructType\n",
    "from time import time, sleep\n",
    "import subprocess\n",
    "import math"
   ]
  },
  {
   "cell_type": "code",
   "execution_count": 5,
   "metadata": {},
   "outputs": [],
   "source": [
    "clients = ['sr572']\n",
    "nrepeat = 1\n",
    "executors_per_node = 1\n",
    "nodes=len(clients)\n",
    "cores_per_executor=8\n",
    "task_per_core=1\n",
    "\n",
    "cache_size=30000\n",
    "arrow_datasource_jar = '/home/xgboost/xgboost4j/jars/spark-arrow-datasource-standard-1.1.0-jar-with-dependencies.jar'\n",
    "#arrow_datasource_jar = '/home/xgboost/xgboost4j/jars/spark-arrow-datasource-0.9.0-jar-with-dependencies.jar'\n",
    "\n",
    "def start_cntx():\n",
    "    conf = SparkConf()\\\n",
    "        .set('spark.default.parallelism', '{:d}'.format(nodes*executors_per_node*cores_per_executor))\\\n",
    "        .set('spark.executor.instances', '{:d}'.format(executors_per_node*nodes))\\\n",
    "        .set('spark.rdd.compress', 'False')\\\n",
    "        .set('spark.files.maxPartitionBytes', '512m')\\\n",
    "        .set('spark.executor.cores','{:d}'.format(cores_per_executor))\\\n",
    "        .set('spark.executor.memory', '20g') \\\n",
    "        .set('spark.executor.memoryOverhead', '4g') \\\n",
    "        .set('spark.task.cpus', '{:d}'.format(task_per_core))\\\n",
    "        .set('spark.driver.memory', '10g')\\\n",
    "        .set('spark.executor.extraJavaOptions',\\\n",
    "            '-XX:+UseParallelGC -XX:+UseParallelOldGC -verbose:gc -XX:+PrintGCDetails')\\\n",
    "        .set('spark.driver.maxResultSize', '0')\\\n",
    "        .set('spark.serializer','org.apache.spark.serializer.KryoSerializer')\\\n",
    "        .set('spark.memory.offHeap.enabled','True')\\\n",
    "        .set('spark.memory.offHeap.size','10g')\\\n",
    "        .set('spark.executorEnv.LD_LIBRARY_PATH', '/home/xgboost/miniconda3/lib')\\\n",
    "        .set('spark.driver.extraClassPath', arrow_datasource_jar) \\\n",
    "        .set('spark.executor.extraClassPath', arrow_datasource_jar) \\\n",
    "        .setAppName('mortgage')\n",
    "\n",
    "    spark = SparkSession.builder\\\n",
    "                .master('spark://sr572:7077')\\\n",
    "                .config(conf=conf)\\\n",
    "                .getOrCreate()\n",
    "        \n",
    "    sc = spark.sparkContext\n",
    "    sc.setLogLevel('INFO')\n",
    "    sc.addPyFile('/home/xgboost/xgboost4j/sparkxgb_1.24.zip')\n",
    "    return sc, spark    "
   ]
  },
  {
   "cell_type": "code",
   "execution_count": 6,
   "metadata": {
    "scrolled": false
   },
   "outputs": [
    {
     "name": "stdout",
     "output_type": "stream",
     "text": [
      "/bin/bash: /home/xgboost/miniconda3/lib/libtinfo.so.6: no version information available (required by /bin/bash)\n",
      "bash: /home/xgboost/miniconda3/lib/libtinfo.so.6: no version information available (required by bash)\n",
      "bash: /home/xgboost/miniconda3/lib/libtinfo.so.6: no version information available (required by bash)\n",
      "starting org.apache.spark.deploy.master.Master, logging to /home/xgboost/spark-3.0.0-bin-hadoop2.7/logs/spark-xgboost-org.apache.spark.deploy.master.Master-1-sr572.out\n",
      "/bin/bash: /home/xgboost/miniconda3/lib/libtinfo.so.6: no version information available (required by /bin/bash)\n",
      "bash: /home/xgboost/miniconda3/lib/libtinfo.so.6: no version information available (required by bash)\n",
      "bash: /home/xgboost/miniconda3/lib/libtinfo.so.6: no version information available (required by bash)\n",
      "starting org.apache.spark.deploy.worker.Worker, logging to /home/xgboost/spark-3.0.0-bin-hadoop2.7/logs/spark-xgboost-org.apache.spark.deploy.worker.Worker-1-sr572.out\n"
     ]
    }
   ],
   "source": [
    "SPARK_HOME='/home/xgboost/spark-3.0.0-bin-hadoop2.7'\n",
    "!$SPARK_HOME/sbin/start-master.sh\n",
    "!$SPARK_HOME/sbin/start-slave.sh spark://sr572:7077 -c 8"
   ]
  },
  {
   "cell_type": "code",
   "execution_count": 7,
   "metadata": {
    "scrolled": false
   },
   "outputs": [
    {
     "name": "stdout",
     "output_type": "stream",
     "text": [
      "******** XGBoostClassificationModel ********\n",
      "+-----+--------------------+--------------------+----------+\n",
      "|label|       rawPrediction|         probability|prediction|\n",
      "+-----+--------------------+--------------------+----------+\n",
      "|  1.0|[-0.8339383602142...|[0.16606163978576...|       1.0|\n",
      "|  1.0|[-0.8501297831535...|[0.14987021684646...|       1.0|\n",
      "|  0.0|[-0.1639787405729...|[0.83602125942707...|       0.0|\n",
      "|  1.0|[-0.9957962036132...|[0.00420379638671...|       1.0|\n",
      "|  1.0|[-0.8613203763961...|[0.13867962360382...|       1.0|\n",
      "+-----+--------------------+--------------------+----------+\n",
      "only showing top 5 rows\n",
      "\n"
     ]
    }
   ],
   "source": [
    "sc, spark = start_cntx()\n",
    "appid = sc.applicationId\n",
    "        \n",
    "test_data = spark.read.format('arrow').load('file:///home/xgboost/data/HiBench10Kx50.dataframe.float.parquet')\n",
    "\n",
    "from sparkxgb import XGBoostClassificationModel\n",
    "model = XGBoostClassificationModel().load('file:///home/xgboost/model')\n",
    "model.transform(test_data).select('label', 'rawPrediction', 'probability', 'prediction').show(5)\n",
    "       \n"
   ]
  },
  {
   "cell_type": "code",
   "execution_count": null,
   "metadata": {},
   "outputs": [],
   "source": []
  },
  {
   "cell_type": "code",
   "execution_count": 8,
   "metadata": {},
   "outputs": [
    {
     "name": "stderr",
     "output_type": "stream",
     "text": [
      "ERROR:root:Exception while sending command.\n",
      "Traceback (most recent call last):\n",
      "  File \"/home/xgboost/spark-3.0.0-bin-hadoop2.7/python/lib/py4j-0.10.9-src.zip/py4j/java_gateway.py\", line 1207, in send_command\n",
      "    raise Py4JNetworkError(\"Answer from Java side is empty\")\n",
      "py4j.protocol.Py4JNetworkError: Answer from Java side is empty\n",
      "\n",
      "During handling of the above exception, another exception occurred:\n",
      "\n",
      "Traceback (most recent call last):\n",
      "  File \"/home/xgboost/spark-3.0.0-bin-hadoop2.7/python/lib/py4j-0.10.9-src.zip/py4j/java_gateway.py\", line 1033, in send_command\n",
      "    response = connection.send_command(command)\n",
      "  File \"/home/xgboost/spark-3.0.0-bin-hadoop2.7/python/lib/py4j-0.10.9-src.zip/py4j/java_gateway.py\", line 1211, in send_command\n",
      "    raise Py4JNetworkError(\n",
      "py4j.protocol.Py4JNetworkError: Error while receiving\n",
      "/home/xgboost/spark-3.0.0-bin-hadoop2.7/python/pyspark/context.py:446: RuntimeWarning: Unable to cleanly shutdown Spark JVM process. It is possible that the process has crashed, been killed or may also be in a zombie state.\n",
      "  warnings.warn(\n"
     ]
    }
   ],
   "source": [
    "sc.stop()"
   ]
  },
  {
   "cell_type": "code",
   "execution_count": 9,
   "metadata": {},
   "outputs": [
    {
     "name": "stdout",
     "output_type": "stream",
     "text": [
      "/bin/bash: /home/xgboost/miniconda3/lib/libtinfo.so.6: no version information available (required by /bin/bash)\n",
      "bash: /home/xgboost/miniconda3/lib/libtinfo.so.6: no version information available (required by bash)\n",
      "bash: /home/xgboost/miniconda3/lib/libtinfo.so.6: no version information available (required by bash)\n",
      "stopping org.apache.spark.deploy.worker.Worker\n",
      "/bin/bash: /home/xgboost/miniconda3/lib/libtinfo.so.6: no version information available (required by /bin/bash)\n",
      "bash: /home/xgboost/miniconda3/lib/libtinfo.so.6: no version information available (required by bash)\n",
      "bash: /home/xgboost/miniconda3/lib/libtinfo.so.6: no version information available (required by bash)\n",
      "stopping org.apache.spark.deploy.master.Master\n"
     ]
    }
   ],
   "source": [
    "!$SPARK_HOME/sbin/stop-slave.sh\n",
    "!$SPARK_HOME/sbin/stop-master.sh"
   ]
  },
  {
   "cell_type": "code",
   "execution_count": null,
   "metadata": {},
   "outputs": [],
   "source": []
  },
  {
   "cell_type": "code",
   "execution_count": null,
   "metadata": {},
   "outputs": [],
   "source": []
  }
 ],
 "metadata": {
  "kernelspec": {
   "display_name": "Python 3",
   "language": "python",
   "name": "python3"
  },
  "language_info": {
   "codemirror_mode": {
    "name": "ipython",
    "version": 3
   },
   "file_extension": ".py",
   "mimetype": "text/x-python",
   "name": "python",
   "nbconvert_exporter": "python",
   "pygments_lexer": "ipython3",
   "version": "3.8.5"
  },
  "toc": {
   "base_numbering": 1,
   "nav_menu": {},
   "number_sections": true,
   "sideBar": true,
   "skip_h1_title": false,
   "title_cell": "Table of Contents",
   "title_sidebar": "Contents",
   "toc_cell": false,
   "toc_position": {},
   "toc_section_display": true,
   "toc_window_display": false
  },
  "varInspector": {
   "cols": {
    "lenName": 16,
    "lenType": 16,
    "lenVar": 40
   },
   "kernels_config": {
    "python": {
     "delete_cmd_postfix": "",
     "delete_cmd_prefix": "del ",
     "library": "var_list.py",
     "varRefreshCmd": "print(var_dic_list())"
    },
    "r": {
     "delete_cmd_postfix": ") ",
     "delete_cmd_prefix": "rm(",
     "library": "var_list.r",
     "varRefreshCmd": "cat(var_dic_list()) "
    }
   },
   "types_to_exclude": [
    "module",
    "function",
    "builtin_function_or_method",
    "instance",
    "_Feature"
   ],
   "window_display": false
  }
 },
 "nbformat": 4,
 "nbformat_minor": 4
}
