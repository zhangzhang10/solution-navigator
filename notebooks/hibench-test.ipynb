{
 "cells": [
  {
   "cell_type": "code",
   "execution_count": 1,
   "metadata": {},
   "outputs": [
    {
     "data": {
      "text/html": [
       "<style>.container { width:100% !important; }</style>"
      ],
      "text/plain": [
       "<IPython.core.display.HTML object>"
      ]
     },
     "metadata": {},
     "output_type": "display_data"
    },
    {
     "data": {
      "text/html": [
       "<style>.CodeMirror{font-family: \"Courier New\";font-size: 12pt;}</style>"
      ],
      "text/plain": [
       "<IPython.core.display.HTML object>"
      ]
     },
     "metadata": {},
     "output_type": "display_data"
    }
   ],
   "source": [
    "from __future__ import nested_scopes\n",
    "from IPython.core.display import display, HTML\n",
    "display(HTML(\"<style>.container { width:100% !important; }</style>\"))\n",
    "display(HTML('<style>.CodeMirror{font-family: \"Courier New\";font-size: 12pt;}</style>'))\n"
   ]
  },
  {
   "cell_type": "code",
   "execution_count": 2,
   "metadata": {},
   "outputs": [],
   "source": [
    "import sys\n",
    "import os\n",
    "import numpy as np\n",
    "\n",
    "os.environ['PYSPARK_SUBMIT_ARGS'] = '--jars /home/xgboost/xgboost4j/jars/xgboost4j_2.12-1.3.3.jar,/home/xgboost/xgboost4j/jars/xgboost4j-spark_2.12-1.3.3.jar,/home/xgboost/xgboost4j/jars/spark-arrow-datasource-standard-1.1.0-jar-with-dependencies.jar pyspark-shell'\n",
    "# os.environ['PYSPARK_SUBMIT_ARGS'] = '--jars /home/xgboost/xgboost4j/jars/xgboost4j_2.12-1.3.3.jar,/home/xgboost/xgboost4j/jars/xgboost4j-spark_2.12-1.3.3.jar,/home/xgboost/xgboost4j/jars/spark-arrow-datasource-0.9.0-jar-with-dependencies.jar pyspark-shell'\n",
    "# os.environ['PYSPARK_SUBMIT_ARGS'] = '--jars /home/xgboost/jars-for-aws-cpu/1.3/xgboost4j_2.12-1.3.3.jar,/home/xgboost/jars-for-aws-cpu/1.3/xgboost4j-spark_2.12-1.3.3.jar,/home/xgboost/xgboost4j/jars/spark-arrow-datasource-0.9.0-jar-with-dependencies.jar pyspark-shell'\n",
    "# os.environ['ARROW_LIBHDFS3_DIR'] = '/home/xgboost/miniconda3/lib'\n",
    "os.environ['LD_LIBRARY_PATH'] = '/home/xgboost/miniconda3/lib'"
   ]
  },
  {
   "cell_type": "code",
   "execution_count": 3,
   "metadata": {},
   "outputs": [],
   "source": [
    "SPARK_HOME='/home/xgboost/spark-3.0.0-bin-hadoop2.7'\n",
    "import findspark\n",
    "findspark.init(SPARK_HOME)"
   ]
  },
  {
   "cell_type": "code",
   "execution_count": 4,
   "metadata": {},
   "outputs": [],
   "source": [
    "from pyspark import SparkConf, SparkContext\n",
    "from pyspark.sql import SQLContext\n",
    "from pyspark.sql import SparkSession\n",
    "from pyspark.sql.types import FloatType, IntegerType, StructField, StructType\n",
    "from time import time, sleep\n",
    "import subprocess\n",
    "import math"
   ]
  },
  {
   "cell_type": "code",
   "execution_count": 5,
   "metadata": {},
   "outputs": [],
   "source": [
    "nrepeat = 1\n",
    "executors_per_node = 1\n",
    "nodes=1\n",
    "cores_per_executor=4\n",
    "task_per_core=1\n",
    "\n",
    "cache_size=30000\n",
    "arrow_datasource_jar = '/home/xgboost/xgboost4j/jars/spark-arrow-datasource-standard-1.1.0-jar-with-dependencies.jar'\n",
    "#arrow_datasource_jar = '/home/xgboost/xgboost4j/jars/spark-arrow-datasource-0.9.0-jar-with-dependencies.jar'\n",
    "\n",
    "def start_cntx():\n",
    "    conf = SparkConf()\\\n",
    "        .set('spark.default.parallelism', '{:d}'.format(nodes*executors_per_node*cores_per_executor))\\\n",
    "        .set('spark.executor.instances', '{:d}'.format(executors_per_node*nodes))\\\n",
    "        .set('spark.rdd.compress', 'False')\\\n",
    "        .set('spark.files.maxPartitionBytes', '512m')\\\n",
    "        .set('spark.executor.cores','{:d}'.format(cores_per_executor))\\\n",
    "        .set('spark.executor.memory', '20g') \\\n",
    "        .set('spark.executor.memoryOverhead', '4g') \\\n",
    "        .set('spark.task.cpus', '{:d}'.format(task_per_core))\\\n",
    "        .set('spark.driver.memory', '10g')\\\n",
    "        .set('spark.executor.extraJavaOptions',\\\n",
    "            '-XX:+UseParallelGC -XX:+UseParallelOldGC -verbose:gc -XX:+PrintGCDetails')\\\n",
    "        .set('spark.driver.maxResultSize', '0')\\\n",
    "        .set('spark.serializer','org.apache.spark.serializer.KryoSerializer')\\\n",
    "        .set('spark.memory.offHeap.enabled','True')\\\n",
    "        .set('spark.memory.offHeap.size','10g')\\\n",
    "        .set('spark.executorEnv.ARROW_LIBHDFS3_DIR', '/home/xgboost/miniconda3/lib')\\\n",
    "        .set('spark.executorEnv.LD_LIBRARY_PATH', '/home/xgboost/miniconda3/lib')\\\n",
    "        .set('spark.driver.extraClassPath', arrow_datasource_jar) \\\n",
    "        .set('spark.executor.extraClassPath', arrow_datasource_jar) \\\n",
    "        .setAppName('mortgage')\n",
    "\n",
    "    spark = SparkSession.builder\\\n",
    "                .master('spark://sr572:7077')\\\n",
    "                .config(conf=conf)\\\n",
    "                .getOrCreate()\n",
    "        \n",
    "    sc = spark.sparkContext\n",
    "    sc.setLogLevel('INFO')\n",
    "    sc.addPyFile('/home/xgboost/xgboost4j/sparkxgb_1.24.zip')\n",
    "    return sc, spark    "
   ]
  },
  {
   "cell_type": "code",
   "execution_count": 6,
   "metadata": {},
   "outputs": [],
   "source": [
    "def train(numWorkers, label, features):\n",
    "    from sparkxgb import XGBoostClassifier\n",
    "    params = { \n",
    "        'labelCol': label,\n",
    "        #'featuresCols': features,\n",
    "        'eta': 0.1,\n",
    "        'gamma': 0.1,\n",
    "        'missing': 0.0,\n",
    "        'treeMethod': 'hist',\n",
    "        'maxDepth': 8, \n",
    "        'maxLeaves': 256,\n",
    "        'alpha':0.9,\n",
    "        'objective':'reg:squarederror',\n",
    "        'growPolicy': 'depthwise',\n",
    "        'minChildWeight': 30.0,\n",
    "        'reg_lambda': 1.0,\n",
    "        'scalePosWeight': 2.0,\n",
    "        'subsample': 1.0,\n",
    "        'numRound': 100,\n",
    "        'maxBin': 256,\n",
    "        'nthread': cores_per_executor,\n",
    "        'numWorkers': numWorkers,\n",
    "        'singlePrecisionHistogram': True,\n",
    "        'verbosity': 3     \n",
    "    }\n",
    "        \n",
    "    #classifier = XGBoostClassifier(**params).setLabelCol(label).setFeaturesCols(features)\n",
    "    classifier = XGBoostClassifier(**params)\n",
    "    return classifier"
   ]
  },
  {
   "cell_type": "code",
   "execution_count": 7,
   "metadata": {},
   "outputs": [],
   "source": [
    "def with_benchmark(phrase, action):\n",
    "    start = time()\n",
    "    result = action()\n",
    "    end = time()\n",
    "    display(HTML(\"{} takes <font size=6pt color=red>{} seconds </font>\".format(phrase, round(end - start, 2))))\n",
    "    return result\n",
    "\n",
    "\n",
    "def train_data_fn(nworker, train_data, label, features):\n",
    "    classifier=train(nworker, label, features)\n",
    "    return with_benchmark('Training', lambda: classifier.fit(train_data))\n",
    "    "
   ]
  },
  {
   "cell_type": "code",
   "execution_count": 8,
   "metadata": {},
   "outputs": [],
   "source": [
    "def load_parquet(path):\n",
    "    label = 'label'\n",
    "    train_data = spark.read.format('arrow').load(path)\n",
    "    print(\"DataFrame schma: \", train_data.schema)\n",
    "    print(\"DataFrame columns: \", train_data.columns)\n",
    "    #print(f'features: ${features}')\n",
    "    #train_data = train_data.coalesce(executors_per_node*nodes)   \n",
    "    return (label,'features',train_data)"
   ]
  },
  {
   "cell_type": "code",
   "execution_count": 9,
   "metadata": {
    "scrolled": false
   },
   "outputs": [
    {
     "name": "stdout",
     "output_type": "stream",
     "text": [
      "DataFrame schma:  StructType(List(StructField(f0,FloatType,true),StructField(f1,FloatType,true),StructField(f2,FloatType,true),StructField(f3,FloatType,true),StructField(f4,FloatType,true),StructField(f5,FloatType,true),StructField(f6,FloatType,true),StructField(f7,FloatType,true),StructField(f8,FloatType,true),StructField(f9,FloatType,true),StructField(f10,FloatType,true),StructField(f11,FloatType,true),StructField(f12,FloatType,true),StructField(f13,FloatType,true),StructField(f14,FloatType,true),StructField(f15,FloatType,true),StructField(f16,FloatType,true),StructField(f17,FloatType,true),StructField(f18,FloatType,true),StructField(f19,FloatType,true),StructField(f20,FloatType,true),StructField(f21,FloatType,true),StructField(f22,FloatType,true),StructField(f23,FloatType,true),StructField(f24,FloatType,true),StructField(f25,FloatType,true),StructField(f26,FloatType,true),StructField(f27,FloatType,true),StructField(f28,FloatType,true),StructField(f29,FloatType,true),StructField(f30,FloatType,true),StructField(f31,FloatType,true),StructField(f32,FloatType,true),StructField(f33,FloatType,true),StructField(f34,FloatType,true),StructField(f35,FloatType,true),StructField(f36,FloatType,true),StructField(f37,FloatType,true),StructField(f38,FloatType,true),StructField(f39,FloatType,true),StructField(f40,FloatType,true),StructField(f41,FloatType,true),StructField(f42,FloatType,true),StructField(f43,FloatType,true),StructField(f44,FloatType,true),StructField(f45,FloatType,true),StructField(f46,FloatType,true),StructField(f47,FloatType,true),StructField(f48,FloatType,true),StructField(f49,FloatType,true),StructField(label,FloatType,true)))\n",
      "DataFrame columns:  ['f0', 'f1', 'f2', 'f3', 'f4', 'f5', 'f6', 'f7', 'f8', 'f9', 'f10', 'f11', 'f12', 'f13', 'f14', 'f15', 'f16', 'f17', 'f18', 'f19', 'f20', 'f21', 'f22', 'f23', 'f24', 'f25', 'f26', 'f27', 'f28', 'f29', 'f30', 'f31', 'f32', 'f33', 'f34', 'f35', 'f36', 'f37', 'f38', 'f39', 'f40', 'f41', 'f42', 'f43', 'f44', 'f45', 'f46', 'f47', 'f48', 'f49', 'label']\n"
     ]
    },
    {
     "data": {
      "text/html": [
       "Training takes <font size=6pt color=red>10.95 seconds </font>"
      ],
      "text/plain": [
       "<IPython.core.display.HTML object>"
      ]
     },
     "metadata": {},
     "output_type": "display_data"
    }
   ],
   "source": [
    "sc, spark = start_cntx()\n",
    "appid = sc.applicationId\n",
    "        \n",
    "label,features,train_data = load_parquet('file:///home/xgboost/data/HiBench10Kx50.dataframe.float.parquet')\n",
    "model = train_data_fn(executors_per_node*nodes, train_data, label, features)\n",
    "#model.write().overwrite().save('file:///home/xgboost/model')\n",
    "\n",
    "#acc_prof = '/home/xgboost/profile/'+appid      \n",
    "#xgbtck = acc_prof + '/*/xgbtck.txt'\n",
    "#dmat_create_times = !grep dmat_time --no-filename $xgbtck | cut -d' ' -f3\n",
    "#train_loop_times = !grep train_time --no-filename $xgbtck | cut -d' ' -f3\n",
    "#dmat_create_time = np.array([float(t) for t in dmat_create_times]).max()\n",
    "#train_loop_time = np.array([float(t) for t in train_loop_times]).max()\n",
    "#display(HTML(('Time spent in building DMatrix (sec): <font size=6pt color=red>{:f}</font>'.format(dmat_create_time))))\n",
    "#display(HTML(('Time spent in train loops (sec): <font size=6pt color=red>{:f}</font>'.format(train_loop_time))))\n",
    "    "
   ]
  },
  {
   "cell_type": "code",
   "execution_count": null,
   "metadata": {},
   "outputs": [],
   "source": []
  },
  {
   "cell_type": "code",
   "execution_count": 10,
   "metadata": {},
   "outputs": [],
   "source": [
    "sc.stop()"
   ]
  },
  {
   "cell_type": "code",
   "execution_count": null,
   "metadata": {},
   "outputs": [],
   "source": []
  }
 ],
 "metadata": {
  "kernelspec": {
   "display_name": "Python 3",
   "language": "python",
   "name": "python3"
  },
  "language_info": {
   "codemirror_mode": {
    "name": "ipython",
    "version": 3
   },
   "file_extension": ".py",
   "mimetype": "text/x-python",
   "name": "python",
   "nbconvert_exporter": "python",
   "pygments_lexer": "ipython3",
   "version": "3.8.5"
  },
  "toc": {
   "base_numbering": 1,
   "nav_menu": {},
   "number_sections": true,
   "sideBar": true,
   "skip_h1_title": false,
   "title_cell": "Table of Contents",
   "title_sidebar": "Contents",
   "toc_cell": false,
   "toc_position": {},
   "toc_section_display": true,
   "toc_window_display": false
  },
  "varInspector": {
   "cols": {
    "lenName": 16,
    "lenType": 16,
    "lenVar": 40
   },
   "kernels_config": {
    "python": {
     "delete_cmd_postfix": "",
     "delete_cmd_prefix": "del ",
     "library": "var_list.py",
     "varRefreshCmd": "print(var_dic_list())"
    },
    "r": {
     "delete_cmd_postfix": ") ",
     "delete_cmd_prefix": "rm(",
     "library": "var_list.r",
     "varRefreshCmd": "cat(var_dic_list()) "
    }
   },
   "types_to_exclude": [
    "module",
    "function",
    "builtin_function_or_method",
    "instance",
    "_Feature"
   ],
   "window_display": false
  }
 },
 "nbformat": 4,
 "nbformat_minor": 4
}
