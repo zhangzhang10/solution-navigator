{
 "cells": [
  {
   "cell_type": "code",
   "execution_count": 1,
   "id": "82f7d07e",
   "metadata": {},
   "outputs": [],
   "source": [
    "from pathlib import Path\n",
    "import pandas as pd"
   ]
  },
  {
   "cell_type": "code",
   "execution_count": 2,
   "id": "404f307b",
   "metadata": {},
   "outputs": [],
   "source": [
    "p = Path('/home/xgboost/data/CD05')\n",
    "fs = [x for x in p.iterdir() if x.is_file()]"
   ]
  },
  {
   "cell_type": "code",
   "execution_count": 5,
   "id": "e5bb0455",
   "metadata": {},
   "outputs": [
    {
     "data": {
      "text/html": [
       "<div>\n",
       "<style scoped>\n",
       "    .dataframe tbody tr th:only-of-type {\n",
       "        vertical-align: middle;\n",
       "    }\n",
       "\n",
       "    .dataframe tbody tr th {\n",
       "        vertical-align: top;\n",
       "    }\n",
       "\n",
       "    .dataframe thead th {\n",
       "        text-align: right;\n",
       "    }\n",
       "</style>\n",
       "<table border=\"1\" class=\"dataframe\">\n",
       "  <thead>\n",
       "    <tr style=\"text-align: right;\">\n",
       "      <th></th>\n",
       "      <th>nycboe_email</th>\n",
       "    </tr>\n",
       "  </thead>\n",
       "  <tbody>\n",
       "    <tr>\n",
       "      <th>0</th>\n",
       "      <td>mlebe@nyc.rr.com</td>\n",
       "    </tr>\n",
       "    <tr>\n",
       "      <th>1</th>\n",
       "      <td>rrubin212@aol.com</td>\n",
       "    </tr>\n",
       "    <tr>\n",
       "      <th>2</th>\n",
       "      <td>JUDITHCRAMER@EARTHLINK.NET</td>\n",
       "    </tr>\n",
       "    <tr>\n",
       "      <th>3</th>\n",
       "      <td>alexandra.satty@gmail.com</td>\n",
       "    </tr>\n",
       "    <tr>\n",
       "      <th>4</th>\n",
       "      <td>meaghan.steele@gmail.com</td>\n",
       "    </tr>\n",
       "    <tr>\n",
       "      <th>...</th>\n",
       "      <td>...</td>\n",
       "    </tr>\n",
       "    <tr>\n",
       "      <th>730</th>\n",
       "      <td>tamara@tamarashulman.com</td>\n",
       "    </tr>\n",
       "    <tr>\n",
       "      <th>731</th>\n",
       "      <td>cleimas@aol.com</td>\n",
       "    </tr>\n",
       "    <tr>\n",
       "      <th>732</th>\n",
       "      <td>bernsteinjonathan@yahoo.com</td>\n",
       "    </tr>\n",
       "    <tr>\n",
       "      <th>733</th>\n",
       "      <td>harrisehordon@gmail.com</td>\n",
       "    </tr>\n",
       "    <tr>\n",
       "      <th>734</th>\n",
       "      <td>rhodaraffaelli@hotmail.com</td>\n",
       "    </tr>\n",
       "  </tbody>\n",
       "</table>\n",
       "<p>735 rows × 1 columns</p>\n",
       "</div>"
      ],
      "text/plain": [
       "                    nycboe_email\n",
       "0               mlebe@nyc.rr.com\n",
       "1              rrubin212@aol.com\n",
       "2     JUDITHCRAMER@EARTHLINK.NET\n",
       "3      alexandra.satty@gmail.com\n",
       "4       meaghan.steele@gmail.com\n",
       "..                           ...\n",
       "730     tamara@tamarashulman.com\n",
       "731              cleimas@aol.com\n",
       "732  bernsteinjonathan@yahoo.com\n",
       "733      harrisehordon@gmail.com\n",
       "734   rhodaraffaelli@hotmail.com\n",
       "\n",
       "[735 rows x 1 columns]"
      ]
     },
     "execution_count": 5,
     "metadata": {},
     "output_type": "execute_result"
    }
   ],
   "source": [
    "tables = []\n",
    "for f in fs:\n",
    "    df = pd.read_excel(fs[0], usecols=['nycboe_email'], engine='openpyxl')\n",
    "    fil = df.nycboe_email.notnull()\n",
    "    tables.append(df.loc[fil].reset_index(drop=True))\n",
    "\n",
    "emails = pd.concat(tables, ignore_index=True)\n",
    "emails"
   ]
  },
  {
   "cell_type": "code",
   "execution_count": 6,
   "id": "9008738b",
   "metadata": {},
   "outputs": [],
   "source": [
    "emails.to_csv('/home/xgboost/data/emails_735.csv', header=None, index=False)"
   ]
  },
  {
   "cell_type": "code",
   "execution_count": null,
   "id": "fcc4a5ff",
   "metadata": {},
   "outputs": [],
   "source": []
  }
 ],
 "metadata": {
  "kernelspec": {
   "display_name": "Python 3",
   "language": "python",
   "name": "python3"
  },
  "language_info": {
   "codemirror_mode": {
    "name": "ipython",
    "version": 3
   },
   "file_extension": ".py",
   "mimetype": "text/x-python",
   "name": "python",
   "nbconvert_exporter": "python",
   "pygments_lexer": "ipython3",
   "version": "3.8.5"
  },
  "toc": {
   "base_numbering": 1,
   "nav_menu": {},
   "number_sections": true,
   "sideBar": true,
   "skip_h1_title": false,
   "title_cell": "Table of Contents",
   "title_sidebar": "Contents",
   "toc_cell": false,
   "toc_position": {},
   "toc_section_display": true,
   "toc_window_display": false
  },
  "varInspector": {
   "cols": {
    "lenName": 16,
    "lenType": 16,
    "lenVar": 40
   },
   "kernels_config": {
    "python": {
     "delete_cmd_postfix": "",
     "delete_cmd_prefix": "del ",
     "library": "var_list.py",
     "varRefreshCmd": "print(var_dic_list())"
    },
    "r": {
     "delete_cmd_postfix": ") ",
     "delete_cmd_prefix": "rm(",
     "library": "var_list.r",
     "varRefreshCmd": "cat(var_dic_list()) "
    }
   },
   "types_to_exclude": [
    "module",
    "function",
    "builtin_function_or_method",
    "instance",
    "_Feature"
   ],
   "window_display": false
  }
 },
 "nbformat": 4,
 "nbformat_minor": 5
}
