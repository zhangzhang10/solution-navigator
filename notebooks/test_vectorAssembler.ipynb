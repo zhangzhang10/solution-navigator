{
 "cells": [
  {
   "cell_type": "code",
   "execution_count": 1,
   "id": "fa1b17ba",
   "metadata": {},
   "outputs": [],
   "source": [
    "import os\n",
    "from pathlib import Path\n",
    "\n",
    "# Get $HOME\n",
    "home = str(Path.home())\n",
    "\n",
    "# $SPARK_HOME\n",
    "spark_home = '/home/xgboost/spark-3.0.0-bin-hadoop2.7'\n",
    "\n",
    "import findspark\n",
    "findspark.init(spark_home)\n",
    "\n",
    "import pyspark\n",
    "from pyspark import SparkConf, SparkContext\n",
    "from pyspark.sql import SparkSession\n",
    "from pyspark.sql import functions as F\n",
    "from pyspark.ml.feature import VectorAssembler\n",
    "from pyspark.ml import Pipeline\n",
    "from pyspark.ml.linalg import SparseVector, DenseVector, Vectors, VectorUDT"
   ]
  },
  {
   "cell_type": "code",
   "execution_count": 2,
   "id": "576cc80b",
   "metadata": {},
   "outputs": [],
   "source": [
    "spark = SparkSession.builder\\\n",
    "                .master('local[4]')\\\n",
    "                .getOrCreate()\n",
    "sc = spark.sparkContext"
   ]
  },
  {
   "cell_type": "code",
   "execution_count": 3,
   "id": "939b1c71",
   "metadata": {},
   "outputs": [
    {
     "name": "stdout",
     "output_type": "stream",
     "text": [
      "+---+---+---+---+---+\n",
      "|  a|  b|  c|  d|  e|\n",
      "+---+---+---+---+---+\n",
      "|  1|  2|  0|  0|  0|\n",
      "|  1|  2|  3|  0|  0|\n",
      "|  1|  2|  4|  5|  0|\n",
      "|  1|  2|  2|  5|  6|\n",
      "+---+---+---+---+---+\n",
      "\n"
     ]
    }
   ],
   "source": [
    "x = [[1,2,0,0,0], [1,2,3,0,0], [1,2,4,5,0], [1,2,2,5,6]]\n",
    "df = sc.parallelize(x).toDF(['a', 'b', 'c', 'd', 'e'])\n",
    "df.show()"
   ]
  },
  {
   "cell_type": "code",
   "execution_count": 4,
   "id": "4b43b1ba",
   "metadata": {
    "scrolled": true
   },
   "outputs": [],
   "source": [
    "input_cols = ['a', 'b', 'c', 'd', 'e']\n",
    "vec_assembler = VectorAssembler(inputCols=input_cols, outputCol='features').setHandleInvalid('keep')\n",
    "#res1 = vec_assembler.transform(df)\n",
    "#res1.show()"
   ]
  },
  {
   "cell_type": "code",
   "execution_count": 5,
   "id": "326a111b",
   "metadata": {},
   "outputs": [
    {
     "name": "stdout",
     "output_type": "stream",
     "text": [
      "+---+---+---+---+---+--------------------+\n",
      "|  a|  b|  c|  d|  e|            features|\n",
      "+---+---+---+---+---+--------------------+\n",
      "|  1|  2|  0|  0|  0| (5,[0,1],[1.0,2.0])|\n",
      "|  1|  2|  3|  0|  0|[1.0,2.0,3.0,0.0,...|\n",
      "|  1|  2|  4|  5|  0|[1.0,2.0,4.0,5.0,...|\n",
      "|  1|  2|  2|  5|  6|[1.0,2.0,2.0,5.0,...|\n",
      "+---+---+---+---+---+--------------------+\n",
      "\n"
     ]
    }
   ],
   "source": [
    "pipeline = Pipeline().setStages([vec_assembler])\n",
    "pipeline_model = pipeline.fit(df)\n",
    "res2 = pipeline_model.transform(df)\n",
    "res2.show()"
   ]
  },
  {
   "cell_type": "code",
   "execution_count": 6,
   "id": "926aae77",
   "metadata": {},
   "outputs": [
    {
     "name": "stdout",
     "output_type": "stream",
     "text": [
      "+---+---+---+---+---+--------------------+\n",
      "|  a|  b|  c|  d|  e|            features|\n",
      "+---+---+---+---+---+--------------------+\n",
      "|  1|  2|  0|  0|  0|[1.0,2.0,0.0,0.0,...|\n",
      "|  1|  2|  3|  0|  0|[1.0,2.0,3.0,0.0,...|\n",
      "|  1|  2|  4|  5|  0|[1.0,2.0,4.0,5.0,...|\n",
      "|  1|  2|  2|  5|  6|[1.0,2.0,2.0,5.0,...|\n",
      "+---+---+---+---+---+--------------------+\n",
      "\n"
     ]
    }
   ],
   "source": [
    "toDense = lambda v: DenseVector(v.toArray())\n",
    "toDenseUdf = F.udf(toDense, VectorUDT())\n",
    "\n",
    "res2.withColumn('features', toDenseUdf('features')).show()"
   ]
  },
  {
   "cell_type": "code",
   "execution_count": 7,
   "id": "5efe52bc",
   "metadata": {},
   "outputs": [],
   "source": [
    "sc.stop()"
   ]
  },
  {
   "cell_type": "code",
   "execution_count": null,
   "id": "f59aaee6",
   "metadata": {},
   "outputs": [],
   "source": []
  }
 ],
 "metadata": {
  "kernelspec": {
   "display_name": "Python 3",
   "language": "python",
   "name": "python3"
  },
  "language_info": {
   "codemirror_mode": {
    "name": "ipython",
    "version": 3
   },
   "file_extension": ".py",
   "mimetype": "text/x-python",
   "name": "python",
   "nbconvert_exporter": "python",
   "pygments_lexer": "ipython3",
   "version": "3.8.5"
  },
  "toc": {
   "base_numbering": 1,
   "nav_menu": {},
   "number_sections": true,
   "sideBar": true,
   "skip_h1_title": false,
   "title_cell": "Table of Contents",
   "title_sidebar": "Contents",
   "toc_cell": false,
   "toc_position": {},
   "toc_section_display": true,
   "toc_window_display": false
  },
  "varInspector": {
   "cols": {
    "lenName": 16,
    "lenType": 16,
    "lenVar": 40
   },
   "kernels_config": {
    "python": {
     "delete_cmd_postfix": "",
     "delete_cmd_prefix": "del ",
     "library": "var_list.py",
     "varRefreshCmd": "print(var_dic_list())"
    },
    "r": {
     "delete_cmd_postfix": ") ",
     "delete_cmd_prefix": "rm(",
     "library": "var_list.r",
     "varRefreshCmd": "cat(var_dic_list()) "
    }
   },
   "types_to_exclude": [
    "module",
    "function",
    "builtin_function_or_method",
    "instance",
    "_Feature"
   ],
   "window_display": false
  }
 },
 "nbformat": 4,
 "nbformat_minor": 5
}
